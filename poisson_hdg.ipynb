{
 "cells": [
  {
   "cell_type": "markdown",
   "metadata": {},
   "source": [
    "# Escuela Doctoral de Matematica Aplicada\n",
    "## Manuel A. Sanchez\n",
    "### Pontificia Universidad Catolica de Chile"
   ]
  },
  {
   "cell_type": "markdown",
   "metadata": {},
   "source": [
    "# Problema de Poisson\n",
    "\\begin{equation*}\n",
    "\\begin{array}{rclll}\n",
    "-\\Delta u &=& f&\\mbox{en}&\\Omega:=(0,1)^{2} \\\\\n",
    "u &=& u_D& \\mbox{sobre}& \\partial \\Omega_D \\\\\n",
    "\\nabla u\\cdot n&=& g_N&\\mbox{sobre} &\\partial \\Omega_N\n",
    "\\end{array}\n",
    "\\end{equation*}\n",
    "\n",
    "donde \n",
    "\n",
    "\\begin{equation*}\n",
    "\\partial \\Omega_D:=\\{ (0,y)\\cup (1,y) \\subset \\partial \\Omega \\}, \\quad \\partial \\Omega_N = \\partial \\Omega \\backslash \\partial \\Omega_D.\n",
    "\\end{equation*}\n",
    "\n",
    "y para \n",
    "\n",
    "\\begin{equation*}\n",
    "\\begin{array}{rcl}\n",
    "f &= &10\\exp(-50 ( (x- \\frac{1}{2})^{2} + (y - \\frac{1}{2})^2)) \\\\\n",
    "u_D&=& 1\\\\\n",
    "g_N&=& \\sin(5x) \n",
    "\\end{array}\n",
    "\\end{equation*}\n",
    "\n",
    "Calcule la soluci\\'on aproximada para $p=1$ y $h= 0.05$. Presente la gr\\'afica de la soluci\\'on aproximada."
   ]
  },
  {
   "cell_type": "markdown",
   "metadata": {},
   "source": [
    "# NGSolve: Metodo de HDG"
   ]
  },
  {
   "cell_type": "markdown",
   "metadata": {},
   "source": [
    "###  Importar librerias y modulos"
   ]
  },
  {
   "cell_type": "code",
   "execution_count": 8,
   "metadata": {},
   "outputs": [],
   "source": [
    "from ngsolve import * # libreria de NGVolve\n",
    "from netgen.geom2d import unit_square # dominio\n",
    "from ngsolve.webgui import Draw # comando para graficar en jupyter\n",
    "from ngsolve.la import EigenValues_Preconditioner"
   ]
  },
  {
   "cell_type": "markdown",
   "metadata": {},
   "source": [
    "### Dominio y triangulacion del problema"
   ]
  },
  {
   "cell_type": "code",
   "execution_count": 9,
   "metadata": {},
   "outputs": [],
   "source": [
    "mesh = Mesh(unit_square.GenerateMesh(maxh=0.1))"
   ]
  },
  {
   "cell_type": "markdown",
   "metadata": {},
   "source": [
    "### Resolveremos el problema de Poisson con datos"
   ]
  },
  {
   "cell_type": "code",
   "execution_count": 10,
   "metadata": {},
   "outputs": [],
   "source": [
    "force = 10*exp(-50*((x-0.5)**2)+(y-0.5)**2)\n",
    "uD    = 1        # en lado y=0, y=1\n",
    "gN    = sin(5*x) # en lado x=0, x=1"
   ]
  },
  {
   "cell_type": "markdown",
   "metadata": {},
   "source": [
    "### Subespacio de elementos finitos, continuas y polinomiales de orden p a trozos"
   ]
  },
  {
   "cell_type": "code",
   "execution_count": 11,
   "metadata": {},
   "outputs": [
    {
     "name": "stdout",
     "output_type": "stream",
     "text": [
      "sigmadofs: [0,1380)\n",
      "udofs:     [1380,2070)\n",
      "uhatdofs:  [2070,2800)\n"
     ]
    }
   ],
   "source": [
    "# Space\n",
    "p = 1\n",
    "Vh = VectorL2(mesh, order=p)\n",
    "Wh = L2(mesh, order=p)\n",
    "Mh = FacetFESpace(mesh, order=p, dirichlet=\"left|right\")\n",
    "\n",
    "fes = FESpace([Vh,Wh,Mh])\n",
    "\n",
    "print (\"sigmadofs:\", fes.Range(0))\n",
    "print (\"udofs:    \", fes.Range(1))\n",
    "print (\"uhatdofs: \", fes.Range(2))\n",
    "\n",
    "qh, uh, uhat = fes.TrialFunction()\n",
    "vh, wh, what = fes.TestFunction()"
   ]
  },
  {
   "cell_type": "markdown",
   "metadata": {},
   "source": [
    "### Forma bilineal de HDG asociada al problema de Poisson"
   ]
  },
  {
   "cell_type": "code",
   "execution_count": 12,
   "metadata": {},
   "outputs": [
    {
     "data": {
      "text/plain": [
       "<ngsolve.comp.BilinearForm at 0x21140434270>"
      ]
     },
     "execution_count": 12,
     "metadata": {},
     "output_type": "execute_result"
    }
   ],
   "source": [
    "# stabilization parameter\n",
    "tau = 1.0\n",
    "# vector normal\n",
    "n = specialcf.normal(mesh.dim)\n",
    "# flujo numerico de HDG\n",
    "qhatn = qh*n+tau*(uh-uhat)\n",
    "\n",
    "# resolver solo para uhat\n",
    "condense=True\n",
    "a = BilinearForm(fes, condense=condense)\n",
    "a += (qh*vh - uh*div(vh) - qh*grad(wh))*dx\n",
    "a += uhat*vh*n*dx(element_boundary=True)\n",
    "a += qhatn*wh*dx(element_boundary=True)\n",
    "a += qhatn*what*dx(element_boundary=True)\n",
    "\n",
    "c = Preconditioner(a, \"bddc\")\n",
    "a.Assemble()"
   ]
  },
  {
   "cell_type": "markdown",
   "metadata": {},
   "source": [
    "### Funcional lineal del problema "
   ]
  },
  {
   "cell_type": "code",
   "execution_count": 13,
   "metadata": {},
   "outputs": [
    {
     "data": {
      "text/plain": [
       "<ngsolve.comp.LinearForm at 0x211404311b0>"
      ]
     },
     "execution_count": 13,
     "metadata": {},
     "output_type": "execute_result"
    }
   ],
   "source": [
    "f = LinearForm(fes)\n",
    "f += force*wh*dx\n",
    "# boundary term for neumann \n",
    "f += -gN*what.Trace()*ds(definedon=\"top|bottom\")\n",
    "f.Assemble()"
   ]
  },
  {
   "cell_type": "markdown",
   "metadata": {},
   "source": [
    "### Imponer condicion de Dirichlet"
   ]
  },
  {
   "cell_type": "code",
   "execution_count": 14,
   "metadata": {},
   "outputs": [],
   "source": [
    "gf = GridFunction(fes)\n",
    "gfq, gfu, gfuhat = gf.components \n",
    "# set Dirichlet boudary condition\n",
    "gfuhat.Set(uD, BND)"
   ]
  },
  {
   "cell_type": "markdown",
   "metadata": {},
   "source": [
    "### Resolver el sistema lineal para uhat y recuperar uh y qh"
   ]
  },
  {
   "cell_type": "code",
   "execution_count": 19,
   "metadata": {},
   "outputs": [
    {
     "name": "stdout",
     "output_type": "stream",
     "text": [
      "CG iteration 1, residual = 1.2048355733885812     \n",
      "CG iteration 2, residual = 0.1418347800735328     \n",
      "CG iteration 3, residual = 0.008053155002708718     \n",
      "CG iteration 4, residual = 0.0008944689563761696     \n",
      "CG iteration 5, residual = 0.00012355841130133095     \n",
      "CG iteration 6, residual = 3.435667864802125e-05     \n",
      "CG iteration 7, residual = 1.081972706481021e-05     \n",
      "CG iteration 8, residual = 1.7375120615792677e-06     \n",
      "CG iteration 9, residual = 2.6703641667699506e-07     \n",
      "CG iteration 10, residual = 7.06653227987738e-08     \n",
      "CG iteration 11, residual = 1.6977348576662445e-08     \n",
      "CG iteration 12, residual = 3.2106547175336868e-09     \n",
      "CG iteration 13, residual = 7.078449418309436e-10     \n",
      "CG iteration 14, residual = 1.2849251059181276e-10     \n",
      "CG iteration 15, residual = 3.276941132753706e-11     \n",
      "CG iteration 16, residual = 6.5914868139915924e-12     \n",
      "CG iteration 17, residual = 1.1614491751476432e-12     \n",
      "lambda: \n"
     ]
    },
    {
     "ename": "ValueError",
     "evalue": "max() arg is an empty sequence",
     "output_type": "error",
     "traceback": [
      "\u001b[1;31m---------------------------------------------------------------------------\u001b[0m",
      "\u001b[1;31mValueError\u001b[0m                                Traceback (most recent call last)",
      "\u001b[1;32m~\\AppData\\Local\\Temp\\ipykernel_26476\\3968868238.py\u001b[0m in \u001b[0;36m<module>\u001b[1;34m\u001b[0m\n\u001b[0;32m     10\u001b[0m     \u001b[0mlams\u001b[0m \u001b[1;33m=\u001b[0m \u001b[0mEigenValues_Preconditioner\u001b[0m\u001b[1;33m(\u001b[0m\u001b[0mmat\u001b[0m\u001b[1;33m=\u001b[0m\u001b[0ma\u001b[0m\u001b[1;33m.\u001b[0m\u001b[0mmat\u001b[0m\u001b[1;33m,\u001b[0m \u001b[0mpre\u001b[0m\u001b[1;33m=\u001b[0m\u001b[0mpreJpoint\u001b[0m\u001b[1;33m)\u001b[0m\u001b[1;33m\u001b[0m\u001b[1;33m\u001b[0m\u001b[0m\n\u001b[0;32m     11\u001b[0m     \u001b[0mprint\u001b[0m\u001b[1;33m(\u001b[0m\u001b[1;34m\"lambda:\"\u001b[0m\u001b[1;33m,\u001b[0m \u001b[0mlams\u001b[0m\u001b[1;33m)\u001b[0m\u001b[1;33m\u001b[0m\u001b[1;33m\u001b[0m\u001b[0m\n\u001b[1;32m---> 12\u001b[1;33m     \u001b[0mcondnum\u001b[0m \u001b[1;33m=\u001b[0m \u001b[0mmax\u001b[0m\u001b[1;33m(\u001b[0m\u001b[0mlams\u001b[0m\u001b[1;33m)\u001b[0m\u001b[1;33m/\u001b[0m\u001b[0mmin\u001b[0m\u001b[1;33m(\u001b[0m\u001b[0mlams\u001b[0m\u001b[1;33m)\u001b[0m\u001b[1;33m\u001b[0m\u001b[1;33m\u001b[0m\u001b[0m\n\u001b[0m\u001b[0;32m     13\u001b[0m \u001b[1;32melse\u001b[0m\u001b[1;33m:\u001b[0m\u001b[1;33m\u001b[0m\u001b[1;33m\u001b[0m\u001b[0m\n\u001b[0;32m     14\u001b[0m \u001b[1;33m\u001b[0m\u001b[0m\n",
      "\u001b[1;31mValueError\u001b[0m: max() arg is an empty sequence"
     ]
    }
   ],
   "source": [
    "if condense:\n",
    "    f.vec.data += a.harmonic_extension_trans * f.vec\n",
    "    \n",
    "    solvers.CG(mat = a.mat, pre=c.mat, rhs=f.vec, sol=gf.vec, initialize=False)\n",
    "    \n",
    "    gf.vec.data += a.harmonic_extension * gf.vec\n",
    "    gf.vec.data += a.inner_solve * f.vec\n",
    "    \n",
    "    preJpoint = a.mat.CreateSmoother(fes.FreeDofs(condense))\n",
    "    lams = EigenValues_Preconditioner(mat=a.mat, pre=preJpoint)\n",
    "    print(\"lambda:\", lams)\n",
    "    condnum = max(lams)/min(lams)\n",
    "else:\n",
    "\n",
    "    r = f.vec.CreateVector()\n",
    "    r.data = f.vec - a.mat * gf.vec\n",
    "    inv = a.mat.Inverse(freedofs=X.FreeDofs())\n",
    "    gf.vec.data += inv * r"
   ]
  },
  {
   "cell_type": "markdown",
   "metadata": {},
   "source": [
    "### Graficar solucion"
   ]
  },
  {
   "cell_type": "code",
   "execution_count": 9,
   "metadata": {
    "scrolled": false
   },
   "outputs": [
    {
     "data": {
      "application/vnd.jupyter.widget-view+json": {
       "model_id": "c4af11770b69466da5ede10eeb7d8903",
       "version_major": 2,
       "version_minor": 0
      },
      "text/plain": [
       "WebGuiWidget(value={'ngsolve_version': '6.2.2203', 'mesh_dim': 2, 'order2d': 2, 'order3d': 2, 'draw_vol': Fals…"
      ]
     },
     "metadata": {},
     "output_type": "display_data"
    },
    {
     "data": {
      "application/vnd.jupyter.widget-view+json": {
       "model_id": "d953082ab11242239276c26d10372f56",
       "version_major": 2,
       "version_minor": 0
      },
      "text/plain": [
       "WebGuiWidget(value={'ngsolve_version': '6.2.2203', 'mesh_dim': 2, 'order2d': 2, 'order3d': 2, 'draw_vol': Fals…"
      ]
     },
     "metadata": {},
     "output_type": "display_data"
    },
    {
     "data": {
      "text/plain": [
       "BaseWebGuiScene"
      ]
     },
     "execution_count": 9,
     "metadata": {},
     "output_type": "execute_result"
    }
   ],
   "source": [
    "Draw(gfu, mesh, \"uh\")\n",
    "Draw(gfq[0], mesh, \"qh\")\n",
    "#Draw(gfuhat, mesh, \"uhat\", facet=True)"
   ]
  },
  {
   "cell_type": "code",
   "execution_count": null,
   "metadata": {},
   "outputs": [],
   "source": []
  }
 ],
 "metadata": {
  "hide_input": false,
  "kernelspec": {
   "display_name": "Python 3 (ipykernel)",
   "language": "python",
   "name": "python3"
  },
  "language_info": {
   "codemirror_mode": {
    "name": "ipython",
    "version": 3
   },
   "file_extension": ".py",
   "mimetype": "text/x-python",
   "name": "python",
   "nbconvert_exporter": "python",
   "pygments_lexer": "ipython3",
   "version": "3.7.9"
  },
  "varInspector": {
   "cols": {
    "lenName": 16,
    "lenType": 16,
    "lenVar": 40
   },
   "kernels_config": {
    "python": {
     "delete_cmd_postfix": "",
     "delete_cmd_prefix": "del ",
     "library": "var_list.py",
     "varRefreshCmd": "print(var_dic_list())"
    },
    "r": {
     "delete_cmd_postfix": ") ",
     "delete_cmd_prefix": "rm(",
     "library": "var_list.r",
     "varRefreshCmd": "cat(var_dic_list()) "
    }
   },
   "types_to_exclude": [
    "module",
    "function",
    "builtin_function_or_method",
    "instance",
    "_Feature"
   ],
   "window_display": false
  }
 },
 "nbformat": 4,
 "nbformat_minor": 4
}
