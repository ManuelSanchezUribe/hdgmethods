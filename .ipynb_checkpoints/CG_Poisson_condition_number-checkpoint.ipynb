{
 "cells": [
  {
   "cell_type": "markdown",
   "id": "372e0035",
   "metadata": {},
   "source": [
    "# CG for Poisson problem\n",
    "## Numerical experiments for the conditioning"
   ]
  },
  {
   "cell_type": "markdown",
   "id": "f3f5785c",
   "metadata": {},
   "source": [
    "Consider the Posson problem on $\\Omega\\subseteq\\mathbb R^{d}$, $d=2,3$.\n",
    "\n",
    "\\begin{equation*}\n",
    "\\begin{array}{rclll}\n",
    "-\\Delta u &=& f&\\mbox{in}&\\Omega \\\\\n",
    "u &=& u_D& \\mbox{on}& \\partial \\Omega\n",
    "\\end{array}\n",
    "\\end{equation*}"
   ]
  },
  {
   "cell_type": "code",
   "execution_count": 1,
   "id": "716dd8bf",
   "metadata": {},
   "outputs": [],
   "source": [
    "from ngsolve import *\n",
    "from netgen.geom2d import unit_square \n",
    "from ngsolve.webgui import Draw \n",
    "from ngsolve.la import EigenValues_Preconditioner\n",
    "import scipy.sparse as sp\n",
    "from scipy.sparse.linalg import eigs, eigsh\n",
    "import numpy as np\n",
    "import matplotlib.pyplot as plt\n",
    "np.set_printoptions(precision=3)\n",
    "import pandas as pd"
   ]
  },
  {
   "cell_type": "code",
   "execution_count": 68,
   "id": "0c3ba5b4",
   "metadata": {},
   "outputs": [],
   "source": [
    "def SetUp_CG(mesh,p, db, condense=False):\n",
    "    fes = H1(mesh, order=p, dirichlet=db)\n",
    "    u, v = fes.TnT()\n",
    "    # Bilinear form\n",
    "    a = BilinearForm(fes, condense=condense)\n",
    "    a += (grad(u)*grad(v))*dx\n",
    "    a.Assemble();\n",
    "    return a, fes\n",
    "\n",
    "def SolvePoisson_CG(mesh, p, force, uD, db, condense): # Dirichlet boundary conditions\n",
    "    a, fes = SetUp_CG(mesh, p, db, condense)\n",
    "    v = fes.TestFunction()\n",
    "    f = LinearForm(fes)\n",
    "    f += (force*v)*dx\n",
    "    f.Assemble()\n",
    "    gf = GridFunction(fes)\n",
    "    gf.Set(uD, BND)\n",
    "    if condense:\n",
    "        gf.vec.data += a.harmonic_extension * gf.vec\n",
    "        invS = a.mat.Inverse(freedofs=fes.FreeDofs(coupling=True))\n",
    "        ext = IdentityMatrix() + a.harmonic_extension\n",
    "        extT = IdentityMatrix() + a.harmonic_extension_trans\n",
    "        invA =  ext @ invS @ extT + a.inner_solve\n",
    "        print(\"condensed system, N dof:\", fes.ndof)\n",
    "        print(\"dof:\", fes.FreeDofs(condense))\n",
    "    else:\n",
    "        invA = a.mat.Inverse(freedofs=fes.FreeDofs(coupling=False))\n",
    "        print(\"full system, N dof:\", fes.ndof)\n",
    "        print(\"dof:\", fes.FreeDofs(condense))\n",
    "        \n",
    "    gf.vec.data += invA * (f.vec - a.mat*gf.vec)\n",
    "    \n",
    "    return gf"
   ]
  },
  {
   "cell_type": "code",
   "execution_count": 69,
   "id": "b6e130b0",
   "metadata": {},
   "outputs": [],
   "source": [
    "def get_kappa(mesh,p, db, condense):\n",
    "    a, fes=SetUp_CG(mesh, p, db, condense)\n",
    "    # sparse scipy matrix\n",
    "    rows,cols,vals = a.mat.COO()\n",
    "    A = sp.csr_matrix((vals,(rows,cols)))\n",
    "    # restrict to freedof\n",
    "    fd = list(fes.FreeDofs(condense))\n",
    "    Afree = A[fd,:][:,fd]\n",
    "    # Estimate condition number kappa\n",
    "    lams_LM = eigsh(Afree, which='LM')[0]\n",
    "    lams_SM = eigsh(Afree, which='SM', maxiter=10**5)[0]\n",
    "    lams = np.concatenate((lams_LM, lams_SM))\n",
    "    print(p, lams)\n",
    "    kappa = max(lams)/min(lams)\n",
    "    return kappa"
   ]
  },
  {
   "cell_type": "code",
   "execution_count": 70,
   "id": "3de3de72",
   "metadata": {},
   "outputs": [],
   "source": [
    "def test_condition_number_fixmesh(mesh, db, condense=False, pmax=6):\n",
    "    kappa=[]\n",
    "    p = [i for i in range(2,pmax+1)]\n",
    "    for pi in p:\n",
    "        kappa.append(get_kappa(mesh, pi, db, condense))\n",
    "    return p, kappa"
   ]
  },
  {
   "cell_type": "markdown",
   "id": "0599d3f6-92bb-49fd-bd64-5558d3a1050f",
   "metadata": {},
   "source": [
    "# Two-dimensional problem"
   ]
  },
  {
   "cell_type": "code",
   "execution_count": 71,
   "id": "97b5ba10",
   "metadata": {},
   "outputs": [],
   "source": [
    "# Data\n",
    "force2d = ((2*pi**2))*sin(pi*x)*sin(pi*y)\n",
    "uD    = 0        \n",
    "dirichlet_boundary2d = 'left|bottom|right|top'"
   ]
  },
  {
   "cell_type": "code",
   "execution_count": 72,
   "id": "de2b037b",
   "metadata": {},
   "outputs": [],
   "source": [
    "# Fix h\n",
    "h = .25\n",
    "mesh2d = Mesh(unit_square.GenerateMesh(maxh=h))\n",
    "# Draw(mesh)"
   ]
  },
  {
   "cell_type": "code",
   "execution_count": 74,
   "id": "9940761e",
   "metadata": {},
   "outputs": [
    {
     "name": "stdout",
     "output_type": "stream",
     "text": [
      "full system, N dof: 466\n"
     ]
    },
    {
     "data": {
      "application/vnd.jupyter.widget-view+json": {
       "model_id": "7f5a0a4e009246ec8afd03c9cd512ec0",
       "version_major": 2,
       "version_minor": 0
      },
      "text/plain": [
       "WebGuiWidget(layout=Layout(height='50vh', width='100%'), value={'gui_settings': {}, 'ngsolve_version': '6.2.22…"
      ]
     },
     "metadata": {},
     "output_type": "display_data"
    },
    {
     "data": {
      "text/plain": [
       "BaseWebGuiScene"
      ]
     },
     "execution_count": 74,
     "metadata": {},
     "output_type": "execute_result"
    }
   ],
   "source": [
    "gfu = SolvePoisson_CG(mesh2d, p=5,force=force2d, uD=uD, db=dirichlet_boundary2d, condense=False)\n",
    "Draw(gfu)"
   ]
  },
  {
   "cell_type": "markdown",
   "id": "a6cda346",
   "metadata": {},
   "source": [
    "## Condition number - Two-dimensional case"
   ]
  },
  {
   "cell_type": "code",
   "execution_count": 40,
   "id": "23e46724",
   "metadata": {},
   "outputs": [
    {
     "name": "stdout",
     "output_type": "stream",
     "text": [
      "2 [3.732 3.925 4.632 4.946 5.23  5.598 0.023 0.027 0.029 0.03  0.034 0.035]\n",
      "3 [3.732 3.925 4.632 4.946 5.23  5.598 0.009 0.009 0.011 0.011 0.011 0.011]\n",
      "4 [3.732e+00 3.925e+00 4.632e+00 4.946e+00 5.230e+00 5.598e+00 4.260e-03\n",
      " 4.384e-03 5.104e-03 5.161e-03 5.161e-03 5.202e-03]\n",
      "5 [3.732e+00 3.925e+00 4.632e+00 4.946e+00 5.230e+00 5.598e+00 2.347e-03\n",
      " 2.371e-03 2.771e-03 2.803e-03 2.809e-03 2.867e-03]\n",
      "6 [3.732e+00 3.925e+00 4.632e+00 4.946e+00 5.230e+00 5.598e+00 1.424e-03\n",
      " 1.435e-03 1.691e-03 1.703e-03 1.706e-03 1.720e-03]\n",
      "7 [3.732e+00 3.925e+00 4.632e+00 4.946e+00 5.230e+00 5.598e+00 9.261e-04\n",
      " 9.342e-04 1.100e-03 1.107e-03 1.109e-03 1.121e-03]\n",
      "8 [3.732e+00 3.925e+00 4.632e+00 4.946e+00 5.230e+00 5.598e+00 6.370e-04\n",
      " 6.413e-04 7.573e-04 7.619e-04 7.628e-04 7.682e-04]\n",
      "9 [3.732e+00 3.925e+00 4.632e+00 4.946e+00 5.230e+00 5.598e+00 4.561e-04\n",
      " 4.596e-04 5.426e-04 5.456e-04 5.463e-04 5.506e-04]\n",
      "10 [3.732e+00 3.925e+00 4.632e+00 4.946e+00 5.230e+00 5.598e+00 3.380e-04\n",
      " 3.403e-04 4.022e-04 4.044e-04 4.048e-04 4.075e-04]\n",
      "11 [3.732e+00 3.925e+00 4.632e+00 4.946e+00 5.230e+00 5.598e+00 2.573e-04\n",
      " 2.591e-04 3.062e-04 3.078e-04 3.081e-04 3.103e-04]\n",
      "12 [3.732e+00 3.925e+00 4.632e+00 4.946e+00 5.230e+00 5.598e+00 2.004e-04\n",
      " 2.018e-04 2.385e-04 2.398e-04 2.400e-04 2.416e-04]\n",
      "13 [3.732e+00 3.925e+00 4.632e+00 4.946e+00 5.230e+00 5.598e+00 1.591e-04\n",
      " 1.602e-04 1.894e-04 1.904e-04 1.905e-04 1.918e-04]\n",
      "14 [3.732e+00 3.925e+00 4.632e+00 4.946e+00 5.230e+00 5.598e+00 1.285e-04\n",
      " 1.293e-04 1.529e-04 1.537e-04 1.538e-04 1.548e-04]\n",
      "15 [3.732e+00 3.925e+00 4.632e+00 4.946e+00 5.230e+00 5.598e+00 1.052e-04\n",
      " 1.059e-04 1.252e-04 1.258e-04 1.259e-04 1.268e-04]\n",
      "16 [3.732e+00 3.925e+00 4.632e+00 4.946e+00 5.230e+00 5.598e+00 8.720e-05\n",
      " 8.777e-05 1.038e-04 1.043e-04 1.044e-04 1.051e-04]\n",
      "17 [3.732e+00 3.925e+00 4.632e+00 4.946e+00 5.230e+00 5.598e+00 7.310e-05\n",
      " 7.358e-05 8.701e-05 8.744e-05 8.750e-05 8.810e-05]\n",
      "18 [3.732e+00 3.925e+00 4.632e+00 4.946e+00 5.230e+00 5.598e+00 6.188e-05\n",
      " 6.228e-05 7.366e-05 7.402e-05 7.407e-05 7.458e-05]\n",
      "19 [3.732e+00 3.925e+00 4.632e+00 4.946e+00 5.230e+00 5.598e+00 5.284e-05\n",
      " 5.319e-05 6.290e-05 6.321e-05 6.325e-05 6.369e-05]\n",
      "20 [3.732e+00 3.925e+00 4.632e+00 4.946e+00 5.230e+00 5.598e+00 4.548e-05\n",
      " 4.578e-05 5.414e-05 5.440e-05 5.444e-05 5.482e-05]\n",
      "21 [3.732e+00 3.925e+00 4.632e+00 4.946e+00 5.230e+00 5.598e+00 3.943e-05\n",
      " 3.969e-05 4.694e-05 4.716e-05 4.720e-05 4.752e-05]\n"
     ]
    }
   ],
   "source": [
    "# p, kappa= test_condition_number_fixmesh(mesh,dirichlet_boundary,condense=False, pmax=10)\n",
    "p_sc_2d, kappa_sc_2d = test_condition_number_fixmesh(mesh2d, dirichlet_boundary2d, condense=True, pmax=20)"
   ]
  },
  {
   "cell_type": "code",
   "execution_count": 41,
   "id": "191f5627",
   "metadata": {},
   "outputs": [],
   "source": [
    "def plots_cond_number(p, kappa):\n",
    "    fig, ax = plt.subplots(1,1, figsize=(6,6))\n",
    "    ax.semilogx(p, kappa,'--o',label='kappa')\n",
    "    \n",
    "    C2 = kappa[0]/(np.log(p[0])*np.log(p[0]))\n",
    "    p2 = [C2*np.log(p_i)*np.log(p_i) for p_i in p]\n",
    "    ax.semilogx(p, p2,'C02', label='log(p)^2')\n",
    "\n",
    "    C3 = kappa[0]/(np.log(p[0])*np.log(p[0])*np.log(p[0]))\n",
    "    p3 = [C3*np.log(p_i)*np.log(p_i)*np.log(p_i) for p_i in p]\n",
    "    ax.semilogx(p, p3,'C03', label='log(p)^3')\n",
    "    ax.legend()\n",
    "#     plt.savefig('kappa_HDG_2d.png')\n",
    "    plt.show()\n",
    "def compute_gamma(kappa, p):\n",
    "    gamma = [0.0]\n",
    "    for i in range(len(p)-1):\n",
    "        gamma.append(np.log(kappa[i+1]/kappa[i])/np.log(np.log(p[i+1])/np.log(p[i])))\n",
    "    return gamma\n",
    "def compute_alpha(kappa, p):\n",
    "    # Adjust \\kappa = O(p^\\alpha)\n",
    "    alpha = [0.0]\n",
    "    for i in range(len(p)-1):\n",
    "        alpha.append(np.log(kappa[i+1]/kappa[i])/np.log((p[i+1])/(p[i])))\n",
    "    return alpha\n"
   ]
  },
  {
   "cell_type": "code",
   "execution_count": 42,
   "id": "7ead4c38-b21f-4550-b1c7-5fa13fb72388",
   "metadata": {},
   "outputs": [
    {
     "data": {
      "image/png": "[encoded data removed]",
      "text/plain": [
       "<Figure size 600x600 with 1 Axes>"
      ]
     },
     "metadata": {},
     "output_type": "display_data"
    }
   ],
   "source": [
    "gamma2d = compute_gamma(kappa_sc_2d, p_sc_2d)\n",
    "alpha2d = compute_alpha(kappa_sc_2d, p_sc_2d)\n",
    "df_2d = pd.DataFrame({'p':p_sc_2d, 'kappa':kappa_sc_2d, 'log(p)':np.log(p_sc_2d), 'gamma':gamma2d, 'alpha':alpha2d})\n",
    "# print(gamma2d)\n",
    "plots_cond_number(p_sc_2d, kappa_sc_2d)"
   ]
  },
  {
   "cell_type": "code",
   "execution_count": 43,
   "id": "01bdc0a0",
   "metadata": {},
   "outputs": [
    {
     "data": {
      "text/html": [
       "<div>\n",
       "<style scoped>\n",
       "    .dataframe tbody tr th:only-of-type {\n",
       "        vertical-align: middle;\n",
       "    }\n",
       "\n",
       "    .dataframe tbody tr th {\n",
       "        vertical-align: top;\n",
       "    }\n",
       "\n",
       "    .dataframe thead th {\n",
       "        text-align: right;\n",
       "    }\n",
       "</style>\n",
       "<table border=\"1\" class=\"dataframe\">\n",
       "  <thead>\n",
       "    <tr style=\"text-align: right;\">\n",
       "      <th></th>\n",
       "      <th>p</th>\n",
       "      <th>kappa</th>\n",
       "      <th>log(p)</th>\n",
       "      <th>gamma</th>\n",
       "      <th>alpha</th>\n",
       "    </tr>\n",
       "  </thead>\n",
       "  <tbody>\n",
       "    <tr>\n",
       "      <th>0</th>\n",
       "      <td>2</td>\n",
       "      <td>239.049449</td>\n",
       "      <td>0.693147</td>\n",
       "      <td>0.000000</td>\n",
       "      <td>0.000000</td>\n",
       "    </tr>\n",
       "    <tr>\n",
       "      <th>1</th>\n",
       "      <td>3</td>\n",
       "      <td>618.847957</td>\n",
       "      <td>1.098612</td>\n",
       "      <td>2.065285</td>\n",
       "      <td>2.345921</td>\n",
       "    </tr>\n",
       "    <tr>\n",
       "      <th>2</th>\n",
       "      <td>4</td>\n",
       "      <td>1314.233560</td>\n",
       "      <td>1.386294</td>\n",
       "      <td>3.238148</td>\n",
       "      <td>2.617992</td>\n",
       "    </tr>\n",
       "    <tr>\n",
       "      <th>3</th>\n",
       "      <td>5</td>\n",
       "      <td>2385.260209</td>\n",
       "      <td>1.609438</td>\n",
       "      <td>3.993646</td>\n",
       "      <td>2.671171</td>\n",
       "    </tr>\n",
       "    <tr>\n",
       "      <th>4</th>\n",
       "      <td>6</td>\n",
       "      <td>3931.815471</td>\n",
       "      <td>1.791759</td>\n",
       "      <td>4.657336</td>\n",
       "      <td>2.741272</td>\n",
       "    </tr>\n",
       "    <tr>\n",
       "      <th>5</th>\n",
       "      <td>7</td>\n",
       "      <td>6044.727961</td>\n",
       "      <td>1.945910</td>\n",
       "      <td>5.211150</td>\n",
       "      <td>2.790031</td>\n",
       "    </tr>\n",
       "    <tr>\n",
       "      <th>6</th>\n",
       "      <td>8</td>\n",
       "      <td>8788.864316</td>\n",
       "      <td>2.079442</td>\n",
       "      <td>5.639619</td>\n",
       "      <td>2.803079</td>\n",
       "    </tr>\n",
       "    <tr>\n",
       "      <th>7</th>\n",
       "      <td>9</td>\n",
       "      <td>12273.415123</td>\n",
       "      <td>2.197225</td>\n",
       "      <td>6.061279</td>\n",
       "      <td>2.835298</td>\n",
       "    </tr>\n",
       "    <tr>\n",
       "      <th>8</th>\n",
       "      <td>10</td>\n",
       "      <td>16560.203612</td>\n",
       "      <td>2.302585</td>\n",
       "      <td>6.395886</td>\n",
       "      <td>2.843256</td>\n",
       "    </tr>\n",
       "    <tr>\n",
       "      <th>9</th>\n",
       "      <td>11</td>\n",
       "      <td>21756.573247</td>\n",
       "      <td>2.397895</td>\n",
       "      <td>6.728812</td>\n",
       "      <td>2.863424</td>\n",
       "    </tr>\n",
       "    <tr>\n",
       "      <th>10</th>\n",
       "      <td>12</td>\n",
       "      <td>27928.871935</td>\n",
       "      <td>2.484907</td>\n",
       "      <td>7.006708</td>\n",
       "      <td>2.870258</td>\n",
       "    </tr>\n",
       "    <tr>\n",
       "      <th>11</th>\n",
       "      <td>13</td>\n",
       "      <td>35179.723073</td>\n",
       "      <td>2.564949</td>\n",
       "      <td>7.280201</td>\n",
       "      <td>2.883572</td>\n",
       "    </tr>\n",
       "    <tr>\n",
       "      <th>12</th>\n",
       "      <td>14</td>\n",
       "      <td>43579.895900</td>\n",
       "      <td>2.639057</td>\n",
       "      <td>7.517668</td>\n",
       "      <td>2.889380</td>\n",
       "    </tr>\n",
       "    <tr>\n",
       "      <th>13</th>\n",
       "      <td>15</td>\n",
       "      <td>53228.089891</td>\n",
       "      <td>2.708050</td>\n",
       "      <td>7.749427</td>\n",
       "      <td>2.898710</td>\n",
       "    </tr>\n",
       "    <tr>\n",
       "      <th>14</th>\n",
       "      <td>16</td>\n",
       "      <td>64198.461664</td>\n",
       "      <td>2.772589</td>\n",
       "      <td>7.956379</td>\n",
       "      <td>2.903584</td>\n",
       "    </tr>\n",
       "    <tr>\n",
       "      <th>15</th>\n",
       "      <td>17</td>\n",
       "      <td>76586.805599</td>\n",
       "      <td>2.833213</td>\n",
       "      <td>8.157414</td>\n",
       "      <td>2.910460</td>\n",
       "    </tr>\n",
       "    <tr>\n",
       "      <th>16</th>\n",
       "      <td>18</td>\n",
       "      <td>90469.757246</td>\n",
       "      <td>2.890372</td>\n",
       "      <td>8.340548</td>\n",
       "      <td>2.914546</td>\n",
       "    </tr>\n",
       "    <tr>\n",
       "      <th>17</th>\n",
       "      <td>19</td>\n",
       "      <td>105940.993247</td>\n",
       "      <td>2.944439</td>\n",
       "      <td>8.518060</td>\n",
       "      <td>2.919822</td>\n",
       "    </tr>\n",
       "    <tr>\n",
       "      <th>18</th>\n",
       "      <td>20</td>\n",
       "      <td>123078.963997</td>\n",
       "      <td>2.995732</td>\n",
       "      <td>8.682130</td>\n",
       "      <td>2.923264</td>\n",
       "    </tr>\n",
       "    <tr>\n",
       "      <th>19</th>\n",
       "      <td>21</td>\n",
       "      <td>141975.786631</td>\n",
       "      <td>3.044522</td>\n",
       "      <td>8.841056</td>\n",
       "      <td>2.927442</td>\n",
       "    </tr>\n",
       "  </tbody>\n",
       "</table>\n",
       "</div>"
      ],
      "text/plain": [
       "     p          kappa    log(p)     gamma     alpha\n",
       "0    2     239.049449  0.693147  0.000000  0.000000\n",
       "1    3     618.847957  1.098612  2.065285  2.345921\n",
       "2    4    1314.233560  1.386294  3.238148  2.617992\n",
       "3    5    2385.260209  1.609438  3.993646  2.671171\n",
       "4    6    3931.815471  1.791759  4.657336  2.741272\n",
       "5    7    6044.727961  1.945910  5.211150  2.790031\n",
       "6    8    8788.864316  2.079442  5.639619  2.803079\n",
       "7    9   12273.415123  2.197225  6.061279  2.835298\n",
       "8   10   16560.203612  2.302585  6.395886  2.843256\n",
       "9   11   21756.573247  2.397895  6.728812  2.863424\n",
       "10  12   27928.871935  2.484907  7.006708  2.870258\n",
       "11  13   35179.723073  2.564949  7.280201  2.883572\n",
       "12  14   43579.895900  2.639057  7.517668  2.889380\n",
       "13  15   53228.089891  2.708050  7.749427  2.898710\n",
       "14  16   64198.461664  2.772589  7.956379  2.903584\n",
       "15  17   76586.805599  2.833213  8.157414  2.910460\n",
       "16  18   90469.757246  2.890372  8.340548  2.914546\n",
       "17  19  105940.993247  2.944439  8.518060  2.919822\n",
       "18  20  123078.963997  2.995732  8.682130  2.923264\n",
       "19  21  141975.786631  3.044522  8.841056  2.927442"
      ]
     },
     "execution_count": 43,
     "metadata": {},
     "output_type": "execute_result"
    }
   ],
   "source": [
    "df_2d\n"
   ]
  },
  {
   "cell_type": "markdown",
   "id": "bd9aa64c",
   "metadata": {},
   "source": [
    "# 3D case"
   ]
  },
  {
   "cell_type": "code",
   "execution_count": 44,
   "id": "4561676b",
   "metadata": {},
   "outputs": [],
   "source": [
    "from netgen.csg import *"
   ]
  },
  {
   "cell_type": "code",
   "execution_count": 45,
   "id": "f66af4cc",
   "metadata": {},
   "outputs": [],
   "source": [
    "# Data\n",
    "force3d = ((3*pi**2))*sin(pi*x)*sin(pi*y)*sin(pi*z)\n",
    "uD    = 0        \n",
    "dirichlet_boundary3d = 'back|left|front|right|bottom|top'"
   ]
  },
  {
   "cell_type": "code",
   "execution_count": 46,
   "id": "927fba7b",
   "metadata": {},
   "outputs": [],
   "source": [
    "# Fix h\n",
    "h = 0.5\n",
    "mesh3d = Mesh(unit_cube.GenerateMesh(maxh=h))\n",
    "# print(mesh.GetBoundaries())\n",
    "# Draw(mesh)"
   ]
  },
  {
   "cell_type": "code",
   "execution_count": 47,
   "id": "62f89dd4",
   "metadata": {},
   "outputs": [],
   "source": [
    "gfu = SolvePoisson_CG(mesh3d, p=5,force=force3d, uD=uD, db=dirichlet_boundary3d)\n",
    "# Draw(gfu)"
   ]
  },
  {
   "cell_type": "code",
   "execution_count": 48,
   "id": "f2658c74",
   "metadata": {},
   "outputs": [
    {
     "name": "stdout",
     "output_type": "stream",
     "text": [
      "2 [1.763 1.869 2.213 2.703 3.03  3.599 0.005 0.006 0.006 0.007 0.008 0.008]\n",
      "3 [1.763e+00 1.870e+00 2.214e+00 2.704e+00 3.031e+00 3.600e+00 3.001e-04\n",
      " 4.465e-04 4.538e-04 4.703e-04 4.847e-04 5.086e-04]\n",
      "4 [1.763e+00 1.870e+00 2.214e+00 2.704e+00 3.031e+00 3.600e+00 8.226e-05\n",
      " 1.110e-04 1.152e-04 1.211e-04 1.296e-04 1.391e-04]\n",
      "5 [1.763e+00 1.870e+00 2.214e+00 2.704e+00 3.031e+00 3.600e+00 2.870e-05\n",
      " 3.519e-05 3.679e-05 3.996e-05 4.171e-05 4.435e-05]\n",
      "6 [1.763e+00 1.870e+00 2.214e+00 2.704e+00 3.031e+00 3.600e+00 1.089e-05\n",
      " 1.356e-05 1.393e-05 1.546e-05 1.617e-05 1.712e-05]\n",
      "7 [1.763e+00 1.870e+00 2.214e+00 2.704e+00 3.031e+00 3.600e+00 4.775e-06\n",
      " 5.956e-06 6.046e-06 6.769e-06 7.083e-06 7.503e-06]\n",
      "8 [1.763e+00 1.870e+00 2.214e+00 2.704e+00 3.031e+00 3.600e+00 2.335e-06\n",
      " 2.884e-06 2.906e-06 3.276e-06 3.424e-06 3.616e-06]\n",
      "9 [1.763e+00 1.870e+00 2.214e+00 2.704e+00 3.031e+00 3.600e+00 1.243e-06\n",
      " 1.512e-06 1.515e-06 1.713e-06 1.788e-06 1.884e-06]\n",
      "10 [1.763e+00 1.870e+00 2.214e+00 2.704e+00 3.031e+00 3.600e+00 7.082e-07\n",
      " 8.427e-07 8.449e-07 9.539e-07 9.947e-07 1.046e-06]\n"
     ]
    }
   ],
   "source": [
    "p_sc_3d, kappa_sc_3d = test_condition_number_fixmesh(mesh3d, dirichlet_boundary3d, condense=True, pmax=10)"
   ]
  },
  {
   "cell_type": "code",
   "execution_count": 49,
   "id": "bd62fa47",
   "metadata": {},
   "outputs": [
    {
     "data": {
      "image/png": "[encoded data removed]",
      "text/plain": [
       "<Figure size 600x600 with 1 Axes>"
      ]
     },
     "metadata": {},
     "output_type": "display_data"
    },
    {
     "data": {
      "text/html": [
       "<div>\n",
       "<style scoped>\n",
       "    .dataframe tbody tr th:only-of-type {\n",
       "        vertical-align: middle;\n",
       "    }\n",
       "\n",
       "    .dataframe tbody tr th {\n",
       "        vertical-align: top;\n",
       "    }\n",
       "\n",
       "    .dataframe thead th {\n",
       "        text-align: right;\n",
       "    }\n",
       "</style>\n",
       "<table border=\"1\" class=\"dataframe\">\n",
       "  <thead>\n",
       "    <tr style=\"text-align: right;\">\n",
       "      <th></th>\n",
       "      <th>p</th>\n",
       "      <th>kappa</th>\n",
       "      <th>log(p)</th>\n",
       "      <th>gamma</th>\n",
       "      <th>alpha</th>\n",
       "    </tr>\n",
       "  </thead>\n",
       "  <tbody>\n",
       "    <tr>\n",
       "      <th>0</th>\n",
       "      <td>2</td>\n",
       "      <td>7.570305e+02</td>\n",
       "      <td>0.693147</td>\n",
       "      <td>0.000000</td>\n",
       "      <td>0.000000</td>\n",
       "    </tr>\n",
       "    <tr>\n",
       "      <th>1</th>\n",
       "      <td>3</td>\n",
       "      <td>1.199561e+04</td>\n",
       "      <td>1.098612</td>\n",
       "      <td>5.998975</td>\n",
       "      <td>6.814131</td>\n",
       "    </tr>\n",
       "    <tr>\n",
       "      <th>2</th>\n",
       "      <td>4</td>\n",
       "      <td>4.376396e+04</td>\n",
       "      <td>1.386294</td>\n",
       "      <td>5.564685</td>\n",
       "      <td>4.498960</td>\n",
       "    </tr>\n",
       "    <tr>\n",
       "      <th>3</th>\n",
       "      <td>5</td>\n",
       "      <td>1.254527e+05</td>\n",
       "      <td>1.609438</td>\n",
       "      <td>7.056036</td>\n",
       "      <td>4.719467</td>\n",
       "    </tr>\n",
       "    <tr>\n",
       "      <th>4</th>\n",
       "      <td>6</td>\n",
       "      <td>3.307176e+05</td>\n",
       "      <td>1.791759</td>\n",
       "      <td>9.032781</td>\n",
       "      <td>5.316627</td>\n",
       "    </tr>\n",
       "    <tr>\n",
       "      <th>5</th>\n",
       "      <td>7</td>\n",
       "      <td>7.539209e+05</td>\n",
       "      <td>1.945910</td>\n",
       "      <td>9.984313</td>\n",
       "      <td>5.345566</td>\n",
       "    </tr>\n",
       "    <tr>\n",
       "      <th>6</th>\n",
       "      <td>8</td>\n",
       "      <td>1.541624e+06</td>\n",
       "      <td>2.079442</td>\n",
       "      <td>10.777598</td>\n",
       "      <td>5.356826</td>\n",
       "    </tr>\n",
       "    <tr>\n",
       "      <th>7</th>\n",
       "      <td>9</td>\n",
       "      <td>2.895130e+06</td>\n",
       "      <td>2.197225</td>\n",
       "      <td>11.438170</td>\n",
       "      <td>5.350459</td>\n",
       "    </tr>\n",
       "    <tr>\n",
       "      <th>8</th>\n",
       "      <td>10</td>\n",
       "      <td>5.083073e+06</td>\n",
       "      <td>2.302585</td>\n",
       "      <td>12.017867</td>\n",
       "      <td>5.342477</td>\n",
       "    </tr>\n",
       "  </tbody>\n",
       "</table>\n",
       "</div>"
      ],
      "text/plain": [
       "    p         kappa    log(p)      gamma     alpha\n",
       "0   2  7.570305e+02  0.693147   0.000000  0.000000\n",
       "1   3  1.199561e+04  1.098612   5.998975  6.814131\n",
       "2   4  4.376396e+04  1.386294   5.564685  4.498960\n",
       "3   5  1.254527e+05  1.609438   7.056036  4.719467\n",
       "4   6  3.307176e+05  1.791759   9.032781  5.316627\n",
       "5   7  7.539209e+05  1.945910   9.984313  5.345566\n",
       "6   8  1.541624e+06  2.079442  10.777598  5.356826\n",
       "7   9  2.895130e+06  2.197225  11.438170  5.350459\n",
       "8  10  5.083073e+06  2.302585  12.017867  5.342477"
      ]
     },
     "execution_count": 49,
     "metadata": {},
     "output_type": "execute_result"
    }
   ],
   "source": [
    "gamma3d = compute_gamma(kappa_sc_3d, p_sc_3d)\n",
    "alpha3d = compute_alpha(kappa_sc_3d, p_sc_3d)\n",
    "df_3d = pd.DataFrame({'p':p_sc_3d, 'kappa':kappa_sc_3d, 'log(p)':np.log(p_sc_3d), 'gamma':gamma3d, 'alpha':alpha3d})\n",
    "plots_cond_number(p_sc_3d, kappa_sc_3d)\n",
    "\n",
    "df_3d"
   ]
  },
  {
   "cell_type": "code",
   "execution_count": 50,
   "id": "f40397cb-9a58-47ff-b1c6-ae33f88c27b4",
   "metadata": {},
   "outputs": [],
   "source": [
    "# !pip install tabulate\n",
    "from tabulate import tabulate\n",
    "\n",
    "def dataframe_to_latex(df, filename=None, col_round=None):\n",
    "    \"\"\"\n",
    "    Print and save a DataFrame as a LaTeX table.\n",
    "\n",
    "    Parameters:\n",
    "    df (pd.DataFrame): The DataFrame to convert.\n",
    "    filename (str): The name of the file to save the LaTeX table to.\n",
    "    \"\"\"\n",
    "    \n",
    "    if col_round is not None:\n",
    "        df_rounded = df.copy()\n",
    "        \n",
    "        for columns, precision in col_round:\n",
    "            df_rounded[columns]\n",
    "            print(columns, precision)\n",
    "            df_rounded[columns] = df_rounded[columns].round(precision)\n",
    "    # Convert DataFrame to LaTeX table string\n",
    "    latex_table = tabulate(df_rounded, headers='keys', tablefmt='latex', showindex=False)\n",
    "\n",
    "    # Print the LaTeX table\n",
    "    print(latex_table)\n",
    "\n",
    "    # Save the LaTeX table to a file\n",
    "    if filename is not None:\n",
    "        with open(filename, 'w') as f:\n",
    "            f.write(latex_table)\n",
    "\n",
    "    "
   ]
  },
  {
   "cell_type": "code",
   "execution_count": 51,
   "id": "f32e90d2-376a-47b6-b286-a492c8b76337",
   "metadata": {},
   "outputs": [
    {
     "name": "stdout",
     "output_type": "stream",
     "text": [
      "kappa 1\n",
      "log(p) 3\n",
      "gamma 3\n",
      "alpha 3\n",
      "\\begin{tabular}{rrrrr}\n",
      "\\hline\n",
      "   p &    kappa &   log(p) &   gamma &   alpha \\\\\n",
      "\\hline\n",
      "   2 &    239   &    0.693 &   0     &   0     \\\\\n",
      "   3 &    618.8 &    1.099 &   2.065 &   2.346 \\\\\n",
      "   4 &   1314.2 &    1.386 &   3.238 &   2.618 \\\\\n",
      "   5 &   2385.3 &    1.609 &   3.994 &   2.671 \\\\\n",
      "   6 &   3931.8 &    1.792 &   4.657 &   2.741 \\\\\n",
      "   7 &   6044.7 &    1.946 &   5.211 &   2.79  \\\\\n",
      "   8 &   8788.9 &    2.079 &   5.64  &   2.803 \\\\\n",
      "   9 &  12273.4 &    2.197 &   6.061 &   2.835 \\\\\n",
      "  10 &  16560.2 &    2.303 &   6.396 &   2.843 \\\\\n",
      "  11 &  21756.6 &    2.398 &   6.729 &   2.863 \\\\\n",
      "  12 &  27928.9 &    2.485 &   7.007 &   2.87  \\\\\n",
      "  13 &  35179.7 &    2.565 &   7.28  &   2.884 \\\\\n",
      "  14 &  43579.9 &    2.639 &   7.518 &   2.889 \\\\\n",
      "  15 &  53228.1 &    2.708 &   7.749 &   2.899 \\\\\n",
      "  16 &  64198.5 &    2.773 &   7.956 &   2.904 \\\\\n",
      "  17 &  76586.8 &    2.833 &   8.157 &   2.91  \\\\\n",
      "  18 &  90469.8 &    2.89  &   8.341 &   2.915 \\\\\n",
      "  19 & 105941   &    2.944 &   8.518 &   2.92  \\\\\n",
      "  20 & 123079   &    2.996 &   8.682 &   2.923 \\\\\n",
      "  21 & 141976   &    3.045 &   8.841 &   2.927 \\\\\n",
      "\\hline\n",
      "\\end{tabular}\n",
      "kappa 1\n",
      "log(p) 3\n",
      "gamma 3\n",
      "alpha 3\n",
      "\\begin{tabular}{rrrrr}\n",
      "\\hline\n",
      "   p &            kappa &   log(p) &   gamma &   alpha \\\\\n",
      "\\hline\n",
      "   2 &    757           &    0.693 &   0     &   0     \\\\\n",
      "   3 &  11995.6         &    1.099 &   5.999 &   6.814 \\\\\n",
      "   4 &  43764           &    1.386 &   5.565 &   4.499 \\\\\n",
      "   5 & 125453           &    1.609 &   7.056 &   4.719 \\\\\n",
      "   6 & 330718           &    1.792 &   9.033 &   5.317 \\\\\n",
      "   7 & 753921           &    1.946 &   9.984 &   5.346 \\\\\n",
      "   8 &      1.54162e+06 &    2.079 &  10.778 &   5.357 \\\\\n",
      "   9 &      2.89513e+06 &    2.197 &  11.438 &   5.35  \\\\\n",
      "  10 &      5.08307e+06 &    2.303 &  12.018 &   5.342 \\\\\n",
      "\\hline\n",
      "\\end{tabular}\n"
     ]
    }
   ],
   "source": [
    "dataframe_to_latex(df_2d,filename='table_CG2d_kappa', col_round=[['kappa',1],['log(p)', 3],['gamma',3],['alpha',3]])\n",
    "dataframe_to_latex(df_3d,filename='table_CG3d_kappa', col_round=[['kappa',1],['log(p)', 3],['gamma',3],['alpha',3]])"
   ]
  },
  {
   "cell_type": "code",
   "execution_count": null,
   "id": "873b2e3a-86cd-43fb-9972-da5380071417",
   "metadata": {},
   "outputs": [],
   "source": []
  },
  {
   "cell_type": "code",
   "execution_count": null,
   "id": "3c698d81-6c98-4065-9f63-ace684111920",
   "metadata": {},
   "outputs": [],
   "source": []
  }
 ],
 "metadata": {
  "kernelspec": {
   "display_name": "Python 3",
   "language": "python",
   "name": "python3"
  },
  "language_info": {
   "codemirror_mode": {
    "name": "ipython",
    "version": 3
   },
   "file_extension": ".py",
   "mimetype": "text/x-python",
   "name": "python",
   "nbconvert_exporter": "python",
   "pygments_lexer": "ipython3",
   "version": "3.8.5"
  },
  "varInspector": {
   "cols": {
    "lenName": 16,
    "lenType": 16,
    "lenVar": 40
   },
   "kernels_config": {
    "python": {
     "delete_cmd_postfix": "",
     "delete_cmd_prefix": "del ",
     "library": "var_list.py",
     "varRefreshCmd": "print(var_dic_list())"
    },
    "r": {
     "delete_cmd_postfix": ") ",
     "delete_cmd_prefix": "rm(",
     "library": "var_list.r",
     "varRefreshCmd": "cat(var_dic_list()) "
    }
   },
   "types_to_exclude": [
    "module",
    "function",
    "builtin_function_or_method",
    "instance",
    "_Feature"
   ],
   "window_display": false
  }
 },
 "nbformat": 4,
 "nbformat_minor": 5
}
