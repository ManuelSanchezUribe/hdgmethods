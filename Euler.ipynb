{
 "cells": [
  {
   "cell_type": "code",
   "execution_count": 1,
   "id": "63f58657-2ae9-4650-adfa-c9875ed67578",
   "metadata": {},
   "outputs": [
    {
     "name": "stderr",
     "output_type": "stream",
     "text": [
      "/usr/lib/python3/dist-packages/scipy/__init__.py:146: UserWarning: A NumPy version >=1.17.3 and <1.25.0 is required for this version of SciPy (detected version 1.26.4\n",
      "  warnings.warn(f\"A NumPy version >={np_minversion} and <{np_maxversion}\"\n"
     ]
    }
   ],
   "source": [
    "import numpy as np\n",
    "import time\n",
    "import scipy.integrate as integral\n",
    "import pandas as pd\n",
    "import matplotlib.pyplot as plt\n",
    "\n",
    "import netgen.meshing\n",
    "from ngsolve import *\n",
    "from netgen.occ import * \n",
    "from ngsolve.webgui import Draw\n"
   ]
  },
  {
   "cell_type": "code",
   "execution_count": 3,
   "id": "f079607e",
   "metadata": {},
   "outputs": [],
   "source": [
    "def mesh_uniform_interval(a,b,N):\n",
    "    netgen_mesh = netgen.meshing.Mesh(dim=1)\n",
    "    delta_space = (b-a)/N\n",
    "\n",
    "    pnums = []\n",
    "    for i in range(N+1):\n",
    "        pnums.append(netgen_mesh.Add( netgen.meshing.MeshPoint( netgen.meshing.Pnt(a+i*delta_space,0,0 ))))\n",
    "    idx = netgen_mesh.AddRegion(\"material\", dim=1)\n",
    "    for i in range(0,N):\n",
    "        netgen_mesh.Add( netgen.meshing.Element1D ([pnums[i], pnums[i+1]], index=idx) )\n",
    "    idx_left = netgen_mesh.AddRegion(\"left\", dim=0)\n",
    "    idx_right = netgen_mesh.AddRegion(\"right\", dim=0)\n",
    "    netgen_mesh.Add( netgen.meshing.Element0D(pnums[0], index=idx_left) )\n",
    "    netgen_mesh.Add( netgen.meshing.Element0D(pnums[-1], index=idx_right) ) \n",
    "    \n",
    "    mesh = Mesh(netgen_mesh)\n",
    "    return mesh"
   ]
  },
  {
   "cell_type": "code",
   "execution_count": 5,
   "id": "ee915859",
   "metadata": {},
   "outputs": [
    {
     "data": {
      "application/vnd.jupyter.widget-view+json": {
       "model_id": "599b276c241f4b658594cb116933479e",
       "version_major": 2,
       "version_minor": 0
      },
      "text/plain": [
       "WebGuiWidget(layout=Layout(height='500px', width='100%'), value={'gui_settings': {}, 'ngsolve_version': '6.2.2…"
      ]
     },
     "metadata": {},
     "output_type": "display_data"
    },
    {
     "data": {
      "text/plain": [
       "BaseWebGuiScene"
      ]
     },
     "execution_count": 5,
     "metadata": {},
     "output_type": "execute_result"
    }
   ],
   "source": [
    "mesh = mesh_uniform_interval(0, 1, 10)\n",
    "Draw(mesh)"
   ]
  },
  {
   "cell_type": "code",
   "execution_count": 6,
   "id": "3628c25d",
   "metadata": {},
   "outputs": [
    {
     "name": "stdout",
     "output_type": "stream",
     "text": [
      "('left', 'right')\n"
     ]
    }
   ],
   "source": [
    "print(mesh.GetBoundaries())"
   ]
  },
  {
   "cell_type": "code",
   "execution_count": null,
   "id": "550641c7",
   "metadata": {},
   "outputs": [],
   "source": [
    "# parameters\n",
    "nu0, c0 = 6e6, 1540\n",
    "tau= 1/nu0; mean_Gaussian= 2*tau \n",
    "chi= lambda u: 1/tau*exp(-0.5*((u-mean_Gaussian)/tau)*((u-mean_Gaussian)/tau))\n",
    "#chi= lambda u: exp(-u*u)\n",
    "f = lambda t: (t>0)*chi(t) #lo dej+e sin límite superior\n",
    "\n",
    "def A(t_end):\n",
    "    A= (t_end>0)*integral.quad(lambda t: chi(t)/c0, 0, t_end)[0]\n",
    "    #A= integral.quad(lambda t: f(t)/c0, 0, t_end)[0]\n",
    "    return A\n",
    "\n",
    "t=np.arange(-4*tau, 7*tau, tau/10)\n",
    "plt.plot(t, f(t))\n",
    "plt.show()\n",
    "\n",
    "dt = tau/10; \n",
    "# k_max=2300\n",
    "t0=0*tau\n",
    "t_final = 26*tau\n",
    "k_max= round((t_final - t0)/dt)\n",
    "print(f'Calcula {k_max} pasos de tiempo')\n",
    "\n",
    "\n",
    "\n",
    "# inicializar con cualquier valor donde f no se haga cero, para no crear una ZeroCoefficientFunction\n",
    "t_initialization_value = mean_Gaussian+tau "
   ]
  },
  {
   "cell_type": "code",
   "execution_count": null,
   "id": "e85845a3",
   "metadata": {},
   "outputs": [],
   "source": [
    "def wave_solver(mesh, tend):\n",
    "    '''\n",
    "    M y' = A y + F(t)\n",
    "    '''\n",
    "    t_ngsolve = Parameter(0)    \n",
    "    f = sin(pi*(x-t))\n",
    "\n",
    "\n",
    "    U = H1(mesh, order=3, dirichlet=\"left|right\")\n",
    "    V = H1(mesh, order=3, dirichlet=\"left|right\")\n",
    "    fes = U*V\n",
    "    uh, vh = fes.TrialFunction()\n",
    "    du, dv = fes.TestFunction()\n",
    "    a = BilinearForm(fes, symmetric=True)\n",
    "    a += (vh*du + grad(uh)*grad(dv))*dx\n",
    "    a.Assemble()\n",
    "\n",
    "    m = BilinearForm(fes, symmetric=True)\n",
    "    m += (uh*du + vh*dv)*dx\n",
    "    m.Assemble()    \n",
    "\n",
    "    mstar = m.mat.CreateMatrix()\n",
    "    mstar.AsVector().data = m.mat.AsVector() +  (dt) * a.mat.AsVector()\n",
    "    invmstar = mstar.Inverse(freedofs=fes.FreeDofs())\n",
    "\n",
    "    F = LinearForm(fes)\n",
    "    F = f*dv*dx\n",
    "\n",
    "    # Initial condition\n",
    "    gfU = GridFunction(fes)\n",
    "    gfu, gfv = gfU.components\n",
    "    gfu.Set(t_initialization_value, definedon=mesh.Boundaries(\"left\"))\n",
    "\n",
    "    t_ngsolve = Parameter(0)    \n",
    "    t = t0\n",
    "    while t< tend - 0.5 * dt:\n",
    "        t_ngsolve.Set(t+dt)\n",
    "        F.Assemble()\n",
    "        \n",
    "        gfD = GridFunction(fes)\n",
    "        gfD.components[0].Set(uD.vec, BND)\n",
    "        gfD.components[1].Set(vD.vec, BND)\n",
    "\n",
    "        res = dt * (F.vec) + m.mat * gfU.vec - mstar * gfD.vec\n",
    "        gfU.vec.data = gfD.vec + invmstar * res\n",
    "\n",
    "    return gfU"
   ]
  },
  {
   "cell_type": "code",
   "execution_count": 7,
   "id": "5c2be8bd",
   "metadata": {},
   "outputs": [
    {
     "ename": "TypeError",
     "evalue": "__call__(): incompatible function arguments. The following argument types are supported:\n    1. (self: ngsolve.fem.CoefficientFunction, mip: ngsolve.fem.BaseMappedIntegrationPoint) -> object\n    2. (self: ngsolve.fem.CoefficientFunction, x: float, y: Optional[float] = None, z: Optional[float] = None) -> ngcomp::PointEvaluationFunctional\n    3. (self: ngsolve.fem.CoefficientFunction, arg0: ngsolve.fem.CoordinateTrafo) -> ngsolve.fem.CoefficientFunction\n    4. (self: ngsolve.fem.CoefficientFunction, arg0: ngsolve.fem.MeshPoint) -> object\n    5. (self: ngsolve.fem.CoefficientFunction, arg0: numpy.ndarray[ngsolve.fem.MeshPoint]) -> numpy.ndarray\n\nInvoked with: <ngsolve.fem.CoefficientFunction object at 0x7eafab4b2fc0>, <ngsolve.fem.Parameter object at 0x7eafab540090>",
     "output_type": "error",
     "traceback": [
      "\u001b[0;31m---------------------------------------------------------------------------\u001b[0m",
      "\u001b[0;31mTypeError\u001b[0m                                 Traceback (most recent call last)",
      "\u001b[0;32m/tmp/ipykernel_43022/3600170814.py\u001b[0m in \u001b[0;36m<module>\u001b[0;34m\u001b[0m\n\u001b[1;32m      2\u001b[0m \u001b[0;31m# para que el pulso vaya actualizando su valor a medida que el tiempo t avanza con los t+=dt/2\u001b[0m\u001b[0;34m\u001b[0m\u001b[0;34m\u001b[0m\u001b[0m\n\u001b[1;32m      3\u001b[0m \u001b[0mt\u001b[0m \u001b[0;34m=\u001b[0m \u001b[0mParameter\u001b[0m\u001b[0;34m(\u001b[0m\u001b[0mt_initialization_value\u001b[0m\u001b[0;34m)\u001b[0m\u001b[0;34m\u001b[0m\u001b[0;34m\u001b[0m\u001b[0m\n\u001b[0;32m----> 4\u001b[0;31m \u001b[0mf\u001b[0m\u001b[0;34m=\u001b[0m\u001b[0mCF\u001b[0m\u001b[0;34m(\u001b[0m\u001b[0mf\u001b[0m\u001b[0;34m(\u001b[0m\u001b[0mt\u001b[0m\u001b[0;34m)\u001b[0m\u001b[0;34m)\u001b[0m\u001b[0;34m\u001b[0m\u001b[0;34m\u001b[0m\u001b[0m\n\u001b[0m\u001b[1;32m      5\u001b[0m \u001b[0;34m\u001b[0m\u001b[0m\n\u001b[1;32m      6\u001b[0m \u001b[0;31m# Elegir el valor inicial de t\u001b[0m\u001b[0;34m\u001b[0m\u001b[0;34m\u001b[0m\u001b[0m\n",
      "\u001b[0;31mTypeError\u001b[0m: __call__(): incompatible function arguments. The following argument types are supported:\n    1. (self: ngsolve.fem.CoefficientFunction, mip: ngsolve.fem.BaseMappedIntegrationPoint) -> object\n    2. (self: ngsolve.fem.CoefficientFunction, x: float, y: Optional[float] = None, z: Optional[float] = None) -> ngcomp::PointEvaluationFunctional\n    3. (self: ngsolve.fem.CoefficientFunction, arg0: ngsolve.fem.CoordinateTrafo) -> ngsolve.fem.CoefficientFunction\n    4. (self: ngsolve.fem.CoefficientFunction, arg0: ngsolve.fem.MeshPoint) -> object\n    5. (self: ngsolve.fem.CoefficientFunction, arg0: numpy.ndarray[ngsolve.fem.MeshPoint]) -> numpy.ndarray\n\nInvoked with: <ngsolve.fem.CoefficientFunction object at 0x7eafab4b2fc0>, <ngsolve.fem.Parameter object at 0x7eafab540090>"
     ]
    }
   ],
   "source": [
    "\n",
    "\n",
    "\n",
    "\n",
    "# es importante pasar el t al timeparams (de la class ngsolve.Parameter), no el t0 (un float),\n",
    "# para que el pulso vaya actualizando su valor a medida que el tiempo t avanza con los t+=dt/2\n",
    "t = Parameter(t_initialization_value)  \n",
    "f=CF(f(t))\n",
    "\n",
    "# Elegir el valor inicial de t \n",
    "t0=0; t.Set(t0)\n",
    "\n",
    "ui=CF(0)\n",
    "vi=CF(0)\n",
    "\n",
    "# (gf, err, max_err, err_rel, max_err_rel, err_rel_prom) = WaveSolver(mesh, [ui, vi], f, timeparams=[dt, k_max, t], theta=theta, radio=chamber_radio)\n",
    "\n",
    "W1 = H1(mesh, order=1, dirichlet = \"left|right\")#, complex=True)\n",
    "W2 = H1(mesh, order=1)#, complex=True)\n",
    "fes = FESpace([W1, W2])\n",
    "uh, vh = fes.TrialFunction()    \n",
    "w1, w2 = fes.TestFunction()     #Test function\n",
    "\n",
    "c = CoefficientFunction(c0)\n",
    "\n",
    "gf = GridFunction(fes)      #future solution\n",
    "gfu, gfv = gf.components\n",
    "\n",
    "a = BilinearForm(fes)\n",
    "a += uh*w1*dx - dt*vh*w1*dx \n",
    "a += vh*w2*dx + dt*c**2*grad(uh)*grad(w2)*dx\n",
    "a.Assemble()\n",
    "ainv = a.mat.Inverse(freedofs=fes.FreeDofs())\n",
    "\n",
    "L = LinearForm(fes)\n",
    "L += gfu*w1*dx + gfv*w2*dx\n",
    "L += dt*f*w2*ds(\"gamma\")\n",
    "\n",
    "gfu.Set(ui)\n",
    "gfv.Set(vi)\n",
    "\n",
    "for k in range(1, k_max):\n",
    "    t += dt/2\n",
    "    #Draw(CF(1), mesh, \"f\", eval_function=\"gamma\", min=-1, max=1)#, settings={\"camera\": {\"transformations\": [{\"type\": \"rotateY\", \"angle\": 45}]}})\n",
    "    L.Assemble()\n",
    "\n",
    "    # Actualización del vector solución de NGSolve\n",
    "    gf.vec.data = ainv*L.vec\n",
    "\n",
    "    # Actualización tiempo\n",
    "    t += dt/2\n",
    "\n",
    "    print(Integrate (gfu*Conj(gfu), mesh))\n",
    "    \n",
    "\n",
    "# elapsed_time[s] = time.time() - tiempo\n",
    "# print('tiempo de computo para ', int(0.06/(sr))*10, 'nodos en y:', elapsed_time)\n",
    "elapsed_time = time.time() - tiempo\n",
    "print(f'tiempo de computo: {elapsed_time}')"
   ]
  },
  {
   "cell_type": "code",
   "execution_count": null,
   "id": "2e6569ae-21a7-4c9e-8c12-959d1af71010",
   "metadata": {},
   "outputs": [],
   "source": []
  }
 ],
 "metadata": {
  "kernelspec": {
   "display_name": "Python 3",
   "language": "python",
   "name": "python3"
  },
  "language_info": {
   "codemirror_mode": {
    "name": "ipython",
    "version": 3
   },
   "file_extension": ".py",
   "mimetype": "text/x-python",
   "name": "python",
   "nbconvert_exporter": "python",
   "pygments_lexer": "ipython3",
   "version": "3.10.12"
  }
 },
 "nbformat": 4,
 "nbformat_minor": 5
}
