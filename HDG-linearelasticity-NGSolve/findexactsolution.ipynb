{
 "cells": [
  {
   "cell_type": "code",
   "execution_count": 1,
   "id": "866cc522-c8aa-4577-8ded-bac2c52c100d",
   "metadata": {},
   "outputs": [],
   "source": [
    "import sympy as sp"
   ]
  },
  {
   "cell_type": "code",
   "execution_count": 9,
   "id": "b5d003cb-a00d-4dd2-9e21-aa3d21c9ff07",
   "metadata": {},
   "outputs": [],
   "source": [
    "x, y = sp.symbols('x y')"
   ]
  },
  {
   "cell_type": "code",
   "execution_count": 24,
   "id": "5633b0ce-2cce-4d90-af8e-443ebf46e457",
   "metadata": {},
   "outputs": [],
   "source": [
    "## Problema 1\n",
    "\n",
    "# E = 1.0 # Young's modulus\n",
    "# nu = 0.3 # Poisson's ratio nu\n",
    "# Lame_mu = 1.0/2.0*(E / (1+nu))\n",
    "# Lame_lambda =E * nu / ((1.0+nu)*(1.0-2.0*nu))\n",
    "# u1 = 10*(y-y**2)*sp.sin(sp.pi*x)*(1-x)*(1.0-y/2.0)\n",
    "# u2 = 0\n",
    "\n",
    "## Problema 2\n",
    "# E = 3.0 # Young's modulus\n",
    "# nu = 0.3 # Poisson's ratio nu\n",
    "# Lame_mu = 1.0/2.0*(E / (1+nu))\n",
    "# Lame_lambda =E * nu / ((1.0+nu)*(1.0-2.0*nu))\n",
    "# u1 = -x**2*(x-1)**2*y*(y-1)*(2*y-1)\n",
    "# u2 = -u1\n",
    "\n",
    "## Problema 3\n",
    "E = 3.0 # Young's modulus\n",
    "nu = 0.49 # Poisson's ratio nu\n",
    "Lame_mu = 1.0/2.0*(E / (1+nu))\n",
    "Lame_lambda =E * nu / ((1.0+nu)*(1.0-2.0*nu))\n",
    "u1 = -x**2*(x-1)**2*y*(y-1)*(2*y-1)\n",
    "u2 = -u1"
   ]
  },
  {
   "cell_type": "code",
   "execution_count": 25,
   "id": "9d87e499-1616-488f-bbe9-10ac53691e72",
   "metadata": {},
   "outputs": [],
   "source": [
    "u = sp.Matrix([u1,u2])\n",
    "e11 = sp.diff(u1,x)\n",
    "e12 = 0.5*(sp.diff(u2,x)+sp.diff(u1,y))\n",
    "e22 = sp.diff(u2,y)\n",
    "e = sp.Matrix([[e11,e12],[e12,e22]])\n",
    "\n",
    "s11 = Lame_lambda*(e11+e22) +2*Lame_mu*e11\n",
    "s12 = 2*Lame_mu*e12\n",
    "s22 = Lame_lambda*(e11+e22) +2*Lame_mu*e22\n",
    "s = sp.Matrix([[s11,s12],[s12,s22]])\n",
    "\n",
    "b1 = - (sp.diff(s11,x)+sp.diff(s12,y))\n",
    "b2 = - (sp.diff(s12,x)+sp.diff(s22,y))\n",
    "b = sp.Matrix([b1,b2])"
   ]
  },
  {
   "cell_type": "code",
   "execution_count": 26,
   "id": "663af77f-9e4a-485e-93a2-1947d703a8b2",
   "metadata": {},
   "outputs": [
    {
     "name": "stdout",
     "output_type": "stream",
     "text": [
      "e11 =  2*x*y*(1 - 2*x)*(x - 1)*(y - 1)*(2*y - 1)\n",
      "e12 =  x*(x - 1)*(-1.0*x*y*(x - 1)*(y - 1) - 0.5*x*y*(x - 1)*(2*y - 1) + x*y*(y - 1)*(2*y - 1) - 0.5*x*(x - 1)*(y - 1)*(2*y - 1) + 1.0*y*(x - 1)*(y - 1)*(2*y - 1))\n",
      "e22 =  x**2*(x - 1)**2*(2*y*(y - 1) + y*(2*y - 1) + (y - 1)*(2*y - 1))\n"
     ]
    }
   ],
   "source": [
    "print(\"e11 = \", sp.simplify(e11))\n",
    "print(\"e12 = \", sp.simplify(e12))\n",
    "print(\"e22 = \", sp.simplify(e22))"
   ]
  },
  {
   "cell_type": "code",
   "execution_count": 27,
   "id": "8cc54887-73e0-40f9-a8d2-187876b2c650",
   "metadata": {},
   "outputs": [
    {
     "name": "stdout",
     "output_type": "stream",
     "text": [
      "s11 =  x*(x - 1)*(98.6577181208053*x*y*(x - 1)*(y - 1) + 49.3288590604026*x*y*(x - 1)*(2*y - 1) - 102.684563758389*x*y*(y - 1)*(2*y - 1) + 49.3288590604026*x*(x - 1)*(y - 1)*(2*y - 1) - 102.684563758389*y*(x - 1)*(y - 1)*(2*y - 1))\n",
      "s12 =  x*(-6.04026845637584*x**3*y**2 + 6.04026845637584*x**3*y - 1.00671140939597*x**3 + 8.05369127516779*x**2*y**3 - 8.05369127516779*x**2*y + 2.01342281879195*x**2 - 12.0805369127517*x*y**3 + 12.0805369127517*x*y**2 - 1.00671140939597*x + 4.02684563758389*y**3 - 6.04026845637584*y**2 + 2.01342281879195*y)\n",
      "s22 =  x*(x - 1)*(102.684563758389*x*y*(x - 1)*(y - 1) + 51.3422818791946*x*y*(x - 1)*(2*y - 1) - 98.6577181208053*x*y*(y - 1)*(2*y - 1) + 51.3422818791946*x*(x - 1)*(y - 1)*(2*y - 1) - 98.6577181208053*y*(x - 1)*(y - 1)*(2*y - 1))\n"
     ]
    }
   ],
   "source": [
    "print(\"s11 = \", sp.simplify(s11))\n",
    "print(\"s12 = \", sp.simplify(s12))\n",
    "print(\"s22 = \", sp.simplify(s22))"
   ]
  },
  {
   "cell_type": "code",
   "execution_count": 28,
   "id": "4cf5dff6-4490-4053-bf56-bac8bbe5faa5",
   "metadata": {},
   "outputs": [
    {
     "name": "stdout",
     "output_type": "stream",
     "text": [
      "b1 =  12.0805369127517*x**4*y - 6.04026845637584*x**4 - 1208.05369127517*x**3*y**2 + 1183.89261744966*x**3*y - 189.261744966443*x**3 + 1232.21476510067*x**2*y**3 - 36.2416107382548*x**2*y**2 - 1183.89261744966*x**2*y + 295.973154362416*x**2 - 1232.21476510067*x*y**3 + 1244.29530201342*x*y**2 - 12.0805369127516*x*y - 100.671140939597*x + 205.369127516778*y**3 - 308.053691275167*y**2 + 102.684563758389*y\n",
      "b2 =  -616.107382550335*x**4*y + 308.053691275167*x**4 + 1208.05369127517*x**3*y**2 + 24.1610738255031*x**3*y - 414.765100671141*x**3 - 24.1610738255034*x**2*y**3 - 1775.8389261745*x**2*y**2 + 1183.89261744966*x**2*y + 6.0402684563758*x**2 + 24.1610738255034*x*y**3 + 567.785234899328*x*y**2 - 591.946308724832*x*y + 100.671140939597*x - 4.02684563758389*y**3 + 6.04026845637584*y**2 - 2.01342281879195*y\n"
     ]
    }
   ],
   "source": [
    "print(\"b1 = \", sp.simplify(b1))\n",
    "print(\"b2 = \", sp.simplify(b2))"
   ]
  },
  {
   "cell_type": "code",
   "execution_count": null,
   "id": "5bc7c518-0e22-46f8-820e-a5938463c9a4",
   "metadata": {},
   "outputs": [],
   "source": []
  }
 ],
 "metadata": {
  "kernelspec": {
   "display_name": "Python 3 (ipykernel)",
   "language": "python",
   "name": "python3"
  },
  "language_info": {
   "codemirror_mode": {
    "name": "ipython",
    "version": 3
   },
   "file_extension": ".py",
   "mimetype": "text/x-python",
   "name": "python",
   "nbconvert_exporter": "python",
   "pygments_lexer": "ipython3",
   "version": "3.8.5"
  }
 },
 "nbformat": 4,
 "nbformat_minor": 5
}
