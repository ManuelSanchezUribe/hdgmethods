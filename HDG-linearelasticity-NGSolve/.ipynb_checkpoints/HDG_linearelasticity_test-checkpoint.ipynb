{
 "cells": [
  {
   "cell_type": "code",
   "execution_count": 1,
   "id": "013f357d-659d-414a-b0b4-b4c2158869ec",
   "metadata": {},
   "outputs": [
    {
     "name": "stdout",
     "output_type": "stream",
     "text": [
      "importing NGSolve-6.2.2204\n"
     ]
    }
   ],
   "source": [
    "from ngsolve import *\n",
    "from ngsolve.webgui import Draw\n",
    "from Convergence_table import Convergence_table\n",
    "from unitsquaremeshes import diagonal1, diagonal2, criscross, criscross_offcenter, chevron, unionjack"
   ]
  },
  {
   "cell_type": "markdown",
   "id": "941524d4-55cc-4e05-a437-58c784046b51",
   "metadata": {},
   "source": [
    "# Problems in Fu, Cockburn, Stolarski 2015"
   ]
  },
  {
   "cell_type": "code",
   "execution_count": 9,
   "id": "15df0ffc-2c38-44e6-b063-2f0d45c98d91",
   "metadata": {},
   "outputs": [],
   "source": [
    "def problem(number=1):# Lame constantes\n",
    "    if number == 1:\n",
    "        # Test 1 in Fu, Cockburn and Stolarski 2015\n",
    "        E = 1.0 # Young's modulus\n",
    "        nu = 0.3 # Poisson's ratio nu\n",
    "        Lame_mu = 1.0/2.0*(E / (1+nu))\n",
    "        Lame_lambda =E * nu / ((1.0+nu)*(1.0-2.0*nu))\n",
    "        u1 = 10*(y-y**2)*sin(pi*x)*(1-x)*(1.0-y/2.0)\n",
    "        u2 = 0\n",
    "        u = CoefficientFunction((u1, u2))\n",
    "        s11 =  -13.4615384615385*y*(0.5*y - 1.0)*(y - 1)*(pi*(x - 1)*cos(pi*x) + sin(pi*x))\n",
    "        s12 =  -(x - 1)*(1.92307692307692*y*(y - 1) + 3.84615384615385*(0.5*y - 1.0)*(2*y - 1))*sin(pi*x)\n",
    "        s22 =  -5.76923076923077*y*(0.5*y - 1.0)*(y - 1)*(pi*(x - 1)*cos(pi*x) + sin(pi*x))\n",
    "        stress = CoefficientFunction((s11,s12,s12,s22), dims=(2,2))\n",
    "        e11 = -10*y*(0.5*y - 1.0)*(y - 1)*(pi*(x - 1)*cos(pi*x) + sin(pi*x))\n",
    "        e12 = -(x - 1)*(2.5*y*(y - 1) + 5.0*(0.5*y - 1.0)*(2*y - 1))*sin(pi*x)\n",
    "        e22 = 0\n",
    "        strain = CoefficientFunction((e11,e12,e12,e22), dims=(2,2))\n",
    "        b1 =  -13.4615384615385*pi**2*y*(x - 1)*(0.5*y - 1.0)*(y - 1)*sin(pi*x) + 13.4615384615385*pi*y*(0.5*y - 1.0)*(y - 1)*cos(pi*x) + 10*pi*y*(0.673076923076923*y - 1.34615384615385)*(y - 1)*cos(pi*x) + 7.69230769230769*(x - 1)*(0.5*y - 1.0)*sin(pi*x) + 3.84615384615385*(x - 1)*(2*y - 1)*sin(pi*x)\n",
    "        b2 =  4.80769230769231*pi*y*(x - 1)*(y - 1)*cos(pi*x) + 4.80769230769231*y*(y - 1)*sin(pi*x) + 9.61538461538461*pi*(x - 1)*(0.5*y - 1.0)*(2*y - 1)*cos(pi*x) + 10*(0.288461538461538*y - 0.576923076923077)*(2*y - 1)*sin(pi*x) + (0.5*y - 1.0)*(7.69230769230769*y - 3.84615384615385)*sin(pi*x)\n",
    "        b = CoefficientFunction((b1, b2))\n",
    "    elif number == 2:\n",
    "        # Test 2 in Fu, Cockburn and Stolarski 2015\n",
    "        E = 3.0 # Young's modulus\n",
    "        nu = 0.3 # Poisson's ratio nu\n",
    "        Lame_mu = 1.0/2.0*(E / (1+nu))\n",
    "        Lame_lambda =E * nu / ((1.0+nu)*(1.0-2.0*nu))\n",
    "        u1 = -x**2*(x-1)**2*y*(y-1)*(2*y-1)\n",
    "        u2 = -u1\n",
    "        u = CoefficientFunction((u1, u2))\n",
    "        e11 =  2*x*y*(1 - 2*x)*(x - 1)*(y - 1)*(2*y - 1)\n",
    "        e12 =  x*(x - 1)*(-1.0*x*y*(x - 1)*(y - 1) - 0.5*x*y*(x - 1)*(2*y - 1) + x*y*(y - 1)*(2*y - 1) - 0.5*x*(x - 1)*(y - 1)*(2*y - 1) + 1.0*y*(x - 1)*(y - 1)*(2*y - 1))\n",
    "        e22 =  x**2*(x - 1)**2*(2*y*(y - 1) + y*(2*y - 1) + (y - 1)*(2*y - 1))\n",
    "        strain = CoefficientFunction((e11,e12,e12,e22), dims=(2,2))\n",
    "        s11 =  x*(x - 1)*(3.46153846153846*x*y*(x - 1)*(y - 1) + 1.73076923076923*x*y*(x - 1)*(2*y - 1) - 8.07692307692308*x*y*(y - 1)*(2*y - 1) + 1.73076923076923*x*(x - 1)*(y - 1)*(2*y - 1) - 8.07692307692308*y*(x - 1)*(y - 1)*(2*y - 1))\n",
    "        s12 =  x*(-6.92307692307692*x**3*y**2 + 6.92307692307692*x**3*y - 1.15384615384615*x**3 + 9.23076923076923*x**2*y**3 - 9.23076923076923*x**2*y + 2.30769230769231*x**2 - 13.8461538461538*x*y**3 + 13.8461538461538*x*y**2 - 1.15384615384615*x + 4.61538461538461*y**3 - 6.92307692307692*y**2 + 2.30769230769231*y)\n",
    "        s22 =  x*(x - 1)*(8.07692307692308*x*y*(x - 1)*(y - 1) + 4.03846153846154*x*y*(x - 1)*(2*y - 1) - 3.46153846153846*x*y*(y - 1)*(2*y - 1) + 4.03846153846154*x*(x - 1)*(y - 1)*(2*y - 1) - 3.46153846153846*y*(x - 1)*(y - 1)*(2*y - 1))\n",
    "        stress = CoefficientFunction((s11,s12,s12,s22), dims=(2,2))\n",
    "        \n",
    "        b1 =  13.8461538461538*x**4*y - 6.92307692307692*x**4 - 69.2307692307692*x**3*y**2 + 41.5384615384615*x**3*y + 2.30769230769231*x**3 + 96.9230769230769*x**2*y**3 - 41.5384615384615*x**2*y**2 - 41.5384615384615*x**2*y + 10.3846153846154*x**2 - 96.9230769230769*x*y**3 + 110.769230769231*x*y**2 - 13.8461538461538*x*y - 5.76923076923077*x + 16.1538461538462*y**3 - 24.2307692307692*y**2 + 8.07692307692308*y\n",
    "        b2 =  -48.4615384615385*x**4*y + 24.2307692307692*x**4 + 69.2307692307692*x**3*y**2 + 27.6923076923077*x**3*y - 36.9230769230769*x**3 - 27.6923076923077*x**2*y**3 - 62.3076923076923*x**2*y**2 + 41.5384615384615*x**2*y + 6.92307692307693*x**2 + 27.6923076923077*x*y**3 - 6.92307692307692*x*y**2 - 20.7692307692308*x*y + 5.76923076923077*x - 4.61538461538461*y**3 + 6.92307692307692*y**2 - 2.30769230769231*y\n",
    "        b = CoefficientFunction((b1, b2))\n",
    "    elif number == 3:\n",
    "        # Test 3 in Fu, Cockburn and Stolarski 2015, nearly incompressible material\n",
    "        E = 3.0 # Young's modulus\n",
    "        nu = 0.49 # Poisson's ratio nu\n",
    "        Lame_mu = 1.0/2.0*(E / (1+nu))\n",
    "        Lame_lambda =E * nu / ((1.0+nu)*(1.0-2.0*nu))\n",
    "        u1 = -x**2*(x-1)**2*y*(y-1)*(2*y-1)\n",
    "        u2 = -u1\n",
    "        u = CoefficientFunction((u1, u2))\n",
    "        e11 =  2*x*y*(1 - 2*x)*(x - 1)*(y - 1)*(2*y - 1)\n",
    "        e12 =  x*(x - 1)*(-1.0*x*y*(x - 1)*(y - 1) - 0.5*x*y*(x - 1)*(2*y - 1) + x*y*(y - 1)*(2*y - 1) - 0.5*x*(x - 1)*(y - 1)*(2*y - 1) + 1.0*y*(x - 1)*(y - 1)*(2*y - 1))\n",
    "        e22 =  x**2*(x - 1)**2*(2*y*(y - 1) + y*(2*y - 1) + (y - 1)*(2*y - 1))\n",
    "        strain = CoefficientFunction((e11,e12,e12,e22), dims=(2,2))\n",
    "        s11 =  x*(x - 1)*(98.6577181208053*x*y*(x - 1)*(y - 1) + 49.3288590604026*x*y*(x - 1)*(2*y - 1) - 102.684563758389*x*y*(y - 1)*(2*y - 1) + 49.3288590604026*x*(x - 1)*(y - 1)*(2*y - 1) - 102.684563758389*y*(x - 1)*(y - 1)*(2*y - 1))\n",
    "        s12 =  x*(-6.04026845637584*x**3*y**2 + 6.04026845637584*x**3*y - 1.00671140939597*x**3 + 8.05369127516779*x**2*y**3 - 8.05369127516779*x**2*y + 2.01342281879195*x**2 - 12.0805369127517*x*y**3 + 12.0805369127517*x*y**2 - 1.00671140939597*x + 4.02684563758389*y**3 - 6.04026845637584*y**2 + 2.01342281879195*y)\n",
    "        s22 =  x*(x - 1)*(102.684563758389*x*y*(x - 1)*(y - 1) + 51.3422818791946*x*y*(x - 1)*(2*y - 1) - 98.6577181208053*x*y*(y - 1)*(2*y - 1) + 51.3422818791946*x*(x - 1)*(y - 1)*(2*y - 1) - 98.6577181208053*y*(x - 1)*(y - 1)*(2*y - 1))\n",
    "        \n",
    "        stress = CoefficientFunction((s11,s12,s12,s22), dims=(2,2))\n",
    "        b1 =  12.0805369127517*x**4*y - 6.04026845637584*x**4 - 1208.05369127517*x**3*y**2 + 1183.89261744966*x**3*y - 189.261744966443*x**3 + 1232.21476510067*x**2*y**3 - 36.2416107382548*x**2*y**2 - 1183.89261744966*x**2*y + 295.973154362416*x**2 - 1232.21476510067*x*y**3 + 1244.29530201342*x*y**2 - 12.0805369127516*x*y - 100.671140939597*x + 205.369127516778*y**3 - 308.053691275167*y**2 + 102.684563758389*y\n",
    "        b2 =  -616.107382550335*x**4*y + 308.053691275167*x**4 + 1208.05369127517*x**3*y**2 + 24.1610738255031*x**3*y - 414.765100671141*x**3 - 24.1610738255034*x**2*y**3 - 1775.8389261745*x**2*y**2 + 1183.89261744966*x**2*y + 6.0402684563758*x**2 + 24.1610738255034*x*y**3 + 567.785234899328*x*y**2 - 591.946308724832*x*y + 100.671140939597*x - 4.02684563758389*y**3 + 6.04026845637584*y**2 - 2.01342281879195*y\n",
    "        b = CoefficientFunction((b1, b2))\n",
    "    return Lame_mu, Lame_lambda, b, u, strain, stress"
   ]
  },
  {
   "cell_type": "code",
   "execution_count": 10,
   "id": "205f2305-49da-4024-b2c7-ff86cdcb69c3",
   "metadata": {},
   "outputs": [],
   "source": [
    "def HDGk_solve(mesh,order, Lame_mu, Lame_lambda, b):\n",
    "    V = VectorL2(mesh, order=order)\n",
    "    W = MatrixValued(L2(mesh, order= order), dim=2, symmetric=True)\n",
    "    M = VectorFacetFESpace(mesh, order=order, dirichlet='default')\n",
    "    fes = V * W * W * M\n",
    "\n",
    "    (u, sigma, eps, uhat), (v, w, z, mu) = fes.TnT()\n",
    "    n = specialcf.normal(mesh.dim)\n",
    "    tau = 1.0\n",
    "    sigmahatn = sigma*n - tau*(u-uhat)\n",
    "    dS = dx(element_boundary=True)\n",
    "    a = BilinearForm(fes)\n",
    "    a += InnerProduct(sigma,grad(v))*dx - (sigmahatn*v)*dS\n",
    "    a += InnerProduct(eps,w)*dx  +(u-uhat)*(w*n)*dS - InnerProduct(grad(u), w)*dx\n",
    "    a += InnerProduct(sigma,z)*dx - InnerProduct(Csym(eps, Lame_lambda, Lame_mu),z)*dx\n",
    "    a += (sigmahatn*mu)*dS\n",
    "    a.Assemble()\n",
    "\n",
    "    f = LinearForm(fes)\n",
    "    f += b*v*dx\n",
    "    f.Assemble()\n",
    "\n",
    "    gf = GridFunction(fes)\n",
    "    gfu, gfstress, gfstrain, gfuhat = gf.components\n",
    "    gfuhat.Set(CF((0,0)),BND)\n",
    "    \n",
    "    c = Preconditioner(a,\"direct\")\n",
    "    c.Update()\n",
    "    solvers.BVP(bf=a, lf=f, gf=gf, pre=c)\n",
    "\n",
    "    return gf\n",
    "def Csym(e,lam,mu):\n",
    "    Tre = e[0,0]+e[1,1]\n",
    "    return CoefficientFunction((lam*Tre+2.0*mu*e[0,0],2.0*mu*e[0,1],2.0*mu*e[1,0],lam*Tre+2.0*mu*e[1,1]), dims=(2,2))\n"
   ]
  },
  {
   "cell_type": "code",
   "execution_count": 11,
   "id": "c399acbf-8472-4c72-8b22-c2f96e3d22e5",
   "metadata": {},
   "outputs": [
    {
     "name": "stdout",
     "output_type": "stream",
     "text": [
      "\u001b[2KCG iteration 1, residual = 0.30626367784890907     \n",
      "\u001b[2KCG iteration 2, residual = 9.720048973295597e-17     \n"
     ]
    }
   ],
   "source": [
    "# mesh = diagonal1(N=50)\n",
    "mesh = criscross_offcenter(N=5)\n",
    "Lame_mu, Lame_lambda, b, u, strain, stress = problem(number=3)\n",
    "\n",
    "gf = HDGk_solve(mesh, order=1, Lame_mu=Lame_mu, Lame_lambda=Lame_lambda, b = b)"
   ]
  },
  {
   "cell_type": "code",
   "execution_count": 13,
   "id": "9be2019b-ea21-48fc-925f-f07f9a2417fc",
   "metadata": {},
   "outputs": [
    {
     "data": {
      "application/vnd.jupyter.widget-view+json": {
       "model_id": "f7bef21314e944daaef3c815792f0aba",
       "version_major": 2,
       "version_minor": 0
      },
      "text/plain": [
       "WebGuiWidget(layout=Layout(height='50vh', width='100%'), value={'gui_settings': {}, 'ngsolve_version': '6.2.22…"
      ]
     },
     "metadata": {},
     "output_type": "display_data"
    },
    {
     "data": {
      "text/plain": [
       "BaseWebGuiScene"
      ]
     },
     "execution_count": 13,
     "metadata": {},
     "output_type": "execute_result"
    }
   ],
   "source": [
    "Draw(gf.components[0])"
   ]
  },
  {
   "cell_type": "code",
   "execution_count": 14,
   "id": "dba08779-b403-4025-8a7d-061cd076b857",
   "metadata": {},
   "outputs": [
    {
     "data": {
      "application/vnd.jupyter.widget-view+json": {
       "model_id": "c6c04cec85df419cb8a14f2fc221f6ac",
       "version_major": 2,
       "version_minor": 0
      },
      "text/plain": [
       "WebGuiWidget(layout=Layout(height='50vh', width='100%'), value={'gui_settings': {}, 'ngsolve_version': '6.2.22…"
      ]
     },
     "metadata": {},
     "output_type": "display_data"
    },
    {
     "data": {
      "text/plain": [
       "BaseWebGuiScene"
      ]
     },
     "execution_count": 14,
     "metadata": {},
     "output_type": "execute_result"
    }
   ],
   "source": [
    "Draw(u,mesh)"
   ]
  },
  {
   "cell_type": "code",
   "execution_count": 36,
   "id": "d4e56a5a-2a84-4532-8cd9-80abb969adc6",
   "metadata": {},
   "outputs": [],
   "source": [
    "def run_convergence_test(malla, order=1, numproblem=1):\n",
    "    Lame_mu, Lame_lambda, b, u, strain, stress = problem(number=numproblem)\n",
    "    \n",
    "    Nlist = [4,8,16,32,64]\n",
    "    errors = []\n",
    "    for N in Nlist:\n",
    "        mesh = malla(N)\n",
    "        gf = HDGk_solve(mesh, order=order, Lame_mu=Lame_mu, Lame_lambda=Lame_lambda, b = b)\n",
    "        gfu, gfstress, gfstrain, gfuhat = gf.components\n",
    "        errors.append([sqrt( Integrate( InnerProduct(gfu - u, gfu-u), mesh)),\n",
    "                       sqrt( Integrate( InnerProduct(gfstress - stress, gfstress - stress), mesh)),\n",
    "                       sqrt( Integrate( InnerProduct(gfstrain - strain, gfstrain - strain), mesh))])\n",
    "    hlist = [1/N for N in Nlist] \n",
    "    return hlist, errors"
   ]
  },
  {
   "cell_type": "code",
   "execution_count": 46,
   "id": "a7a3fcc2-3ec6-4d26-9327-8950120e6bb9",
   "metadata": {},
   "outputs": [
    {
     "name": "stdout",
     "output_type": "stream",
     "text": [
      "\u001b[2KCG iteration 1, residual = 0.145867763074461     \n",
      "\u001b[2KCG iteration 2, residual = 1.5568365194455197e-17     \n",
      "\u001b[2KCG iteration 1, residual = 0.1110020925313644     \n",
      "\u001b[2KCG iteration 2, residual = 1.40145980483198e-17     \n",
      "\u001b[2KCG iteration 1, residual = 0.0858906850028049     \n",
      "\u001b[2KCG iteration 2, residual = 1.4587845021537425e-17     \n",
      "\u001b[2KCG iteration 1, residual = 0.06926613582220824     \n",
      "\u001b[2KCG iteration 2, residual = 1.6188330170351332e-17     \n",
      "\u001b[2KCG iteration 1, residual = 0.05896254666581289     \n",
      "\u001b[2KCG iteration 2, residual = 2.4505578861404873e-17     \n"
     ]
    }
   ],
   "source": [
    "hlist, errors = run_convergence_test(chevron, order=0, numproblem=2)"
   ]
  },
  {
   "cell_type": "code",
   "execution_count": 47,
   "id": "d140014d-1544-41f7-9e1f-57b1f974cffc",
   "metadata": {},
   "outputs": [],
   "source": [
    "error_list = ['u', 'stress', 'strain']\n",
    "Table = Convergence_table(h=hlist, Ndof=None, Err_list=error_list)\n",
    "Table.create(errors)\n",
    "df = Table.Show_in_Jupyter()"
   ]
  },
  {
   "cell_type": "code",
   "execution_count": 48,
   "id": "d596a5c8-c8da-4b06-8bd2-3666badb5c86",
   "metadata": {},
   "outputs": [
    {
     "data": {
      "text/html": [
       "<div>\n",
       "<style scoped>\n",
       "    .dataframe tbody tr th:only-of-type {\n",
       "        vertical-align: middle;\n",
       "    }\n",
       "\n",
       "    .dataframe tbody tr th {\n",
       "        vertical-align: top;\n",
       "    }\n",
       "\n",
       "    .dataframe thead th {\n",
       "        text-align: right;\n",
       "    }\n",
       "</style>\n",
       "<table border=\"1\" class=\"dataframe\">\n",
       "  <thead>\n",
       "    <tr style=\"text-align: right;\">\n",
       "      <th></th>\n",
       "      <th>h</th>\n",
       "      <th>Error u</th>\n",
       "      <th>Order u</th>\n",
       "      <th>Error stress</th>\n",
       "      <th>Order stress</th>\n",
       "      <th>Error strain</th>\n",
       "      <th>Order strain</th>\n",
       "    </tr>\n",
       "  </thead>\n",
       "  <tbody>\n",
       "    <tr>\n",
       "      <th>0</th>\n",
       "      <td>2.5000e-01</td>\n",
       "      <td>2.7172e-02</td>\n",
       "      <td>0.0000</td>\n",
       "      <td>6.1471e-02</td>\n",
       "      <td>0.0000</td>\n",
       "      <td>1.9476e-02</td>\n",
       "      <td>0.0000</td>\n",
       "    </tr>\n",
       "    <tr>\n",
       "      <th>1</th>\n",
       "      <td>1.2500e-01</td>\n",
       "      <td>1.4161e-02</td>\n",
       "      <td>0.9403</td>\n",
       "      <td>3.5917e-02</td>\n",
       "      <td>0.7753</td>\n",
       "      <td>1.1800e-02</td>\n",
       "      <td>0.7229</td>\n",
       "    </tr>\n",
       "    <tr>\n",
       "      <th>2</th>\n",
       "      <td>6.2500e-02</td>\n",
       "      <td>7.2690e-03</td>\n",
       "      <td>0.9621</td>\n",
       "      <td>2.1070e-02</td>\n",
       "      <td>0.7695</td>\n",
       "      <td>7.1172e-03</td>\n",
       "      <td>0.7294</td>\n",
       "    </tr>\n",
       "    <tr>\n",
       "      <th>3</th>\n",
       "      <td>3.1250e-02</td>\n",
       "      <td>3.7054e-03</td>\n",
       "      <td>0.9721</td>\n",
       "      <td>1.2948e-02</td>\n",
       "      <td>0.7024</td>\n",
       "      <td>4.4049e-03</td>\n",
       "      <td>0.6922</td>\n",
       "    </tr>\n",
       "    <tr>\n",
       "      <th>4</th>\n",
       "      <td>1.5625e-02</td>\n",
       "      <td>1.8826e-03</td>\n",
       "      <td>0.9769</td>\n",
       "      <td>8.1886e-03</td>\n",
       "      <td>0.6611</td>\n",
       "      <td>2.7714e-03</td>\n",
       "      <td>0.6685</td>\n",
       "    </tr>\n",
       "  </tbody>\n",
       "</table>\n",
       "</div>"
      ],
      "text/plain": [
       "           h    Error u Order u  ...  Order stress Error strain  Order strain\n",
       "0 2.5000e-01 2.7172e-02  0.0000  ...        0.0000   1.9476e-02        0.0000\n",
       "1 1.2500e-01 1.4161e-02  0.9403  ...        0.7753   1.1800e-02        0.7229\n",
       "2 6.2500e-02 7.2690e-03  0.9621  ...        0.7695   7.1172e-03        0.7294\n",
       "3 3.1250e-02 3.7054e-03  0.9721  ...        0.7024   4.4049e-03        0.6922\n",
       "4 1.5625e-02 1.8826e-03  0.9769  ...        0.6611   2.7714e-03        0.6685\n",
       "\n",
       "[5 rows x 7 columns]"
      ]
     },
     "execution_count": 48,
     "metadata": {},
     "output_type": "execute_result"
    }
   ],
   "source": [
    "df"
   ]
  },
  {
   "cell_type": "code",
   "execution_count": null,
   "id": "a987622d-ab27-4c81-ba9f-019cb75401c9",
   "metadata": {},
   "outputs": [],
   "source": []
  }
 ],
 "metadata": {
  "kernelspec": {
   "display_name": "Python 3 (ipykernel)",
   "language": "python",
   "name": "python3"
  },
  "language_info": {
   "codemirror_mode": {
    "name": "ipython",
    "version": 3
   },
   "file_extension": ".py",
   "mimetype": "text/x-python",
   "name": "python",
   "nbconvert_exporter": "python",
   "pygments_lexer": "ipython3",
   "version": "3.8.5"
  }
 },
 "nbformat": 4,
 "nbformat_minor": 5
}
