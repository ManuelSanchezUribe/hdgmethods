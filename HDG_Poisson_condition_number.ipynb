{
 "cells": [
  {
   "cell_type": "markdown",
   "id": "d13f93f0",
   "metadata": {},
   "source": [
    "# HDG for Poisson problem\n",
    "## Numerical experiments for the conditioning"
   ]
  },
  {
   "cell_type": "markdown",
   "id": "39d4dbba",
   "metadata": {},
   "source": [
    "Consider the Posson problem on $\\Omega\\subseteq\\mathbb R^{d}$, $d=2,3$.\n",
    "\n",
    "\\begin{equation*}\n",
    "\\begin{array}{rclll}\n",
    "-\\Delta u &=& f&\\mbox{in}&\\Omega \\\\\n",
    "u &=& u_D& \\mbox{on}& \\partial \\Omega\n",
    "\\end{array}\n",
    "\\end{equation*}"
   ]
  },
  {
   "cell_type": "code",
   "execution_count": 63,
   "id": "93ee4b2a",
   "metadata": {},
   "outputs": [],
   "source": [
    "from ngsolve import *\n",
    "from netgen.geom2d import unit_square \n",
    "from ngsolve.webgui import Draw \n",
    "from ngsolve.la import EigenValues_Preconditioner\n",
    "import scipy.sparse as sp\n",
    "from scipy.sparse.linalg import eigs, eigsh\n",
    "import numpy as np\n",
    "import matplotlib.pyplot as plt\n",
    "np.set_printoptions(precision=3)"
   ]
  },
  {
   "cell_type": "code",
   "execution_count": 137,
   "id": "6d47a578",
   "metadata": {},
   "outputs": [],
   "source": [
    "# Data\n",
    "force2d = ((2*pi**2))*sin(pi*x)*sin(pi*y)\n",
    "uD    = 0        \n",
    "dirichlet_boundary2d='left|bottom|right|top'"
   ]
  },
  {
   "cell_type": "code",
   "execution_count": 138,
   "id": "3ac8efa3",
   "metadata": {},
   "outputs": [],
   "source": [
    "# Fix h\n",
    "h = 0.25\n",
    "mesh2d = Mesh(unit_square.GenerateMesh(maxh=h))\n",
    "# Draw(mesh)"
   ]
  },
  {
   "cell_type": "code",
   "execution_count": 141,
   "id": "d0ba2f27",
   "metadata": {},
   "outputs": [],
   "source": [
    "def SetUp_HDG(mesh, p, db, condense=False):\n",
    "    Vh = VectorL2(mesh, order=p)\n",
    "    Wh = L2(mesh, order=p)\n",
    "    Mh = FacetFESpace(mesh, order=p, dirichlet=dirichlet_boundary)\n",
    "    fes = FESpace([Vh,Wh,Mh])\n",
    "    qh, uh, uhat = fes.TrialFunction()\n",
    "    vh, wh, what = fes.TestFunction()\n",
    "    tau = 1.0 # stabilization parameter\n",
    "    n = specialcf.normal(mesh.dim) # normal vector\n",
    "    # HDG numerical flux\n",
    "    qhatn = qh*n+tau*(uh-uhat)\n",
    "\n",
    "    # Bilinear form\n",
    "    a = BilinearForm(fes, condense=condense)\n",
    "    a += (qh*vh - uh*div(vh))*dx +  (uhat*vh*n)*dx(element_boundary=True)\n",
    "    a += (-div(qh)*wh*dx - tau*(uh-uhat)*wh*dx(element_boundary=True))\n",
    "    a += qhatn*what*dx(element_boundary=True)\n",
    "    a.Assemble()\n",
    "    \n",
    "    return a,  fes\n",
    "\n",
    "def SolvePoisson_HDG(mesh, p, force, uD, db): # Dirichlet boundary conditions\n",
    "    a, fes = SetUp_HDG(mesh, p, db, condense=False)\n",
    "    # Right hand side\n",
    "    f = LinearForm(fes)\n",
    "    f += (-force)*wh*dx\n",
    "    f.Assemble()\n",
    "    \n",
    "    gf = GridFunction(fes)\n",
    "    gf.components[2].Set(uD, BND)\n",
    "    r = f.vec.CreateVector()\n",
    "    r.data = f.vec - a.mat * gf.vec\n",
    "    inv = a.mat.Inverse(freedofs=fes.FreeDofs())\n",
    "    gf.vec.data += inv * r\n",
    "    return gf\n",
    "    "
   ]
  },
  {
   "cell_type": "code",
   "execution_count": 142,
   "id": "725c35a2",
   "metadata": {},
   "outputs": [
    {
     "data": {
      "application/vnd.jupyter.widget-view+json": {
       "model_id": "198e5738d05a49b6a997bdbbd8adbb86",
       "version_major": 2,
       "version_minor": 0
      },
      "text/plain": [
       "WebGuiWidget(layout=Layout(height='50vh', width='100%'), value={'gui_settings': {}, 'ngsolve_version': '6.2.23…"
      ]
     },
     "metadata": {},
     "output_type": "display_data"
    },
    {
     "data": {
      "text/plain": [
       "BaseWebGuiScene"
      ]
     },
     "execution_count": 142,
     "metadata": {},
     "output_type": "execute_result"
    }
   ],
   "source": [
    "gf = SolvePoisson_HDG(mesh2d, p=5,force=force2d, uD=uD, db=dirichlet_boundary2d)\n",
    "Draw(gf.components[1])"
   ]
  },
  {
   "cell_type": "markdown",
   "id": "575b8589",
   "metadata": {},
   "source": [
    "## Condition number"
   ]
  },
  {
   "cell_type": "code",
   "execution_count": 143,
   "id": "9289be97",
   "metadata": {},
   "outputs": [],
   "source": [
    "def get_kappa(mesh,p, db, condense):\n",
    "    a, fes=SetUp_HDG(mesh, p, db, condense)\n",
    "    # sparse scipy matrix\n",
    "    rows,cols,vals = a.mat.COO()\n",
    "    A = sp.csr_matrix((vals,(rows,cols)))\n",
    "    # restrict to freedof\n",
    "    fd = list(fes.FreeDofs(condense))\n",
    "    Afree = A[fd,:][:,fd]\n",
    "    # Estimate condition number kappa\n",
    "    lams_LM = eigsh(Afree, which='LM')[0]\n",
    "    print(p,lams_LM)\n",
    "    lams_SM = eigsh(Afree, which='SM')[0]\n",
    "    print(p, lams_SM)\n",
    "    lams = np.concatenate((np.abs(lams_LM), np.abs(lams_SM)))\n",
    "    print(p, lams)\n",
    "    kappa = max(lams)/min(lams)\n",
    "    return kappa"
   ]
  },
  {
   "cell_type": "code",
   "execution_count": 144,
   "id": "2e072ff4",
   "metadata": {},
   "outputs": [],
   "source": [
    "def test_condition_number_fixmesh(mesh,db,condense=False, pmax=6):\n",
    "    kappa=[]\n",
    "    p = [i for i in range(2,pmax)]\n",
    "    for pi in p:\n",
    "        kappa.append(get_kappa(mesh, pi, db, condense))\n",
    "    return p, kappa"
   ]
  },
  {
   "cell_type": "code",
   "execution_count": 145,
   "id": "f8b2f128",
   "metadata": {},
   "outputs": [
    {
     "name": "stdout",
     "output_type": "stream",
     "text": [
      "2 [-24.937 -24.355 -24.098 -22.994 -22.354 -21.328]\n",
      "2 [-0.897 -0.843 -0.778 -0.661 -0.631 -0.325]\n",
      "2 [24.937 24.355 24.098 22.994 22.354 21.328  0.897  0.843  0.778  0.661\n",
      "  0.631  0.325]\n",
      "3 [-31.97  -31.24  -30.83  -29.624 -28.903 -27.514]\n",
      "3 [-0.902 -0.847 -0.782 -0.664 -0.634 -0.325]\n",
      "3 [31.97  31.24  30.83  29.624 28.903 27.514  0.902  0.847  0.782  0.664\n",
      "  0.634  0.325]\n",
      "4 [-38.252 -37.448 -36.91  -35.261 -34.415 -32.875]\n",
      "4 [-0.903 -0.847 -0.783 -0.664 -0.634 -0.326]\n",
      "4 [38.252 37.448 36.91  35.261 34.415 32.875  0.903  0.847  0.783  0.664\n",
      "  0.634  0.326]\n",
      "5 [-44.968 -44.036 -43.303 -41.463 -40.46  -38.631]\n",
      "5 [-0.903 -0.847 -0.783 -0.665 -0.634 -0.326]\n",
      "5 [44.968 44.036 43.303 41.463 40.46  38.631  0.903  0.847  0.783  0.665\n",
      "  0.634  0.326]\n",
      "6 [-51.363 -50.344 -49.435 -47.248 -46.087 -44.075]\n",
      "6 [-0.903 -0.847 -0.783 -0.665 -0.634 -0.326]\n",
      "6 [51.363 50.344 49.435 47.248 46.087 44.075  0.903  0.847  0.783  0.665\n",
      "  0.634  0.326]\n",
      "7 [-57.979 -56.838 -55.73  -53.319 -51.959 -49.711]\n",
      "7 [-0.903 -0.848 -0.783 -0.665 -0.634 -0.326]\n",
      "7 [57.979 56.838 55.73  53.319 51.959 49.711  0.903  0.848  0.783  0.665\n",
      "  0.634  0.326]\n",
      "8 [-64.429 -63.191 -61.891 -59.171 -57.613 -55.181]\n",
      "8 [-0.903 -0.848 -0.783 -0.665 -0.635 -0.326]\n",
      "8 [64.429 63.191 61.891 59.171 57.613 55.181  0.903  0.848  0.783  0.665\n",
      "  0.635  0.326]\n",
      "9 [-71.015 -69.656 -68.156 -65.2   -63.414 -60.772]\n",
      "9 [-0.903 -0.848 -0.783 -0.665 -0.635 -0.326]\n",
      "9 [71.015 69.656 68.156 65.2   63.414 60.772  0.903  0.848  0.783  0.665\n",
      "  0.635  0.326]\n",
      "10 [-77.5   -76.04  -74.34  -71.095 -69.084 -66.26 ]\n",
      "10 [-0.903 -0.848 -0.783 -0.665 -0.635 -0.326]\n",
      "10 [77.5   76.04  74.34  71.095 69.084 66.26   0.903  0.848  0.783  0.665\n",
      "  0.635  0.326]\n",
      "11 [-84.077 -82.496 -80.597 -77.108 -74.85  -71.833]\n",
      "11 [-0.903 -0.848 -0.783 -0.665 -0.635 -0.326]\n",
      "11 [84.077 82.496 80.597 77.108 74.85  71.833  0.903  0.848  0.783  0.665\n",
      "  0.635  0.326]\n",
      "12 [-90.587 -88.901 -86.8   -83.033 -80.532 -77.337]\n",
      "12 [-0.903 -0.848 -0.783 -0.665 -0.635 -0.326]\n",
      "12 [90.587 88.901 86.8   83.033 80.532 77.337  0.903  0.848  0.783  0.665\n",
      "  0.635  0.326]\n",
      "13 [-97.162 -95.356 -93.056 -89.042 -86.282 -82.903]\n",
      "13 [-0.903 -0.848 -0.783 -0.665 -0.635 -0.326]\n",
      "13 [97.162 95.356 93.056 89.042 86.282 82.903  0.903  0.848  0.783  0.665\n",
      "  0.635  0.326]\n",
      "14 [-103.69  -101.775  -99.275  -94.988  -91.976  -88.421]\n",
      "14 [-0.903 -0.848 -0.783 -0.665 -0.635 -0.326]\n",
      "14 [103.69  101.775  99.275  94.988  91.976  88.421   0.903   0.848   0.783\n",
      "   0.665   0.635   0.326]\n"
     ]
    }
   ],
   "source": [
    "# p, kappa= test_condition_number_fixmesh(mesh,dirichlet_boundary,condense=False, pmax=6)\n",
    "p_sc, kappa_sc= test_condition_number_fixmesh(mesh2d,dirichlet_boundary2d,condense=True, pmax=15)\n"
   ]
  },
  {
   "cell_type": "code",
   "execution_count": 146,
   "id": "985d54fb",
   "metadata": {},
   "outputs": [
    {
     "name": "stdout",
     "output_type": "stream",
     "text": [
      "[2, 3, 4, 5, 6, 7, 8, 9, 10, 11, 12, 13, 14] [76.72704357189942, 98.23220270144854, 117.49998691294314, 138.1155182016836, 157.74910518258335, 178.0646867531559, 197.86949904960835, 218.0939018050072, 238.00921344180497, 258.20610358515285, 278.19825875752497, 298.390573695357, 318.43827177814296]\n"
     ]
    }
   ],
   "source": [
    "# print(p, kappa)\n",
    "print(p_sc, kappa_sc)"
   ]
  },
  {
   "cell_type": "code",
   "execution_count": 154,
   "id": "bfad739b",
   "metadata": {},
   "outputs": [
    {
     "name": "stdout",
     "output_type": "stream",
     "text": [
      "[76.72704357189942, 192.74647639340674, 306.90817428759766, 413.66235233281515, 512.6924936706237, 604.7043721248067, 690.5433921470948, 770.985905573627, 846.6987521191949, 918.2437168792441, 986.0925980916397, 1050.6429045546188, 1112.2315025497062]\n"
     ]
    },
    {
     "data": {
      "image/png": "[encoded data removed]",
      "text/plain": [
       "<Figure size 640x480 with 1 Axes>"
      ]
     },
     "metadata": {},
     "output_type": "display_data"
    },
    {
     "name": "stdout",
     "output_type": "stream",
     "text": [
      "['-', 0.5364761481493363, 0.770054078534407, 1.083091489159337, 1.2385759392926032, 1.4678120072381218, 1.5889939400714077, 1.7663465643623522, 1.8656800639712106, 2.008157435083307, 2.092259825683032, 2.21013280403366, 2.2829499172543537]\n"
     ]
    }
   ],
   "source": [
    "import matplotlib.pyplot as plt\n",
    "\n",
    "plt.semilogx(p_sc, kappa_sc,'--o',label='kappa')\n",
    "C2 = kappa_sc[0]/(np.log(p_sc[0])*np.log(p_sc[0]))\n",
    "p2 = [C2*np.log(p_i)*np.log(p_i) for p_i in p_sc]\n",
    "print(p2)\n",
    "plt.semilogx(p_sc, p2,'C02', label='log(p)^2')\n",
    "C3 = kappa_sc[0]/(np.log(p_sc[0])*np.log(p_sc[0])*np.log(p_sc[0]))\n",
    "p3 = [C3*np.log(p_i)*np.log(p_i)*np.log(p_i) for p_i in p_sc]\n",
    "plt.semilogx(p_sc, p3,'C03', label='log(p)^3')\n",
    "plt.legend()\n",
    "plt.savefig('kappa_HDG_2d.png')\n",
    "plt.show()\n",
    "gamma2d = compute_gamma(kappa_sc, p_sc)\n",
    "print(gamma2d)"
   ]
  },
  {
   "cell_type": "markdown",
   "id": "0ba3a235",
   "metadata": {},
   "source": [
    "# 3D problem"
   ]
  },
  {
   "cell_type": "code",
   "execution_count": 110,
   "id": "a5bec274",
   "metadata": {},
   "outputs": [],
   "source": [
    "from netgen.csg import *"
   ]
  },
  {
   "cell_type": "code",
   "execution_count": 113,
   "id": "80385d97",
   "metadata": {},
   "outputs": [],
   "source": [
    "# Data\n",
    "force = ((3*pi**2))*sin(pi*x)*sin(pi*y)*sin(pi*z)\n",
    "uD    = 0        \n",
    "dirichlet_boundary='back|left|front|right|bottom|top'"
   ]
  },
  {
   "cell_type": "code",
   "execution_count": 117,
   "id": "146a2a2b",
   "metadata": {},
   "outputs": [],
   "source": [
    "# Fix h\n",
    "h = 0.5\n",
    "mesh = Mesh(unit_cube.GenerateMesh(maxh=h))\n",
    "# print(mesh.GetBoundaries())\n",
    "# Draw(mesh)"
   ]
  },
  {
   "cell_type": "code",
   "execution_count": 119,
   "id": "cff17048",
   "metadata": {},
   "outputs": [],
   "source": [
    "gf = SolvePoisson_HDG(mesh, p=5,force=force, uD=uD, db=dirichlet_boundary)\n",
    "# Draw(gf.components[1])"
   ]
  },
  {
   "cell_type": "code",
   "execution_count": 124,
   "id": "b3ccd903",
   "metadata": {},
   "outputs": [
    {
     "name": "stdout",
     "output_type": "stream",
     "text": [
      "2 [-16.543 -15.335 -12.995 -12.936 -12.62  -12.577]\n",
      "2 [-0.057 -0.056 -0.054 -0.052 -0.049 -0.047]\n",
      "2 [16.543 15.335 12.995 12.936 12.62  12.577  0.057  0.056  0.054  0.052\n",
      "  0.049  0.047]\n",
      "3 [-20.16  -18.967 -16.197 -16.044 -15.751 -15.681]\n",
      "3 [-0.043 -0.041 -0.04  -0.039 -0.037 -0.035]\n",
      "3 [20.16  18.967 16.197 16.044 15.751 15.681  0.043  0.041  0.04   0.039\n",
      "  0.037  0.035]\n",
      "4 [-24.477 -22.726 -19.384 -19.274 -18.879 -18.75 ]\n",
      "4 [-0.035 -0.032 -0.031 -0.031 -0.029 -0.027]\n",
      "4 [24.477 22.726 19.384 19.274 18.879 18.75   0.035  0.032  0.031  0.031\n",
      "  0.029  0.027]\n",
      "5 [-27.908 -26.081 -22.319 -22.094 -21.818 -21.556]\n",
      "5 [-0.029 -0.026 -0.026 -0.025 -0.023 -0.022]\n",
      "5 [2.791e+01 2.608e+01 2.232e+01 2.209e+01 2.182e+01 2.156e+01 2.904e-02\n",
      " 2.569e-02 2.553e-02 2.487e-02 2.317e-02 2.158e-02]\n",
      "6 [-31.955 -29.644 -25.311 -25.117 -24.783 -24.405]\n",
      "6 [-0.025 -0.022 -0.021 -0.021 -0.019 -0.018]\n",
      "6 [3.196e+01 2.964e+01 2.531e+01 2.512e+01 2.478e+01 2.441e+01 2.467e-02\n",
      " 2.157e-02 2.144e-02 2.085e-02 1.941e-02 1.804e-02]\n",
      "7 [-35.405 -32.938 -28.139 -27.845 -27.641 -27.102]\n",
      "7 [-0.021 -0.019 -0.018 -0.018 -0.017 -0.015]\n",
      "7 [3.540e+01 3.294e+01 2.814e+01 2.784e+01 2.764e+01 2.710e+01 2.134e-02\n",
      " 1.857e-02 1.847e-02 1.792e-02 1.667e-02 1.549e-02]\n",
      "8 [-39.311 -36.415 -31.038 -30.774 -30.531 -29.856]\n",
      "8 [-0.019 -0.016 -0.016 -0.016 -0.015 -0.014]\n",
      "8 [3.931e+01 3.641e+01 3.104e+01 3.077e+01 3.053e+01 2.986e+01 1.878e-02\n",
      " 1.629e-02 1.621e-02 1.570e-02 1.460e-02 1.356e-02]\n",
      "9 [-42.815 -39.716 -33.836 -33.488 -33.344 -32.526]\n",
      "9 [-0.017 -0.015 -0.014 -0.014 -0.013 -0.012]\n",
      "9 [4.282e+01 3.972e+01 3.384e+01 3.349e+01 3.334e+01 3.253e+01 1.675e-02\n",
      " 1.451e-02 1.444e-02 1.396e-02 1.299e-02 1.205e-02]\n"
     ]
    }
   ],
   "source": [
    "p_sc_3d, kappa_sc_3d= test_condition_number_fixmesh(mesh,dirichlet_boundary,condense=True, pmax=10)\n"
   ]
  },
  {
   "cell_type": "code",
   "execution_count": 127,
   "id": "b63bd594",
   "metadata": {},
   "outputs": [
    {
     "name": "stdout",
     "output_type": "stream",
     "text": [
      "[355.66518537803654, 893.4686919506348, 1422.6607415121462, 1917.5155248683225, 2376.565840601124, 2803.0832754443154, 3200.986668402328, 3573.8747678025393] [355.6651853780365, 580.8679540016701, 915.3064255607039, 1293.2292726987116, 1770.9662326746802, 2285.9340562307134, 2899.1560515232845, 3551.724971415128]\n"
     ]
    },
    {
     "data": {
      "image/png": "[encoded data removed]",
      "text/plain": [
       "<Figure size 640x480 with 1 Axes>"
      ]
     },
     "metadata": {},
     "output_type": "display_data"
    }
   ],
   "source": [
    "import matplotlib.pyplot as plt\n",
    "\n",
    "plt.semilogx(p_sc_3d, kappa_sc_3d,'--o',label='kappa')\n",
    "\n",
    "C2 = kappa_sc_3d[0]/(np.log(p_sc_3d[0])*np.log(p_sc_3d[0]))\n",
    "p2 = [C2*np.log(p_i)*np.log(p_i) for p_i in p_sc_3d]\n",
    "print(p2, kappa_sc_3d)\n",
    "plt.semilogx(p_sc_3d, p2,'C02', label='log(p)^2')\n",
    "\n",
    "C3 = kappa_sc_3d[0]/(np.log(p_sc_3d[0])*np.log(p_sc_3d[0])*np.log(p_sc_3d[0]))\n",
    "p3 = [C3*np.log(p_i)*np.log(p_i)*np.log(p_i) for p_i in p_sc_3d]\n",
    "plt.semilogx(p_sc_3d, p3,'C03', label='log(p)^3')\n",
    "plt.legend()\n",
    "plt.savefig('kappa_HDG_3d.png')\n",
    "plt.show()"
   ]
  },
  {
   "cell_type": "code",
   "execution_count": 152,
   "id": "6bd199ad",
   "metadata": {},
   "outputs": [
    {
     "name": "stdout",
     "output_type": "stream",
     "text": [
      "['-', 1.065079170282748, 1.955124546861162, 2.315826318146276, 2.9295857815955797, 3.092742960667678, 3.5806319746844757, 3.684751001319045]\n"
     ]
    }
   ],
   "source": [
    "def compute_gamma(kappa, p):\n",
    "    gamma = ['-']\n",
    "    for i in range(len(p)-1):\n",
    "        gamma.append(np.log(kappa[i+1]/kappa[i])/np.log(np.log(p[i+1])/np.log(p[i])))\n",
    "    return gamma\n",
    "gamma3d = compute_gamma(kappa_sc_3d, p_sc_3d)\n",
    "print(gamma3d)"
   ]
  },
  {
   "cell_type": "code",
   "execution_count": 153,
   "id": "b9fb22ef",
   "metadata": {},
   "outputs": [
    {
     "name": "stdout",
     "output_type": "stream",
     "text": [
      "['-', 0.5364761481493363, 0.770054078534407, 1.083091489159337, 1.2385759392926032, 1.4678120072381218, 1.5889939400714077, 1.7663465643623522, 1.8656800639712106, 2.008157435083307, 2.092259825683032, 2.21013280403366, 2.2829499172543537]\n"
     ]
    }
   ],
   "source": [
    "gamma2d = compute_gamma(kappa_sc, p_sc)\n",
    "print(gamma2d)"
   ]
  },
  {
   "cell_type": "markdown",
   "id": "2411de14",
   "metadata": {},
   "source": [
    "# Tables"
   ]
  },
  {
   "cell_type": "code",
   "execution_count": 157,
   "id": "bf8dd9a2",
   "metadata": {},
   "outputs": [
    {
     "data": {
      "text/html": [
       "<div>\n",
       "<style scoped>\n",
       "    .dataframe tbody tr th:only-of-type {\n",
       "        vertical-align: middle;\n",
       "    }\n",
       "\n",
       "    .dataframe tbody tr th {\n",
       "        vertical-align: top;\n",
       "    }\n",
       "\n",
       "    .dataframe thead th {\n",
       "        text-align: right;\n",
       "    }\n",
       "</style>\n",
       "<table border=\"1\" class=\"dataframe\">\n",
       "  <thead>\n",
       "    <tr style=\"text-align: right;\">\n",
       "      <th></th>\n",
       "      <th>p</th>\n",
       "      <th>kappa</th>\n",
       "      <th>log(p)</th>\n",
       "      <th>gamma</th>\n",
       "    </tr>\n",
       "  </thead>\n",
       "  <tbody>\n",
       "    <tr>\n",
       "      <th>0</th>\n",
       "      <td>2</td>\n",
       "      <td>76.727044</td>\n",
       "      <td>0.693147</td>\n",
       "      <td>-</td>\n",
       "    </tr>\n",
       "    <tr>\n",
       "      <th>1</th>\n",
       "      <td>3</td>\n",
       "      <td>98.232203</td>\n",
       "      <td>1.098612</td>\n",
       "      <td>0.536476</td>\n",
       "    </tr>\n",
       "    <tr>\n",
       "      <th>2</th>\n",
       "      <td>4</td>\n",
       "      <td>117.499987</td>\n",
       "      <td>1.386294</td>\n",
       "      <td>0.770054</td>\n",
       "    </tr>\n",
       "    <tr>\n",
       "      <th>3</th>\n",
       "      <td>5</td>\n",
       "      <td>138.115518</td>\n",
       "      <td>1.609438</td>\n",
       "      <td>1.083091</td>\n",
       "    </tr>\n",
       "    <tr>\n",
       "      <th>4</th>\n",
       "      <td>6</td>\n",
       "      <td>157.749105</td>\n",
       "      <td>1.791759</td>\n",
       "      <td>1.238576</td>\n",
       "    </tr>\n",
       "    <tr>\n",
       "      <th>5</th>\n",
       "      <td>7</td>\n",
       "      <td>178.064687</td>\n",
       "      <td>1.945910</td>\n",
       "      <td>1.467812</td>\n",
       "    </tr>\n",
       "    <tr>\n",
       "      <th>6</th>\n",
       "      <td>8</td>\n",
       "      <td>197.869499</td>\n",
       "      <td>2.079442</td>\n",
       "      <td>1.588994</td>\n",
       "    </tr>\n",
       "    <tr>\n",
       "      <th>7</th>\n",
       "      <td>9</td>\n",
       "      <td>218.093902</td>\n",
       "      <td>2.197225</td>\n",
       "      <td>1.766347</td>\n",
       "    </tr>\n",
       "    <tr>\n",
       "      <th>8</th>\n",
       "      <td>10</td>\n",
       "      <td>238.009213</td>\n",
       "      <td>2.302585</td>\n",
       "      <td>1.86568</td>\n",
       "    </tr>\n",
       "    <tr>\n",
       "      <th>9</th>\n",
       "      <td>11</td>\n",
       "      <td>258.206104</td>\n",
       "      <td>2.397895</td>\n",
       "      <td>2.008157</td>\n",
       "    </tr>\n",
       "    <tr>\n",
       "      <th>10</th>\n",
       "      <td>12</td>\n",
       "      <td>278.198259</td>\n",
       "      <td>2.484907</td>\n",
       "      <td>2.09226</td>\n",
       "    </tr>\n",
       "    <tr>\n",
       "      <th>11</th>\n",
       "      <td>13</td>\n",
       "      <td>298.390574</td>\n",
       "      <td>2.564949</td>\n",
       "      <td>2.210133</td>\n",
       "    </tr>\n",
       "    <tr>\n",
       "      <th>12</th>\n",
       "      <td>14</td>\n",
       "      <td>318.438272</td>\n",
       "      <td>2.639057</td>\n",
       "      <td>2.28295</td>\n",
       "    </tr>\n",
       "  </tbody>\n",
       "</table>\n",
       "</div>"
      ],
      "text/plain": [
       "     p       kappa    log(p)     gamma\n",
       "0    2   76.727044  0.693147         -\n",
       "1    3   98.232203  1.098612  0.536476\n",
       "2    4  117.499987  1.386294  0.770054\n",
       "3    5  138.115518  1.609438  1.083091\n",
       "4    6  157.749105  1.791759  1.238576\n",
       "5    7  178.064687  1.945910  1.467812\n",
       "6    8  197.869499  2.079442  1.588994\n",
       "7    9  218.093902  2.197225  1.766347\n",
       "8   10  238.009213  2.302585   1.86568\n",
       "9   11  258.206104  2.397895  2.008157\n",
       "10  12  278.198259  2.484907   2.09226\n",
       "11  13  298.390574  2.564949  2.210133\n",
       "12  14  318.438272  2.639057   2.28295"
      ]
     },
     "execution_count": 157,
     "metadata": {},
     "output_type": "execute_result"
    }
   ],
   "source": [
    "import pandas as pd\n",
    "\n",
    "df_2d = pd.DataFrame({'p':p_sc, 'kappa':kappa_sc, 'log(p)':np.log(p_sc), 'gamma':gamma2d})\n",
    "df_2d"
   ]
  },
  {
   "cell_type": "code",
   "execution_count": 158,
   "id": "037b8d23",
   "metadata": {},
   "outputs": [
    {
     "data": {
      "text/html": [
       "<div>\n",
       "<style scoped>\n",
       "    .dataframe tbody tr th:only-of-type {\n",
       "        vertical-align: middle;\n",
       "    }\n",
       "\n",
       "    .dataframe tbody tr th {\n",
       "        vertical-align: top;\n",
       "    }\n",
       "\n",
       "    .dataframe thead th {\n",
       "        text-align: right;\n",
       "    }\n",
       "</style>\n",
       "<table border=\"1\" class=\"dataframe\">\n",
       "  <thead>\n",
       "    <tr style=\"text-align: right;\">\n",
       "      <th></th>\n",
       "      <th>p</th>\n",
       "      <th>kappa</th>\n",
       "      <th>log(p)</th>\n",
       "      <th>gamma</th>\n",
       "    </tr>\n",
       "  </thead>\n",
       "  <tbody>\n",
       "    <tr>\n",
       "      <th>0</th>\n",
       "      <td>2</td>\n",
       "      <td>355.665185</td>\n",
       "      <td>0.693147</td>\n",
       "      <td>-</td>\n",
       "    </tr>\n",
       "    <tr>\n",
       "      <th>1</th>\n",
       "      <td>3</td>\n",
       "      <td>580.867954</td>\n",
       "      <td>1.098612</td>\n",
       "      <td>1.065079</td>\n",
       "    </tr>\n",
       "    <tr>\n",
       "      <th>2</th>\n",
       "      <td>4</td>\n",
       "      <td>915.306426</td>\n",
       "      <td>1.386294</td>\n",
       "      <td>1.955125</td>\n",
       "    </tr>\n",
       "    <tr>\n",
       "      <th>3</th>\n",
       "      <td>5</td>\n",
       "      <td>1293.229273</td>\n",
       "      <td>1.609438</td>\n",
       "      <td>2.315826</td>\n",
       "    </tr>\n",
       "    <tr>\n",
       "      <th>4</th>\n",
       "      <td>6</td>\n",
       "      <td>1770.966233</td>\n",
       "      <td>1.791759</td>\n",
       "      <td>2.929586</td>\n",
       "    </tr>\n",
       "    <tr>\n",
       "      <th>5</th>\n",
       "      <td>7</td>\n",
       "      <td>2285.934056</td>\n",
       "      <td>1.945910</td>\n",
       "      <td>3.092743</td>\n",
       "    </tr>\n",
       "    <tr>\n",
       "      <th>6</th>\n",
       "      <td>8</td>\n",
       "      <td>2899.156052</td>\n",
       "      <td>2.079442</td>\n",
       "      <td>3.580632</td>\n",
       "    </tr>\n",
       "    <tr>\n",
       "      <th>7</th>\n",
       "      <td>9</td>\n",
       "      <td>3551.724971</td>\n",
       "      <td>2.197225</td>\n",
       "      <td>3.684751</td>\n",
       "    </tr>\n",
       "  </tbody>\n",
       "</table>\n",
       "</div>"
      ],
      "text/plain": [
       "   p        kappa    log(p)     gamma\n",
       "0  2   355.665185  0.693147         -\n",
       "1  3   580.867954  1.098612  1.065079\n",
       "2  4   915.306426  1.386294  1.955125\n",
       "3  5  1293.229273  1.609438  2.315826\n",
       "4  6  1770.966233  1.791759  2.929586\n",
       "5  7  2285.934056  1.945910  3.092743\n",
       "6  8  2899.156052  2.079442  3.580632\n",
       "7  9  3551.724971  2.197225  3.684751"
      ]
     },
     "execution_count": 158,
     "metadata": {},
     "output_type": "execute_result"
    }
   ],
   "source": [
    "df_3d = pd.DataFrame({'p':p_sc_3d, 'kappa':kappa_sc_3d, 'log(p)':np.log(p_sc_3d), 'gamma':gamma3d})\n",
    "df_3d"
   ]
  },
  {
   "cell_type": "code",
   "execution_count": null,
   "id": "8721b7cd",
   "metadata": {},
   "outputs": [],
   "source": []
  }
 ],
 "metadata": {
  "kernelspec": {
   "display_name": "Python 3 (ipykernel)",
   "language": "python",
   "name": "python3"
  },
  "language_info": {
   "codemirror_mode": {
    "name": "ipython",
    "version": 3
   },
   "file_extension": ".py",
   "mimetype": "text/x-python",
   "name": "python",
   "nbconvert_exporter": "python",
   "pygments_lexer": "ipython3",
   "version": "3.7.9"
  },
  "varInspector": {
   "cols": {
    "lenName": 16,
    "lenType": 16,
    "lenVar": 40
   },
   "kernels_config": {
    "python": {
     "delete_cmd_postfix": "",
     "delete_cmd_prefix": "del ",
     "library": "var_list.py",
     "varRefreshCmd": "print(var_dic_list())"
    },
    "r": {
     "delete_cmd_postfix": ") ",
     "delete_cmd_prefix": "rm(",
     "library": "var_list.r",
     "varRefreshCmd": "cat(var_dic_list()) "
    }
   },
   "types_to_exclude": [
    "module",
    "function",
    "builtin_function_or_method",
    "instance",
    "_Feature"
   ],
   "window_display": false
  }
 },
 "nbformat": 4,
 "nbformat_minor": 5
}
