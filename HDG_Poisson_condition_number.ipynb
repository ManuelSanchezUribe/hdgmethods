{
 "cells": [
  {
   "cell_type": "markdown",
   "id": "d13f93f0",
   "metadata": {},
   "source": [
    "# HDG for Poisson problem\n",
    "## Numerical experiments for the conditioning"
   ]
  },
  {
   "cell_type": "markdown",
   "id": "39d4dbba",
   "metadata": {},
   "source": [
    "Consider the Posson problem on $\\Omega\\subseteq\\mathbb R^{d}$, $d=2,3$.\n",
    "\n",
    "\\begin{equation*}\n",
    "\\begin{array}{rclll}\n",
    "-\\Delta u &=& f&\\mbox{in}&\\Omega \\\\\n",
    "u &=& u_D& \\mbox{on}& \\partial \\Omega\n",
    "\\end{array}\n",
    "\\end{equation*}"
   ]
  },
  {
   "cell_type": "code",
   "execution_count": 40,
   "id": "93ee4b2a",
   "metadata": {},
   "outputs": [],
   "source": [
    "from ngsolve import *\n",
    "from netgen.geom2d import unit_square \n",
    "from ngsolve.webgui import Draw \n",
    "from ngsolve.la import EigenValues_Preconditioner\n",
    "import scipy.sparse as sp\n",
    "from scipy.sparse.linalg import eigs, eigsh\n",
    "import numpy as np\n",
    "import matplotlib.pyplot as plt\n",
    "import pandas as pd\n",
    "np.set_printoptions(precision=3)"
   ]
  },
  {
   "cell_type": "code",
   "execution_count": 12,
   "id": "d0ba2f27",
   "metadata": {},
   "outputs": [],
   "source": [
    "def SetUp_HDG(mesh, p, db, condense=False):\n",
    "    Vh = VectorL2(mesh, order=p)\n",
    "    Wh = L2(mesh, order=p)\n",
    "    Mh = FacetFESpace(mesh, order=p, dirichlet=db)\n",
    "    fes = FESpace([Vh,Wh,Mh])\n",
    "    qh, uh, uhat = fes.TrialFunction()\n",
    "    vh, wh, what = fes.TestFunction()\n",
    "    tau = 1.0 # stabilization parameter\n",
    "    n = specialcf.normal(mesh.dim) # normal vector\n",
    "    # HDG numerical flux\n",
    "    qhatn = qh*n+tau*(uh-uhat)\n",
    "\n",
    "    # Bilinear form\n",
    "    a = BilinearForm(fes, condense=condense)\n",
    "    a += (qh*vh - uh*div(vh))*dx +  (uhat*vh*n)*dx(element_boundary=True)\n",
    "    a += (-div(qh)*wh*dx - tau*(uh-uhat)*wh*dx(element_boundary=True))\n",
    "    a += qhatn*what*dx(element_boundary=True)\n",
    "    a.Assemble()\n",
    "    \n",
    "    return a, fes\n",
    "\n",
    "def SolvePoisson_HDG(mesh, p, force, uD, db): # Dirichlet boundary conditions\n",
    "    a, fes = SetUp_HDG(mesh, p, db, condense=False)\n",
    "    # Right hand side\n",
    "    vh, wh, what = fes.TestFunction()\n",
    "    f = LinearForm(fes)\n",
    "    f += (-force)*wh*dx\n",
    "    f.Assemble()\n",
    "    \n",
    "    gf = GridFunction(fes)\n",
    "    gf.components[2].Set(uD, BND)\n",
    "    r = f.vec.CreateVector()\n",
    "    r.data = f.vec - a.mat * gf.vec\n",
    "    inv = a.mat.Inverse(freedofs=fes.FreeDofs())\n",
    "    gf.vec.data += inv * r\n",
    "    return gf\n",
    "    "
   ]
  },
  {
   "cell_type": "code",
   "execution_count": 41,
   "id": "9289be97",
   "metadata": {},
   "outputs": [],
   "source": [
    "def get_kappa(mesh,p, db, condense):\n",
    "    a, fes = SetUp_HDG(mesh, p, db, condense)\n",
    "    # sparse scipy matrix\n",
    "    rows,cols,vals = a.mat.COO()\n",
    "    A = sp.csr_matrix((vals,(rows,cols)))\n",
    "    # restrict to freedof\n",
    "    fd = list(fes.FreeDofs(condense))\n",
    "    Afree = A[fd,:][:,fd]\n",
    "    # Estimate condition number kappa\n",
    "    lams_LM = eigsh(Afree, which='LM')[0]\n",
    "    # print(p,lams_LM)\n",
    "    lams_SM = eigsh(Afree, which='SM')[0]\n",
    "    # print(p, lams_SM)\n",
    "    lams = np.concatenate((np.abs(lams_LM), np.abs(lams_SM)))\n",
    "    print(p, lams)\n",
    "    kappa = max(lams)/min(lams)\n",
    "    return kappa"
   ]
  },
  {
   "cell_type": "code",
   "execution_count": 66,
   "id": "2e072ff4",
   "metadata": {},
   "outputs": [],
   "source": [
    "def test_condition_number_fixmesh(mesh,db,condense=False, pmax=6):\n",
    "    kappa=[]\n",
    "    p = [i for i in range(2,pmax+1)]\n",
    "    for pi in p:\n",
    "        kappa.append(get_kappa(mesh, pi, db, condense))\n",
    "    return p, kappa"
   ]
  },
  {
   "cell_type": "markdown",
   "id": "81995ebb-50f9-4cb2-a4c7-3ca979a88367",
   "metadata": {},
   "source": [
    "# Two-dimensional problem"
   ]
  },
  {
   "cell_type": "code",
   "execution_count": 43,
   "id": "6d47a578",
   "metadata": {},
   "outputs": [],
   "source": [
    "# Data\n",
    "force2d = ((2*pi**2))*sin(pi*x)*sin(pi*y)\n",
    "uD    = 0        \n",
    "dirichlet_boundary2d='left|bottom|right|top'"
   ]
  },
  {
   "cell_type": "code",
   "execution_count": 44,
   "id": "3ac8efa3",
   "metadata": {},
   "outputs": [],
   "source": [
    "# Fix h\n",
    "h = 0.25\n",
    "mesh2d = Mesh(unit_square.GenerateMesh(maxh=h))\n",
    "# Draw(mesh)"
   ]
  },
  {
   "cell_type": "code",
   "execution_count": 45,
   "id": "725c35a2",
   "metadata": {},
   "outputs": [],
   "source": [
    "gf = SolvePoisson_HDG(mesh2d, p=5,force=force2d, uD=uD, db=dirichlet_boundary2d)\n",
    "# Draw(gf.components[0])"
   ]
  },
  {
   "cell_type": "markdown",
   "id": "575b8589",
   "metadata": {},
   "source": [
    "## Condition number - Two dimensional case"
   ]
  },
  {
   "cell_type": "code",
   "execution_count": 54,
   "id": "f8b2f128",
   "metadata": {},
   "outputs": [
    {
     "name": "stdout",
     "output_type": "stream",
     "text": [
      "2 [24.937 24.355 24.098 22.994 22.354 21.328  0.897  0.843  0.778  0.661\n",
      "  0.631  0.325]\n",
      "3 [31.97  31.24  30.83  29.624 28.903 27.514  0.902  0.847  0.782  0.664\n",
      "  0.634  0.325]\n",
      "4 [38.252 37.448 36.91  35.261 34.415 32.875  0.903  0.847  0.783  0.664\n",
      "  0.634  0.326]\n",
      "5 [44.968 44.036 43.303 41.463 40.46  38.631  0.903  0.847  0.783  0.665\n",
      "  0.634  0.326]\n",
      "6 [51.363 50.344 49.435 47.248 46.087 44.075  0.903  0.847  0.783  0.665\n",
      "  0.634  0.326]\n",
      "7 [57.979 56.838 55.73  53.319 51.959 49.711  0.903  0.848  0.783  0.665\n",
      "  0.634  0.326]\n",
      "8 [64.429 63.191 61.891 59.171 57.613 55.181  0.903  0.848  0.783  0.665\n",
      "  0.635  0.326]\n",
      "9 [71.015 69.656 68.156 65.2   63.414 60.772  0.903  0.848  0.783  0.665\n",
      "  0.635  0.326]\n",
      "10 [77.5   76.04  74.34  71.095 69.084 66.26   0.903  0.848  0.783  0.665\n",
      "  0.635  0.326]\n",
      "11 [84.077 82.496 80.597 77.108 74.85  71.833  0.903  0.848  0.783  0.665\n",
      "  0.635  0.326]\n",
      "12 [90.587 88.901 86.8   83.033 80.532 77.337  0.903  0.848  0.783  0.665\n",
      "  0.635  0.326]\n",
      "13 [97.162 95.356 93.056 89.042 86.282 82.903  0.903  0.848  0.783  0.665\n",
      "  0.635  0.326]\n",
      "14 [103.69  101.775  99.275  94.988  91.976  88.421   0.903   0.848   0.783\n",
      "   0.665   0.635   0.326]\n",
      "15 [110.266 108.232 105.533 100.996  97.718  93.987   0.903   0.848   0.783\n",
      "   0.665   0.635   0.326]\n",
      "16 [116.807 114.663 111.765 106.958 103.421  99.518   0.903   0.848   0.783\n",
      "   0.665   0.635   0.326]\n",
      "17 [123.386 121.122 118.027 112.967 109.16  105.086   0.903   0.848   0.783\n",
      "   0.665   0.635   0.326]\n",
      "18 [129.938 127.562 124.268 118.941 114.872 110.627   0.903   0.848   0.783\n",
      "   0.665   0.635   0.326]\n",
      "19 [136.519 134.023 130.533 124.951 120.611 116.198   0.903   0.848   0.783\n",
      "   0.665   0.635   0.326]\n",
      "20 [143.078 140.47  136.782 130.934 126.329 121.749   0.903   0.848   0.783\n",
      "   0.665   0.635   0.326]\n",
      "21 [149.662 146.934 143.051 136.946 132.069 127.324   0.903   0.848   0.783\n",
      "   0.665   0.635   0.326]\n",
      "22 [156.228 153.386 149.307 142.937 137.794 132.882   0.903   0.848   0.783\n",
      "   0.665   0.635   0.326]\n"
     ]
    }
   ],
   "source": [
    "# p, kappa= test_condition_number_fixmesh(mesh,dirichlet_boundary,condense=False, pmax=6)\n",
    "p_sc_2d, kappa_sc_2d= test_condition_number_fixmesh(mesh2d,dirichlet_boundary2d,condense=True, pmax=22)"
   ]
  },
  {
   "cell_type": "code",
   "execution_count": 49,
   "id": "985d54fb",
   "metadata": {},
   "outputs": [
    {
     "name": "stdout",
     "output_type": "stream",
     "text": [
      "[2, 3, 4, 5, 6, 7, 8, 9] [76.72704357189953, 98.23220270144753, 117.49998691294395, 138.1155182016837, 157.749105182583, 178.06468675315804, 197.86949904960258, 218.09390180499958]\n"
     ]
    }
   ],
   "source": [
    "# print(p, kappa)\n",
    "print(p_sc, kappa_sc)"
   ]
  },
  {
   "cell_type": "code",
   "execution_count": 58,
   "id": "bfad739b",
   "metadata": {},
   "outputs": [
    {
     "name": "stdout",
     "output_type": "stream",
     "text": [
      "[76.72704357189953, 192.746476393407, 306.9081742875981, 413.6623523328158, 512.6924936706245, 604.7043721248076, 690.5433921470957, 770.985905573628]\n"
     ]
    },
    {
     "data": {
      "image/png": "[encoded data removed]",
      "text/plain": [
       "<Figure size 640x480 with 1 Axes>"
      ]
     },
     "metadata": {},
     "output_type": "display_data"
    },
    {
     "name": "stdout",
     "output_type": "stream",
     "text": [
      "['-', 0.5364761481493107, 0.7700540785344812, 1.0830914891592953, 1.2385759392925761, 1.4678120072382912, 1.5889939400707875, 1.766346564362246]\n"
     ]
    }
   ],
   "source": [
    "import matplotlib.pyplot as plt\n",
    "\n",
    "plt.semilogx(p_sc, kappa_sc,'--o',label='kappa')\n",
    "C2 = kappa_sc[0]/(np.log(p_sc[0])*np.log(p_sc[0]))\n",
    "p2 = [C2*np.log(p_i)*np.log(p_i) for p_i in p_sc]\n",
    "print(p2)\n",
    "plt.semilogx(p_sc, p2,'C02', label='log(p)^2')\n",
    "C3 = kappa_sc[0]/(np.log(p_sc[0])*np.log(p_sc[0])*np.log(p_sc[0]))\n",
    "p3 = [C3*np.log(p_i)*np.log(p_i)*np.log(p_i) for p_i in p_sc]\n",
    "plt.semilogx(p_sc, p3,'C03', label='log(p)^3')\n",
    "plt.legend()\n",
    "plt.savefig('kappa_HDG_2d.png')\n",
    "plt.show()\n",
    "gamma2d = compute_gamma(kappa_sc, p_sc)\n",
    "print(gamma2d)"
   ]
  },
  {
   "cell_type": "code",
   "execution_count": 62,
   "id": "9aefd707-e8a1-4b8c-a47a-81771ba485c6",
   "metadata": {},
   "outputs": [
    {
     "data": {
      "image/png": "[encoded data removed]",
      "text/plain": [
       "<Figure size 600x600 with 1 Axes>"
      ]
     },
     "metadata": {},
     "output_type": "display_data"
    },
    {
     "data": {
      "image/png": "[encoded data removed]",
      "text/plain": [
       "<Figure size 600x600 with 1 Axes>"
      ]
     },
     "metadata": {},
     "output_type": "display_data"
    }
   ],
   "source": [
    "\n",
    "def plot_loglog(p,kappa,file='None'):\n",
    "    fig, ax = plt.subplots(1,1,figsize=(6,6))\n",
    "    ax.loglog(p,kappa,'--o',label='kappa')\n",
    "\n",
    "    ax.loglog(p[]\n",
    "    if file is not None:\n",
    "        plt.savefig(file)\n",
    "    plt.show()\n",
    "\n",
    "plot_loglog(p_sc_2d,kappa_sc_2d)"
   ]
  },
  {
   "cell_type": "markdown",
   "id": "0ba3a235",
   "metadata": {},
   "source": [
    "# 3D problem"
   ]
  },
  {
   "cell_type": "code",
   "execution_count": 26,
   "id": "a5bec274",
   "metadata": {},
   "outputs": [],
   "source": [
    "from netgen.csg import *"
   ]
  },
  {
   "cell_type": "code",
   "execution_count": 67,
   "id": "80385d97",
   "metadata": {},
   "outputs": [],
   "source": [
    "# Data\n",
    "force3d = ((3*pi**2))*sin(pi*x)*sin(pi*y)*sin(pi*z)\n",
    "uD    = 0        \n",
    "dirichlet_boundary3d='back|left|front|right|bottom|top'"
   ]
  },
  {
   "cell_type": "code",
   "execution_count": 68,
   "id": "146a2a2b",
   "metadata": {},
   "outputs": [],
   "source": [
    "# Fix h\n",
    "h = 0.5\n",
    "mesh3d = Mesh(unit_cube.GenerateMesh(maxh=h))\n",
    "# print(mesh.GetBoundaries())\n",
    "# Draw(mesh)"
   ]
  },
  {
   "cell_type": "code",
   "execution_count": 65,
   "id": "cff17048",
   "metadata": {},
   "outputs": [],
   "source": [
    "gf = SolvePoisson_HDG(mesh3d, p=5,force=force3d, uD=uD, db=dirichlet_boundary3d)\n",
    "# Draw(gf.components[1])"
   ]
  },
  {
   "cell_type": "code",
   "execution_count": 69,
   "id": "b3ccd903",
   "metadata": {},
   "outputs": [
    {
     "name": "stdout",
     "output_type": "stream",
     "text": [
      "2 [12.276 12.103 11.875 11.836 11.689 11.205  0.197  0.192  0.176  0.164\n",
      "  0.153  0.113]\n",
      "3 [15.252 14.906 14.605 14.51  14.152 13.715  0.132  0.125  0.116  0.112\n",
      "  0.104  0.098]\n",
      "4 [18.951 18.461 18.034 17.916 17.366 16.872  0.103  0.097  0.093  0.087\n",
      "  0.083  0.077]\n",
      "5 [21.968 21.327 20.896 20.47  19.659 19.222  0.086  0.083  0.076  0.07\n",
      "  0.067  0.062]\n",
      "6 [25.505 24.699 24.192 23.641 22.575 22.127  0.073  0.07   0.064  0.059\n",
      "  0.056  0.052]\n",
      "7 [28.594 27.66  27.22  26.244 24.816 24.408  0.062  0.06   0.055  0.051\n",
      "  0.048  0.044]\n",
      "8 [32.062 30.957 30.489 29.295 27.546 27.144  0.054  0.053  0.048  0.045\n",
      "  0.042  0.039]\n",
      "9 [3.521e+01 3.399e+01 3.364e+01 3.197e+01 2.977e+01 2.938e+01 4.743e-02\n",
      " 4.720e-02 4.266e-02 3.969e-02 3.744e-02 3.464e-02]\n",
      "10 [3.865e+01 3.726e+01 3.691e+01 3.495e+01 3.237e+01 3.200e+01 4.256e-02\n",
      " 4.223e-02 3.843e-02 3.577e-02 3.369e-02 3.118e-02]\n"
     ]
    }
   ],
   "source": [
    "p_sc_3d, kappa_sc_3d= test_condition_number_fixmesh(mesh3d, dirichlet_boundary3d,condense=True, pmax=10)\n"
   ]
  },
  {
   "cell_type": "code",
   "execution_count": 70,
   "id": "b63bd594",
   "metadata": {},
   "outputs": [
    {
     "name": "stdout",
     "output_type": "stream",
     "text": [
      "[108.24071122153329, 271.91215403362304, 432.96284488613315, 583.563566868291, 723.2678019301921, 853.0712024141068, 974.1664009937995, 1087.6486161344922, 1194.4585748815605] [108.24071122153329, 155.6874001224998, 246.3730929986246, 354.5226237256853, 492.3599643126171, 642.9270192072473, 823.1566092960842, 1016.6126774889435, 1239.4810974362697]\n"
     ]
    },
    {
     "data": {
      "image/png": "[encoded data removed]",
      "text/plain": [
       "<Figure size 640x480 with 1 Axes>"
      ]
     },
     "metadata": {},
     "output_type": "display_data"
    }
   ],
   "source": [
    "import matplotlib.pyplot as plt\n",
    "\n",
    "plt.semilogx(p_sc_3d, kappa_sc_3d,'--o',label='kappa')\n",
    "\n",
    "C2 = kappa_sc_3d[0]/(np.log(p_sc_3d[0])*np.log(p_sc_3d[0]))\n",
    "p2 = [C2*np.log(p_i)*np.log(p_i) for p_i in p_sc_3d]\n",
    "print(p2, kappa_sc_3d)\n",
    "plt.semilogx(p_sc_3d, p2,'C02', label='log(p)^2')\n",
    "\n",
    "C3 = kappa_sc_3d[0]/(np.log(p_sc_3d[0])*np.log(p_sc_3d[0])*np.log(p_sc_3d[0]))\n",
    "p3 = [C3*np.log(p_i)*np.log(p_i)*np.log(p_i) for p_i in p_sc_3d]\n",
    "plt.semilogx(p_sc_3d, p3,'C03', label='log(p)^3')\n",
    "plt.legend()\n",
    "plt.savefig('kappa_HDG_3d.png')\n",
    "plt.show()"
   ]
  },
  {
   "cell_type": "code",
   "execution_count": 71,
   "id": "6bd199ad",
   "metadata": {},
   "outputs": [],
   "source": [
    "def compute_gamma(kappa, p):\n",
    "    # Adjust \\kappa  = O(\\log(p)^\\gamma)\n",
    "    gamma = [0.0]\n",
    "    for i in range(len(p)-1):\n",
    "        gamma.append(np.log(kappa[i+1]/kappa[i])/np.log(np.log(p[i+1])/np.log(p[i])))\n",
    "    return gamma\n",
    "\n",
    "def compute_alpha(kappa, p):\n",
    "    # Adjust \\kappa = O(p^\\alpha)\n",
    "    alpha = [0.0]\n",
    "    for i in range(len(p)-1):\n",
    "        alpha.append(np.log(kappa[i+1]/kappa[i])/np.log((p[i+1])/(p[i])))\n",
    "    return alpha\n",
    "    "
   ]
  },
  {
   "cell_type": "code",
   "execution_count": 72,
   "id": "b9fb22ef",
   "metadata": {},
   "outputs": [],
   "source": [
    "gamma2d = compute_gamma(kappa_sc_2d, p_sc_2d)\n",
    "alpha2d = compute_alpha(kappa_sc_2d, p_sc_2d)"
   ]
  },
  {
   "cell_type": "code",
   "execution_count": 73,
   "id": "ea6206a4-6614-455a-89a9-e9af456f0ef0",
   "metadata": {},
   "outputs": [],
   "source": [
    "gamma3d = compute_gamma(kappa_sc_3d, p_sc_3d)\n",
    "alpha3d = compute_alpha(kappa_sc_3d, p_sc_3d)"
   ]
  },
  {
   "cell_type": "markdown",
   "id": "2411de14",
   "metadata": {},
   "source": [
    "# Tables"
   ]
  },
  {
   "cell_type": "code",
   "execution_count": 74,
   "id": "bf8dd9a2",
   "metadata": {},
   "outputs": [
    {
     "data": {
      "text/html": [
       "<div>\n",
       "<style scoped>\n",
       "    .dataframe tbody tr th:only-of-type {\n",
       "        vertical-align: middle;\n",
       "    }\n",
       "\n",
       "    .dataframe tbody tr th {\n",
       "        vertical-align: top;\n",
       "    }\n",
       "\n",
       "    .dataframe thead th {\n",
       "        text-align: right;\n",
       "    }\n",
       "</style>\n",
       "<table border=\"1\" class=\"dataframe\">\n",
       "  <thead>\n",
       "    <tr style=\"text-align: right;\">\n",
       "      <th></th>\n",
       "      <th>p</th>\n",
       "      <th>kappa</th>\n",
       "      <th>log(p)</th>\n",
       "      <th>gamma</th>\n",
       "      <th>alpha</th>\n",
       "    </tr>\n",
       "  </thead>\n",
       "  <tbody>\n",
       "    <tr>\n",
       "      <th>0</th>\n",
       "      <td>2</td>\n",
       "      <td>76.727044</td>\n",
       "      <td>0.693147</td>\n",
       "      <td>-</td>\n",
       "      <td>-</td>\n",
       "    </tr>\n",
       "    <tr>\n",
       "      <th>1</th>\n",
       "      <td>3</td>\n",
       "      <td>98.232203</td>\n",
       "      <td>1.098612</td>\n",
       "      <td>0.536476</td>\n",
       "      <td>0.609374</td>\n",
       "    </tr>\n",
       "    <tr>\n",
       "      <th>2</th>\n",
       "      <td>4</td>\n",
       "      <td>117.499987</td>\n",
       "      <td>1.386294</td>\n",
       "      <td>0.770054</td>\n",
       "      <td>0.622577</td>\n",
       "    </tr>\n",
       "    <tr>\n",
       "      <th>3</th>\n",
       "      <td>5</td>\n",
       "      <td>138.115518</td>\n",
       "      <td>1.609438</td>\n",
       "      <td>1.083091</td>\n",
       "      <td>0.724431</td>\n",
       "    </tr>\n",
       "    <tr>\n",
       "      <th>4</th>\n",
       "      <td>6</td>\n",
       "      <td>157.749105</td>\n",
       "      <td>1.791759</td>\n",
       "      <td>1.238576</td>\n",
       "      <td>0.729016</td>\n",
       "    </tr>\n",
       "    <tr>\n",
       "      <th>5</th>\n",
       "      <td>7</td>\n",
       "      <td>178.064687</td>\n",
       "      <td>1.945910</td>\n",
       "      <td>1.467812</td>\n",
       "      <td>0.785861</td>\n",
       "    </tr>\n",
       "    <tr>\n",
       "      <th>6</th>\n",
       "      <td>8</td>\n",
       "      <td>197.869499</td>\n",
       "      <td>2.079442</td>\n",
       "      <td>1.588994</td>\n",
       "      <td>0.789783</td>\n",
       "    </tr>\n",
       "    <tr>\n",
       "      <th>7</th>\n",
       "      <td>9</td>\n",
       "      <td>218.093902</td>\n",
       "      <td>2.197225</td>\n",
       "      <td>1.766347</td>\n",
       "      <td>0.826248</td>\n",
       "    </tr>\n",
       "    <tr>\n",
       "      <th>8</th>\n",
       "      <td>10</td>\n",
       "      <td>238.009213</td>\n",
       "      <td>2.302585</td>\n",
       "      <td>1.86568</td>\n",
       "      <td>0.829378</td>\n",
       "    </tr>\n",
       "    <tr>\n",
       "      <th>9</th>\n",
       "      <td>11</td>\n",
       "      <td>258.206104</td>\n",
       "      <td>2.397895</td>\n",
       "      <td>2.008157</td>\n",
       "      <td>0.854565</td>\n",
       "    </tr>\n",
       "    <tr>\n",
       "      <th>10</th>\n",
       "      <td>12</td>\n",
       "      <td>278.198259</td>\n",
       "      <td>2.484907</td>\n",
       "      <td>2.09226</td>\n",
       "      <td>0.857082</td>\n",
       "    </tr>\n",
       "    <tr>\n",
       "      <th>11</th>\n",
       "      <td>13</td>\n",
       "      <td>298.390574</td>\n",
       "      <td>2.564949</td>\n",
       "      <td>2.210133</td>\n",
       "      <td>0.875398</td>\n",
       "    </tr>\n",
       "    <tr>\n",
       "      <th>12</th>\n",
       "      <td>14</td>\n",
       "      <td>318.438272</td>\n",
       "      <td>2.639057</td>\n",
       "      <td>2.28295</td>\n",
       "      <td>0.877441</td>\n",
       "    </tr>\n",
       "    <tr>\n",
       "      <th>13</th>\n",
       "      <td>15</td>\n",
       "      <td>338.634452</td>\n",
       "      <td>2.708050</td>\n",
       "      <td>2.382776</td>\n",
       "      <td>0.891289</td>\n",
       "    </tr>\n",
       "    <tr>\n",
       "      <th>14</th>\n",
       "      <td>16</td>\n",
       "      <td>358.723531</td>\n",
       "      <td>2.772589</td>\n",
       "      <td>2.446902</td>\n",
       "      <td>0.892967</td>\n",
       "    </tr>\n",
       "    <tr>\n",
       "      <th>15</th>\n",
       "      <td>17</td>\n",
       "      <td>378.926454</td>\n",
       "      <td>2.833213</td>\n",
       "      <td>2.533053</td>\n",
       "      <td>0.903761</td>\n",
       "    </tr>\n",
       "    <tr>\n",
       "      <th>16</th>\n",
       "      <td>18</td>\n",
       "      <td>399.047136</td>\n",
       "      <td>2.890372</td>\n",
       "      <td>2.590289</td>\n",
       "      <td>0.905158</td>\n",
       "    </tr>\n",
       "    <tr>\n",
       "      <th>17</th>\n",
       "      <td>19</td>\n",
       "      <td>419.257447</td>\n",
       "      <td>2.944439</td>\n",
       "      <td>2.665794</td>\n",
       "      <td>0.913781</td>\n",
       "    </tr>\n",
       "    <tr>\n",
       "      <th>18</th>\n",
       "      <td>20</td>\n",
       "      <td>439.402777</td>\n",
       "      <td>2.995732</td>\n",
       "      <td>2.717442</td>\n",
       "      <td>0.91496</td>\n",
       "    </tr>\n",
       "    <tr>\n",
       "      <th>19</th>\n",
       "      <td>21</td>\n",
       "      <td>459.620227</td>\n",
       "      <td>3.044522</td>\n",
       "      <td>2.784469</td>\n",
       "      <td>0.921991</td>\n",
       "    </tr>\n",
       "    <tr>\n",
       "      <th>20</th>\n",
       "      <td>22</td>\n",
       "      <td>479.785136</td>\n",
       "      <td>3.091042</td>\n",
       "      <td>2.831498</td>\n",
       "      <td>0.922997</td>\n",
       "    </tr>\n",
       "  </tbody>\n",
       "</table>\n",
       "</div>"
      ],
      "text/plain": [
       "     p       kappa    log(p)     gamma     alpha\n",
       "0    2   76.727044  0.693147         -         -\n",
       "1    3   98.232203  1.098612  0.536476  0.609374\n",
       "2    4  117.499987  1.386294  0.770054  0.622577\n",
       "3    5  138.115518  1.609438  1.083091  0.724431\n",
       "4    6  157.749105  1.791759  1.238576  0.729016\n",
       "5    7  178.064687  1.945910  1.467812  0.785861\n",
       "6    8  197.869499  2.079442  1.588994  0.789783\n",
       "7    9  218.093902  2.197225  1.766347  0.826248\n",
       "8   10  238.009213  2.302585   1.86568  0.829378\n",
       "9   11  258.206104  2.397895  2.008157  0.854565\n",
       "10  12  278.198259  2.484907   2.09226  0.857082\n",
       "11  13  298.390574  2.564949  2.210133  0.875398\n",
       "12  14  318.438272  2.639057   2.28295  0.877441\n",
       "13  15  338.634452  2.708050  2.382776  0.891289\n",
       "14  16  358.723531  2.772589  2.446902  0.892967\n",
       "15  17  378.926454  2.833213  2.533053  0.903761\n",
       "16  18  399.047136  2.890372  2.590289  0.905158\n",
       "17  19  419.257447  2.944439  2.665794  0.913781\n",
       "18  20  439.402777  2.995732  2.717442   0.91496\n",
       "19  21  459.620227  3.044522  2.784469  0.921991\n",
       "20  22  479.785136  3.091042  2.831498  0.922997"
      ]
     },
     "execution_count": 74,
     "metadata": {},
     "output_type": "execute_result"
    }
   ],
   "source": [
    "df_2d = pd.DataFrame({'p':p_sc_2d, 'kappa':kappa_sc_2d, 'log(p)':np.log(p_sc_2d), 'gamma':gamma2d, 'alpha':alpha2d})\n",
    "df_2d"
   ]
  },
  {
   "cell_type": "code",
   "execution_count": 75,
   "id": "037b8d23",
   "metadata": {},
   "outputs": [
    {
     "data": {
      "text/html": [
       "<div>\n",
       "<style scoped>\n",
       "    .dataframe tbody tr th:only-of-type {\n",
       "        vertical-align: middle;\n",
       "    }\n",
       "\n",
       "    .dataframe tbody tr th {\n",
       "        vertical-align: top;\n",
       "    }\n",
       "\n",
       "    .dataframe thead th {\n",
       "        text-align: right;\n",
       "    }\n",
       "</style>\n",
       "<table border=\"1\" class=\"dataframe\">\n",
       "  <thead>\n",
       "    <tr style=\"text-align: right;\">\n",
       "      <th></th>\n",
       "      <th>p</th>\n",
       "      <th>kappa</th>\n",
       "      <th>log(p)</th>\n",
       "      <th>gamma</th>\n",
       "      <th>alpha</th>\n",
       "    </tr>\n",
       "  </thead>\n",
       "  <tbody>\n",
       "    <tr>\n",
       "      <th>0</th>\n",
       "      <td>2</td>\n",
       "      <td>108.240711</td>\n",
       "      <td>0.693147</td>\n",
       "      <td>-</td>\n",
       "      <td>-</td>\n",
       "    </tr>\n",
       "    <tr>\n",
       "      <th>1</th>\n",
       "      <td>3</td>\n",
       "      <td>155.687400</td>\n",
       "      <td>1.098612</td>\n",
       "      <td>0.789239</td>\n",
       "      <td>0.896483</td>\n",
       "    </tr>\n",
       "    <tr>\n",
       "      <th>2</th>\n",
       "      <td>4</td>\n",
       "      <td>246.373093</td>\n",
       "      <td>1.386294</td>\n",
       "      <td>1.973446</td>\n",
       "      <td>1.5955</td>\n",
       "    </tr>\n",
       "    <tr>\n",
       "      <th>3</th>\n",
       "      <td>5</td>\n",
       "      <td>354.522624</td>\n",
       "      <td>1.609438</td>\n",
       "      <td>2.438347</td>\n",
       "      <td>1.630901</td>\n",
       "    </tr>\n",
       "    <tr>\n",
       "      <th>4</th>\n",
       "      <td>6</td>\n",
       "      <td>492.359964</td>\n",
       "      <td>1.791759</td>\n",
       "      <td>3.060558</td>\n",
       "      <td>1.801421</td>\n",
       "    </tr>\n",
       "    <tr>\n",
       "      <th>5</th>\n",
       "      <td>7</td>\n",
       "      <td>642.927019</td>\n",
       "      <td>1.945910</td>\n",
       "      <td>3.232952</td>\n",
       "      <td>1.730911</td>\n",
       "    </tr>\n",
       "    <tr>\n",
       "      <th>6</th>\n",
       "      <td>8</td>\n",
       "      <td>823.156609</td>\n",
       "      <td>2.079442</td>\n",
       "      <td>3.723322</td>\n",
       "      <td>1.850615</td>\n",
       "    </tr>\n",
       "    <tr>\n",
       "      <th>7</th>\n",
       "      <td>9</td>\n",
       "      <td>1016.612677</td>\n",
       "      <td>2.197225</td>\n",
       "      <td>3.831247</td>\n",
       "      <td>1.792151</td>\n",
       "    </tr>\n",
       "    <tr>\n",
       "      <th>8</th>\n",
       "      <td>10</td>\n",
       "      <td>1239.481097</td>\n",
       "      <td>2.302585</td>\n",
       "      <td>4.232013</td>\n",
       "      <td>1.881318</td>\n",
       "    </tr>\n",
       "  </tbody>\n",
       "</table>\n",
       "</div>"
      ],
      "text/plain": [
       "    p        kappa    log(p)     gamma     alpha\n",
       "0   2   108.240711  0.693147         -         -\n",
       "1   3   155.687400  1.098612  0.789239  0.896483\n",
       "2   4   246.373093  1.386294  1.973446    1.5955\n",
       "3   5   354.522624  1.609438  2.438347  1.630901\n",
       "4   6   492.359964  1.791759  3.060558  1.801421\n",
       "5   7   642.927019  1.945910  3.232952  1.730911\n",
       "6   8   823.156609  2.079442  3.723322  1.850615\n",
       "7   9  1016.612677  2.197225  3.831247  1.792151\n",
       "8  10  1239.481097  2.302585  4.232013  1.881318"
      ]
     },
     "execution_count": 75,
     "metadata": {},
     "output_type": "execute_result"
    }
   ],
   "source": [
    "df_3d = pd.DataFrame({'p':p_sc_3d, 'kappa':kappa_sc_3d, 'log(p)':np.log(p_sc_3d), 'gamma':gamma3d, 'alpha':alpha3d})\n",
    "df_3d"
   ]
  },
  {
   "cell_type": "code",
   "execution_count": 122,
   "id": "8721b7cd",
   "metadata": {},
   "outputs": [],
   "source": [
    "# !pip install tabulate\n",
    "from tabulate import tabulate\n",
    "\n",
    "def dataframe_to_latex(df, filename=None, col_round=None):\n",
    "    \"\"\"\n",
    "    Print and save a DataFrame as a LaTeX table.\n",
    "\n",
    "    Parameters:\n",
    "    df (pd.DataFrame): The DataFrame to convert.\n",
    "    filename (str): The name of the file to save the LaTeX table to.\n",
    "    \"\"\"\n",
    "    \n",
    "    if col_round is not None:\n",
    "        df_rounded = df.copy()\n",
    "        \n",
    "        for columns, precision in col_round:\n",
    "            df_rounded[columns]\n",
    "            print(columns, precision)\n",
    "            df_rounded[columns] = df_rounded[columns].round(precision)\n",
    "    # Convert DataFrame to LaTeX table string\n",
    "    latex_table = tabulate(df_rounded, headers='keys', tablefmt='latex', showindex=False)\n",
    "\n",
    "    # Print the LaTeX table\n",
    "    print(latex_table)\n",
    "\n",
    "    # Save the LaTeX table to a file\n",
    "    if filename is not None:\n",
    "        with open(filename, 'w') as f:\n",
    "            f.write(latex_table)\n",
    "\n",
    "    "
   ]
  },
  {
   "cell_type": "code",
   "execution_count": 123,
   "id": "e664560c-5cdc-43b2-b9dc-12c627ea86a9",
   "metadata": {},
   "outputs": [
    {
     "data": {
      "text/plain": [
       "p           int64\n",
       "kappa     float64\n",
       "log(p)    float64\n",
       "gamma     float64\n",
       "alpha     float64\n",
       "dtype: object"
      ]
     },
     "execution_count": 123,
     "metadata": {},
     "output_type": "execute_result"
    }
   ],
   "source": [
    "df_2d.dtypes"
   ]
  },
  {
   "cell_type": "code",
   "execution_count": 127,
   "id": "9a35ffdd-d949-4f78-9bc8-8b6fcedbd92d",
   "metadata": {},
   "outputs": [
    {
     "name": "stdout",
     "output_type": "stream",
     "text": [
      "0     1.123453\n",
      "1     0.536476\n",
      "2     0.770054\n",
      "3     1.083091\n",
      "4     1.238576\n",
      "5     1.467812\n",
      "6     1.588994\n",
      "7     1.766347\n",
      "8     1.865680\n",
      "9     2.008157\n",
      "10    2.092260\n",
      "11    2.210133\n",
      "12    2.282950\n",
      "13    2.382776\n",
      "14    2.446902\n",
      "15    2.533053\n",
      "16    2.590289\n",
      "17    2.665794\n",
      "18    2.717442\n",
      "19    2.784469\n",
      "20    2.831498\n",
      "Name: gamma, dtype: float64\n",
      "kappa 1\n",
      "log(p) 3\n",
      "gamma 3\n",
      "alpha 3\n",
      "\\begin{tabular}{rrrrr}\n",
      "\\hline\n",
      "   p &   kappa &   log(p) &   gamma &   alpha \\\\\n",
      "\\hline\n",
      "   2 &    76.7 &    0.693 &   1.123 &   0     \\\\\n",
      "   3 &    98.2 &    1.099 &   0.536 &   0.609 \\\\\n",
      "   4 &   117.5 &    1.386 &   0.77  &   0.623 \\\\\n",
      "   5 &   138.1 &    1.609 &   1.083 &   0.724 \\\\\n",
      "   6 &   157.7 &    1.792 &   1.239 &   0.729 \\\\\n",
      "   7 &   178.1 &    1.946 &   1.468 &   0.786 \\\\\n",
      "   8 &   197.9 &    2.079 &   1.589 &   0.79  \\\\\n",
      "   9 &   218.1 &    2.197 &   1.766 &   0.826 \\\\\n",
      "  10 &   238   &    2.303 &   1.866 &   0.829 \\\\\n",
      "  11 &   258.2 &    2.398 &   2.008 &   0.855 \\\\\n",
      "  12 &   278.2 &    2.485 &   2.092 &   0.857 \\\\\n",
      "  13 &   298.4 &    2.565 &   2.21  &   0.875 \\\\\n",
      "  14 &   318.4 &    2.639 &   2.283 &   0.877 \\\\\n",
      "  15 &   338.6 &    2.708 &   2.383 &   0.891 \\\\\n",
      "  16 &   358.7 &    2.773 &   2.447 &   0.893 \\\\\n",
      "  17 &   378.9 &    2.833 &   2.533 &   0.904 \\\\\n",
      "  18 &   399   &    2.89  &   2.59  &   0.905 \\\\\n",
      "  19 &   419.3 &    2.944 &   2.666 &   0.914 \\\\\n",
      "  20 &   439.4 &    2.996 &   2.717 &   0.915 \\\\\n",
      "  21 &   459.6 &    3.045 &   2.784 &   0.922 \\\\\n",
      "  22 &   479.8 &    3.091 &   2.831 &   0.923 \\\\\n",
      "\\hline\n",
      "\\end{tabular}\n"
     ]
    }
   ],
   "source": [
    "\n",
    "df_2d['gamma']=df_2d['gamma'].astype('float')\n",
    "df_2d['alpha']=df_2d['alpha'].astype('float')\n",
    "df_2d.dtypes\n",
    "df_2d['gamma'].round(3)\n",
    "print(df_2d['gamma'])\n",
    "# df_2d['gamma'][0] = 0.0\n",
    "# df_2d['alpha'][0] = 0.0\n",
    "dataframe_to_latex(df_2d,filename='table_HDG2d_kappa', col_round=[['kappa',1],['log(p)', 3],['gamma',3],['alpha',3]])"
   ]
  },
  {
   "cell_type": "code",
   "execution_count": 130,
   "id": "b5141b37-967e-48a7-8777-d14a5ffd6f51",
   "metadata": {},
   "outputs": [
    {
     "name": "stdout",
     "output_type": "stream",
     "text": [
      "kappa 1\n",
      "log(p) 3\n",
      "gamma 3\n",
      "alpha 3\n",
      "\\begin{tabular}{rrrrr}\n",
      "\\hline\n",
      "   p &   kappa &   log(p) &   gamma &   alpha \\\\\n",
      "\\hline\n",
      "   2 &   108.2 &    0.693 &   0     &   0     \\\\\n",
      "   3 &   155.7 &    1.099 &   0.789 &   0.896 \\\\\n",
      "   4 &   246.4 &    1.386 &   1.973 &   1.596 \\\\\n",
      "   5 &   354.5 &    1.609 &   2.438 &   1.631 \\\\\n",
      "   6 &   492.4 &    1.792 &   3.061 &   1.801 \\\\\n",
      "   7 &   642.9 &    1.946 &   3.233 &   1.731 \\\\\n",
      "   8 &   823.2 &    2.079 &   3.723 &   1.851 \\\\\n",
      "   9 &  1016.6 &    2.197 &   3.831 &   1.792 \\\\\n",
      "  10 &  1239.5 &    2.303 &   4.232 &   1.881 \\\\\n",
      "\\hline\n",
      "\\end{tabular}\n"
     ]
    },
    {
     "name": "stderr",
     "output_type": "stream",
     "text": [
      "<ipython-input-130-f0a410f1752d>:1: SettingWithCopyWarning: \n",
      "A value is trying to be set on a copy of a slice from a DataFrame\n",
      "\n",
      "See the caveats in the documentation: https://pandas.pydata.org/pandas-docs/stable/user_guide/indexing.html#returning-a-view-versus-a-copy\n",
      "  df_3d['gamma'][0] = 0.0\n",
      "<ipython-input-130-f0a410f1752d>:2: SettingWithCopyWarning: \n",
      "A value is trying to be set on a copy of a slice from a DataFrame\n",
      "\n",
      "See the caveats in the documentation: https://pandas.pydata.org/pandas-docs/stable/user_guide/indexing.html#returning-a-view-versus-a-copy\n",
      "  df_3d['alpha'][0] = 0.0\n"
     ]
    }
   ],
   "source": [
    "df_3d['gamma'][0] = 0.0\n",
    "df_3d['alpha'][0] = 0.0\n",
    "df_3d['gamma']=df_3d['gamma'].astype('float')\n",
    "df_3d['alpha']=df_3d['alpha'].astype('float')\n",
    "dataframe_to_latex(df_3d,filename='table_HDG3d_kappa',col_round=[['kappa',1],['log(p)', 3],['gamma',3],['alpha',3]] )"
   ]
  },
  {
   "cell_type": "code",
   "execution_count": 105,
   "id": "91b2578e-02bb-4f4a-ad1b-50a513d071f3",
   "metadata": {},
   "outputs": [
    {
     "ename": "TypeError",
     "evalue": "'numpy.dtype[float64]' object is not callable",
     "output_type": "error",
     "traceback": [
      "\u001b[0;31m---------------------------------------------------------------------------\u001b[0m",
      "\u001b[0;31mTypeError\u001b[0m                                 Traceback (most recent call last)",
      "Cell \u001b[0;32mIn[105], line 10\u001b[0m\n\u001b[1;32m      7\u001b[0m df \u001b[38;5;241m=\u001b[39m pd\u001b[38;5;241m.\u001b[39mDataFrame(data)\n\u001b[1;32m      9\u001b[0m \u001b[38;5;66;03m# Round 'Column1' to 3 decimal places\u001b[39;00m\n\u001b[0;32m---> 10\u001b[0m \u001b[38;5;28mprint\u001b[39m(\u001b[43mdf\u001b[49m\u001b[43m[\u001b[49m\u001b[38;5;124;43m'\u001b[39;49m\u001b[38;5;124;43mColumn1\u001b[39;49m\u001b[38;5;124;43m'\u001b[39;49m\u001b[43m]\u001b[49m\u001b[38;5;241;43m.\u001b[39;49m\u001b[43mdtype\u001b[49m\u001b[43m(\u001b[49m\u001b[43m)\u001b[49m)\n\u001b[1;32m     11\u001b[0m df[\u001b[38;5;124m'\u001b[39m\u001b[38;5;124mColumn1\u001b[39m\u001b[38;5;124m'\u001b[39m] \u001b[38;5;241m=\u001b[39m df[\u001b[38;5;124m'\u001b[39m\u001b[38;5;124mColumn1\u001b[39m\u001b[38;5;124m'\u001b[39m]\u001b[38;5;241m.\u001b[39mround(\u001b[38;5;241m3\u001b[39m)\n\u001b[1;32m     13\u001b[0m \u001b[38;5;28mprint\u001b[39m(df)\n",
      "\u001b[0;31mTypeError\u001b[0m: 'numpy.dtype[float64]' object is not callable"
     ]
    }
   ],
   "source": [
    "# Create a sample DataFrame\n",
    "data = {\n",
    "    'Column1': [1.123456, 2.123456, 3.123456],\n",
    "    'Column2': [4.123456, 5.123456, 6.123456],\n",
    "    'Column3': [7.123456, 8.123456, 9.123456]\n",
    "}\n",
    "df = pd.DataFrame(data)\n",
    "\n",
    "# Round 'Column1' to 3 decimal places\n",
    "print(df['Column1'].dtype())\n",
    "df['Column1'] = df['Column1'].round(3)\n",
    "\n",
    "print(df)"
   ]
  },
  {
   "cell_type": "code",
   "execution_count": null,
   "id": "c129abb7-fed5-4738-93a1-a1e682a44941",
   "metadata": {},
   "outputs": [],
   "source": []
  }
 ],
 "metadata": {
  "kernelspec": {
   "display_name": "Python 3",
   "language": "python",
   "name": "python3"
  },
  "language_info": {
   "codemirror_mode": {
    "name": "ipython",
    "version": 3
   },
   "file_extension": ".py",
   "mimetype": "text/x-python",
   "name": "python",
   "nbconvert_exporter": "python",
   "pygments_lexer": "ipython3",
   "version": "3.8.5"
  },
  "varInspector": {
   "cols": {
    "lenName": 16,
    "lenType": 16,
    "lenVar": 40
   },
   "kernels_config": {
    "python": {
     "delete_cmd_postfix": "",
     "delete_cmd_prefix": "del ",
     "library": "var_list.py",
     "varRefreshCmd": "print(var_dic_list())"
    },
    "r": {
     "delete_cmd_postfix": ") ",
     "delete_cmd_prefix": "rm(",
     "library": "var_list.r",
     "varRefreshCmd": "cat(var_dic_list()) "
    }
   },
   "types_to_exclude": [
    "module",
    "function",
    "builtin_function_or_method",
    "instance",
    "_Feature"
   ],
   "window_display": false
  }
 },
 "nbformat": 4,
 "nbformat_minor": 5
}
