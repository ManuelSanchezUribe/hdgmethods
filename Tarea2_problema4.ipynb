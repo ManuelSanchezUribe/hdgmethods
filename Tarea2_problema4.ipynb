{
 "cells": [
  {
   "cell_type": "markdown",
   "metadata": {},
   "source": [
    "<center><h1 style=\"color:#0098E9;\"> Topicos avanzados de Ingenieria Matematica</h1></center>\n",
    "<center><h1 style=\"color:#0098E9;\"> Tarea 2</h1></center>\n",
    "<center><h3 style=\"color:#0098E9;\"> Manuel A. Sanchez</h3></center>\n",
    "<center><h3 style=\"color:#0098E9;\"> Pontificia Universidad Catolica de Chile</h3></center>\n",
    "<hr style=\"border:2px solid gray\"> </hr>"
   ]
  },
  {
   "cell_type": "markdown",
   "metadata": {},
   "source": [
    "## 4. M\\'etodo de HDG usando NGSolve\n",
    "\n",
    "Considere el problema de Poisson en el cuadrado unitario $\\Omega:=(0,1)^2$\n",
    "\n",
    "\\begin{equation*}\n",
    "\\begin{array}{rclrl}\n",
    "- \\nabla\\cdot (c^{-1}(x,y) \\nabla u(x,y)) &=& f(x,y) & \\mbox{en} & \\Omega \\\\\n",
    "g &=&g_{N}&\\mbox{sobre} & \\partial \\Omega_{N} := \\{(x,y)\\in\\partial \\Omega: x= 1\\} \\\\\n",
    "u &=& u_{D} & \\mbox{sobre} & \\partial \\Omega_{D} =\\partial \\Omega \\backslash \\partial \\Omega_N.\n",
    "\\end{array}\n",
    "\\end{equation*}\n",
    "\n",
    "Sea $\\mathcal T_{h}$ una triangulaci\\'on de $\\Omega$. Entonces.\n",
    "\n",
    "- 4.1 Utilice NGsolve para programar el problema utilizando un m\\'etodo de HDG con espacios locales $V(K)  =  \\mathcal P_{p}$,\n",
    "$W(K) =  \\mathcal P_{p}$, and $ M(\\partial K) = \\mathcal P_p(\\partial K)$ para todo $K\\in \\mathcal T_{h}$ y par\\'ametro de estabilizaci\\'on $\\tau = 1$. \n",
    "- 4.2  Testee su programa con la soluci\\'on exacta $u(x,y) = \\sin(x)\\cos(y)$ y $c(x,y) = 1+xy$. \n",
    "- 4.3 Calcule la soluci\\'on post-procesada $u_{h}^{*}$. Compare $u_h$ y $u_h^*$ por medio de un gr\\'afico para una malla gruesa (aproximadamente $h=0.25$). \n",
    "- 4.4 Reporte, ya sea en una tabla o un gr\\'afico log-log, los errores para las aproximaciones $u_h$, $u_h^*$ y $q_h$  y los respectivos ordenes de convergencia.  \n",
    "\n",
    "## Respuesta."
   ]
  },
  {
   "cell_type": "code",
   "execution_count": 13,
   "metadata": {},
   "outputs": [],
   "source": [
    "#import netgen.gui\n",
    "from ipywidgets.embed import embed_minimal_html, dependency_state\n",
    "from ngsolve import *\n",
    "from netgen.csg import *\n",
    "from ngsolve.webgui import Draw\n",
    "from netgen.geom2d import unit_square"
   ]
  },
  {
   "cell_type": "markdown",
   "metadata": {},
   "source": [
    "Definimos la solución exacta"
   ]
  },
  {
   "cell_type": "code",
   "execution_count": 14,
   "metadata": {},
   "outputs": [],
   "source": [
    "uexact = sin(x)*cos(y)\n",
    "qexact = CoefficientFunction( ( -1/(1+x*y)*cos(x)*cos(y) , 1/(1+x*y)*sin(x)*sin(y) ) )\n",
    "force = (y*cos(x)*cos(y)-x*sin(x)*sin(y))/(1+x*y)**2 + 2*cos(y)*sin(x)/(1+x*y) \n",
    "c = (1+x*y)\n",
    "gN = 1/(1+x*y)*cos(x)*cos(y) #qexact #CoefficientFunction([qexact if bc==\"right\" else 0 for bc in mesh.GetBoundaries()])\n",
    "uD = uexact"
   ]
  },
  {
   "cell_type": "markdown",
   "metadata": {},
   "source": [
    "### HDG solver"
   ]
  },
  {
   "cell_type": "code",
   "execution_count": 15,
   "metadata": {},
   "outputs": [],
   "source": [
    "from ngsolve.krylovspace import CGSolver\n",
    "\n",
    "def HDGsolve(mesh,p,force,ud,gN,c):\n",
    "    # Space\n",
    "    Vh = VectorL2(mesh, order=p)\n",
    "    Wh = L2(mesh, order=p)\n",
    "    Mh = FacetFESpace(mesh, order=p, dirichlet=\"left|top|bottom\")\n",
    "    fes = FESpace([Vh,Wh,Mh])\n",
    "    qh, uh, uhat = fes.TrialFunction()\n",
    "    vh, wh, what = fes.TestFunction()\n",
    "    # stabilization parameter\n",
    "    tau = 1\n",
    "    condense=True\n",
    "    a = BilinearForm(fes, condense=condense)\n",
    "    a += (c*qh*vh - uh*div(vh) -qh*grad(wh))*dx\n",
    "    n = specialcf.normal(mesh.dim)\n",
    "    qhatn = qh*n+tau*(uh-uhat)\n",
    "    a += uhat*vh*n*dx(element_boundary=True)\n",
    "    #a += (tau*uh*wh-tau*uhat*wh)*dx(element_boundary=True)\n",
    "    a += qhatn*wh*dx(element_boundary=True)\n",
    "    a += qhatn*what*dx(element_boundary=True)\n",
    "    P = Preconditioner(a, \"bddc\")\n",
    "    a.Assemble()\n",
    "    \n",
    "    f = LinearForm(fes)\n",
    "    f += force*wh*dx\n",
    "    #gN = g*n\n",
    "    f += -gN*what.Trace()*ds(definedon = \"right\") #Condicion de Neumann\n",
    "    f.Assemble()\n",
    "\n",
    "    gf = GridFunction(fes)\n",
    "    gfq, gfu, gfuhat = gf.components \n",
    "    gfuhat.Set(ud, BND)\n",
    "\n",
    "    #Resolvemos el problema\n",
    "    if condense:\n",
    "        f.vec.data += a.harmonic_extension_trans * f.vec\n",
    "        solvers.CG(mat = a.mat, pre=P.mat, rhs=f.vec, sol=gf.vec, initialize=False);\n",
    "        gf.vec.data += a.harmonic_extension * gf.vec\n",
    "        gf.vec.data += a.inner_solve * f.vec\n",
    "    \n",
    "    return gfu, gfq, gfuhat "
   ]
  },
  {
   "cell_type": "markdown",
   "metadata": {},
   "source": [
    "### Post-processing of $u$"
   ]
  },
  {
   "cell_type": "code",
   "execution_count": 16,
   "metadata": {},
   "outputs": [],
   "source": [
    "def postprocess(mesh,p,gfu,gfq):\n",
    "    fespost_u = L2(mesh, order=p+1)\n",
    "    fespost_lam = L2(mesh, order=0)\n",
    "    fes_post = FESpace([fespost_u, fespost_lam])\n",
    "\n",
    "    upost, la = fes_post.TrialFunction()\n",
    "    w, mu = fes_post.TestFunction()\n",
    "\n",
    "    a = BilinearForm(fes_post)\n",
    "    a += (grad(upost)*grad(w)+upost*mu)*dx\n",
    "    a.Assemble()\n",
    "    f = LinearForm(fes_post)\n",
    "    f += (-c*gfq*grad(w)+gfu*mu)*dx\n",
    "    f.Assemble()\n",
    "    gfpost = GridFunction(fes_post)\n",
    "    gfpost.vec.data = a.mat.Inverse() * f.vec    \n",
    "    return gfpost.components[0]\n"
   ]
  },
  {
   "cell_type": "markdown",
   "metadata": {},
   "source": [
    "### 4.3 Grafica de la solucion aproximada, triangles"
   ]
  },
  {
   "cell_type": "code",
   "execution_count": 17,
   "metadata": {},
   "outputs": [
    {
     "name": "stdout",
     "output_type": "stream",
     "text": [
      "iteration 0 error = 1.9771972946155791\n",
      "iteration 1 error = 0.5746840234950987\n",
      "iteration 2 error = 0.15495552251299968\n",
      "iteration 3 error = 0.004328974618842344\n",
      "iteration 4 error = 0.00039630641808028905\n",
      "iteration 5 error = 2.431285007470811e-05\n",
      "iteration 6 error = 5.892560513281211e-17\n"
     ]
    },
    {
     "data": {
      "application/vnd.jupyter.widget-view+json": {
       "model_id": "fda5ede4fd294369ab9eab70157dddf0",
       "version_major": 2,
       "version_minor": 0
      },
      "text/plain": [
       "NGSWebGuiWidget(value={'ngsolve_version': '6.2.2007', 'mesh_dim': 2, 'order2d': 2, 'order3d': 2, 'draw_vol': F…"
      ]
     },
     "metadata": {},
     "output_type": "display_data"
    },
    {
     "data": {
      "application/vnd.jupyter.widget-view+json": {
       "model_id": "e79344adf41b497f969131b990875ba4",
       "version_major": 2,
       "version_minor": 0
      },
      "text/plain": [
       "NGSWebGuiWidget(value={'ngsolve_version': '6.2.2007', 'mesh_dim': 2, 'order2d': 2, 'order3d': 2, 'draw_vol': F…"
      ]
     },
     "metadata": {},
     "output_type": "display_data"
    },
    {
     "data": {
      "text/plain": []
     },
     "execution_count": 17,
     "metadata": {},
     "output_type": "execute_result"
    }
   ],
   "source": [
    "#Iteración para plottear\n",
    "p=1\n",
    "mesh = Mesh(unit_square.GenerateMesh(maxh=0.5))\n",
    "gfu,gfq,_ = HDGsolve(mesh,p,force,uD,gN,c)\n",
    "upost = postprocess(mesh,p,gfu,gfq)\n",
    "\n",
    "#Graficamos la solución\n",
    "Draw(gfu)\n",
    "#Draw(gfq)\n",
    "Draw(upost, mesh, \"upost\")"
   ]
  },
  {
   "cell_type": "markdown",
   "metadata": {},
   "source": [
    "## 4.2 Grafica solucion aproximada, quadrilateral"
   ]
  },
  {
   "cell_type": "code",
   "execution_count": 8,
   "metadata": {},
   "outputs": [
    {
     "name": "stdout",
     "output_type": "stream",
     "text": [
      "iteration 0 error = 1.476434778353675\n",
      "iteration 1 error = 0.027391766999147818\n",
      "iteration 2 error = 0.0004471828684003038\n",
      "iteration 3 error = 4.496809962587334e-06\n",
      "iteration 4 error = 1.1605460659536423e-07\n",
      "iteration 5 error = 3.2473711990596757e-22\n"
     ]
    },
    {
     "data": {
      "application/vnd.jupyter.widget-view+json": {
       "model_id": "3dc3d0d47af64c448883e1c3cf8129da",
       "version_major": 2,
       "version_minor": 0
      },
      "text/plain": [
       "NGSWebGuiWidget(value={'ngsolve_version': '6.2.2007', 'mesh_dim': 2, 'order2d': 2, 'order3d': 2, 'draw_vol': F…"
      ]
     },
     "metadata": {},
     "output_type": "display_data"
    },
    {
     "data": {
      "application/vnd.jupyter.widget-view+json": {
       "model_id": "2571b55dc73748dc8a3e0ae1d86be2d7",
       "version_major": 2,
       "version_minor": 0
      },
      "text/plain": [
       "NGSWebGuiWidget(value={'ngsolve_version': '6.2.2007', 'mesh_dim': 2, 'order2d': 2, 'order3d': 2, 'draw_vol': F…"
      ]
     },
     "metadata": {},
     "output_type": "display_data"
    },
    {
     "data": {
      "text/plain": []
     },
     "execution_count": 8,
     "metadata": {},
     "output_type": "execute_result"
    }
   ],
   "source": [
    "p=1\n",
    "mesh = Mesh(unit_square.GenerateMesh(maxh=0.5, quad_dominated=True)) \n",
    "gfu,gfq,_ = HDGsolve(mesh,p,force,uD,gN,c)\n",
    "#Graficamos la solución\n",
    "Draw(gfu)\n",
    "Draw(upost, mesh, \"upost\")"
   ]
  },
  {
   "cell_type": "code",
   "execution_count": 9,
   "metadata": {},
   "outputs": [],
   "source": [
    "#Estimación del error y del orden\n",
    "\n",
    "def errorfun(uh,qh,uexact,duexact,upost, mesh):\n",
    "    u_err = Integrate( (uh-uexact)**2 ,mesh)\n",
    "    q_err = Integrate(( qh-duexact )**2, mesh)\n",
    "    post_err = Integrate((upost-uexact)**2,mesh)\n",
    "    return sqrt(u_err), sqrt(q_err), sqrt(post_err)\n",
    "\n",
    "\n",
    "from pandas import DataFrame\n",
    "def print_markdown_table(errors):\n",
    "    i = 1\n",
    "    h = []\n",
    "    error_u = []\n",
    "    order_u = []\n",
    "    error_q = []\n",
    "    order_q = []\n",
    "    error_up = []\n",
    "    order_up = []\n",
    "    while i < len(errors):\n",
    "        h.append(errors[i][0])\n",
    "        error_u.append(errors[i][1])\n",
    "        order_u.append(log(errors[i-1][1]/errors[i][1])/log(errors[i-1][0]/errors[i][0]))\n",
    "        error_q.append(errors[i][2])\n",
    "        order_q.append(log(errors[i-1][2]/errors[i][2])/log(errors[i-1][0]/errors[i][0]))\n",
    "        error_up.append(errors[i][3])\n",
    "        order_up.append( log(errors[i-1][3]/errors[i][3])/log(errors[i-1][0]/errors[i][0]))\n",
    "        i += 1\n",
    "    # pretty print\n",
    "    df = DataFrame({\"h\":h,'$$\\|u-u_h\\|_{L^2}$$': error_u,\"$$\\mbox{order } u$$\": order_u, \"$$\\|q-q_h\\|_{L^2}$$\": error_q, \" $$\\mbox{order }q$$\": order_q, \"$$\\|u-u_h^{*}\\|_{L^2}$$\": error_up, \" $$\\mbox{order }u^*_h$$\": order_up})\n",
    "    display(df)\n"
   ]
  },
  {
   "cell_type": "code",
   "execution_count": 11,
   "metadata": {},
   "outputs": [],
   "source": [
    "def convergence_test(type_ele, plot):\n",
    "    p = 1\n",
    "    h0 = 0.5\n",
    "    output = []\n",
    "    for i in range(1,6):\n",
    "        if type_ele == 'quad':\n",
    "            mesh = Mesh(unit_square.GenerateMesh(maxh=h0**i,quad_dominated=True))\n",
    "        else:\n",
    "            mesh = Mesh(unit_square.GenerateMesh(maxh=h0**i))\n",
    "        uh,qh,uhat = HDGsolve( mesh, p, force, uD, gN, c)\n",
    "        upost = postprocess(mesh,p,uh,qh)\n",
    "        eu, eq, eup = errorfun(uh,qh,uexact,qexact, upost,mesh)\n",
    "        \n",
    "        output.append (( h0**i,  eu, eq, eup ))\n",
    "    return output"
   ]
  },
  {
   "cell_type": "markdown",
   "metadata": {},
   "source": [
    "## Convergence test triangular meshes"
   ]
  },
  {
   "cell_type": "code",
   "execution_count": 12,
   "metadata": {},
   "outputs": [
    {
     "name": "stdout",
     "output_type": "stream",
     "text": [
      "iteration 0 error = 1.9771972946155791\n",
      "iteration 1 error = 0.5746840234950987\n",
      "iteration 2 error = 0.15495552251299968\n",
      "iteration 3 error = 0.004328974618842344\n",
      "iteration 4 error = 0.00039630641808028905\n",
      "iteration 5 error = 2.431285007470811e-05\n",
      "iteration 6 error = 5.892560513281211e-17\n",
      "iteration 0 error = 3.239386302953754\n",
      "iteration 1 error = 1.285167031959893\n",
      "iteration 2 error = 0.27885916843415715\n",
      "iteration 3 error = 0.06480992617119319\n",
      "iteration 4 error = 0.01810157378160549\n",
      "iteration 5 error = 0.0024190639651282464\n",
      "iteration 6 error = 0.0006130265946948363\n",
      "iteration 7 error = 0.0001644843852242242\n",
      "iteration 8 error = 2.8527530487543975e-05\n",
      "iteration 9 error = 7.301609880668676e-06\n",
      "iteration 10 error = 1.8525798304501317e-06\n",
      "iteration 11 error = 5.193391850866128e-07\n",
      "iteration 12 error = 9.994255369549737e-08\n",
      "iteration 13 error = 2.8556554067509752e-08\n",
      "iteration 14 error = 5.5172941231167485e-09\n",
      "iteration 15 error = 1.2687589058419529e-09\n",
      "iteration 16 error = 2.586023497383191e-10\n",
      "iteration 17 error = 3.7024723593993995e-11\n",
      "iteration 18 error = 6.915840399918652e-12\n",
      "iteration 19 error = 1.4376178156017698e-12\n",
      "iteration 0 error = 4.42047064869968\n",
      "iteration 1 error = 1.5500339517627302\n",
      "iteration 2 error = 0.3954233029698229\n",
      "iteration 3 error = 0.05030172625490881\n",
      "iteration 4 error = 0.01490803988311556\n",
      "iteration 5 error = 0.0026819719698343565\n",
      "iteration 6 error = 0.000600096943949044\n",
      "iteration 7 error = 0.00015521165720961444\n",
      "iteration 8 error = 3.258058969666775e-05\n",
      "iteration 9 error = 9.05034518806704e-06\n",
      "iteration 10 error = 2.3597581176268673e-06\n",
      "iteration 11 error = 5.421081624511717e-07\n",
      "iteration 12 error = 1.7143261758595607e-07\n",
      "iteration 13 error = 4.35112529405068e-08\n",
      "iteration 14 error = 8.887453720533077e-09\n",
      "iteration 15 error = 1.991916723023869e-09\n",
      "iteration 16 error = 4.4283919502228163e-10\n",
      "iteration 17 error = 9.125169130656222e-11\n",
      "iteration 18 error = 2.4277892836928872e-11\n",
      "iteration 19 error = 5.235666023298344e-12\n",
      "iteration 20 error = 1.1502738691056478e-12\n",
      "iteration 0 error = 6.106117252433541\n",
      "iteration 1 error = 1.932112218057886\n",
      "iteration 2 error = 0.4641410222238255\n",
      "iteration 3 error = 0.0514044906530809\n",
      "iteration 4 error = 0.013789138472649823\n",
      "iteration 5 error = 0.0024519113413600277\n",
      "iteration 6 error = 0.0005484918801010036\n",
      "iteration 7 error = 0.00013230877082538853\n",
      "iteration 8 error = 1.94272054213667e-05\n",
      "iteration 9 error = 4.4718513221996395e-06\n",
      "iteration 10 error = 9.811891690223411e-07\n",
      "iteration 11 error = 2.035641011528291e-07\n",
      "iteration 12 error = 4.62145018024662e-08\n",
      "iteration 13 error = 8.249982538478707e-09\n",
      "iteration 14 error = 2.126072043215329e-09\n",
      "iteration 15 error = 4.1751753217386273e-10\n",
      "iteration 16 error = 8.772275007672301e-11\n",
      "iteration 17 error = 1.9963164854873245e-11\n",
      "iteration 18 error = 4.227212561197471e-12\n",
      "iteration 0 error = 8.531055914455884\n",
      "iteration 1 error = 2.5704656293883654\n",
      "iteration 2 error = 0.5520751216385272\n",
      "iteration 3 error = 0.049305385152582426\n",
      "iteration 4 error = 0.013362988818286275\n",
      "iteration 5 error = 0.0023636321080863555\n",
      "iteration 6 error = 0.0005438523417474235\n",
      "iteration 7 error = 0.0001321174166478612\n",
      "iteration 8 error = 1.8034024803808144e-05\n",
      "iteration 9 error = 4.514671648219639e-06\n",
      "iteration 10 error = 1.4096923296802355e-06\n",
      "iteration 11 error = 3.6361667788020465e-07\n",
      "iteration 12 error = 8.656103203221601e-08\n",
      "iteration 13 error = 1.7953099379080368e-08\n",
      "iteration 14 error = 3.565943742746414e-09\n",
      "iteration 15 error = 8.618869072267099e-10\n",
      "iteration 16 error = 1.6160610320387648e-10\n",
      "iteration 17 error = 3.960448425905714e-11\n",
      "iteration 18 error = 9.314836903515227e-12\n",
      "iteration 19 error = 2.087297103615407e-12\n"
     ]
    },
    {
     "data": {
      "text/html": [
       "<div>\n",
       "<style scoped>\n",
       "    .dataframe tbody tr th:only-of-type {\n",
       "        vertical-align: middle;\n",
       "    }\n",
       "\n",
       "    .dataframe tbody tr th {\n",
       "        vertical-align: top;\n",
       "    }\n",
       "\n",
       "    .dataframe thead th {\n",
       "        text-align: right;\n",
       "    }\n",
       "</style>\n",
       "<table border=\"1\" class=\"dataframe\">\n",
       "  <thead>\n",
       "    <tr style=\"text-align: right;\">\n",
       "      <th></th>\n",
       "      <th>h</th>\n",
       "      <th>$$\\|u-u_h\\|_{L^2}$$</th>\n",
       "      <th>$$\\mbox{order } u$$</th>\n",
       "      <th>$$\\|q-q_h\\|_{L^2}$$</th>\n",
       "      <th>$$\\mbox{order }q$$</th>\n",
       "      <th>$$\\|u-u_h^{*}\\|_{L^2}$$</th>\n",
       "      <th>$$\\mbox{order }u^*_h$$</th>\n",
       "    </tr>\n",
       "  </thead>\n",
       "  <tbody>\n",
       "    <tr>\n",
       "      <th>0</th>\n",
       "      <td>0.25000</td>\n",
       "      <td>0.001690</td>\n",
       "      <td>2.754067</td>\n",
       "      <td>0.002977</td>\n",
       "      <td>2.616827</td>\n",
       "      <td>1.441383e-04</td>\n",
       "      <td>4.292325</td>\n",
       "    </tr>\n",
       "    <tr>\n",
       "      <th>1</th>\n",
       "      <td>0.12500</td>\n",
       "      <td>0.000434</td>\n",
       "      <td>1.961017</td>\n",
       "      <td>0.000729</td>\n",
       "      <td>2.029703</td>\n",
       "      <td>1.792117e-05</td>\n",
       "      <td>3.007717</td>\n",
       "    </tr>\n",
       "    <tr>\n",
       "      <th>2</th>\n",
       "      <td>0.06250</td>\n",
       "      <td>0.000101</td>\n",
       "      <td>2.106818</td>\n",
       "      <td>0.000164</td>\n",
       "      <td>2.156645</td>\n",
       "      <td>1.813755e-06</td>\n",
       "      <td>3.304614</td>\n",
       "    </tr>\n",
       "    <tr>\n",
       "      <th>3</th>\n",
       "      <td>0.03125</td>\n",
       "      <td>0.000025</td>\n",
       "      <td>2.004860</td>\n",
       "      <td>0.000039</td>\n",
       "      <td>2.051027</td>\n",
       "      <td>2.227197e-07</td>\n",
       "      <td>3.025678</td>\n",
       "    </tr>\n",
       "  </tbody>\n",
       "</table>\n",
       "</div>"
      ],
      "text/plain": [
       "         h  $$\\|u-u_h\\|_{L^2}$$  $$\\mbox{order } u$$  $$\\|q-q_h\\|_{L^2}$$  \\\n",
       "0  0.25000             0.001690             2.754067             0.002977   \n",
       "1  0.12500             0.000434             1.961017             0.000729   \n",
       "2  0.06250             0.000101             2.106818             0.000164   \n",
       "3  0.03125             0.000025             2.004860             0.000039   \n",
       "\n",
       "    $$\\mbox{order }q$$  $$\\|u-u_h^{*}\\|_{L^2}$$   $$\\mbox{order }u^*_h$$  \n",
       "0             2.616827             1.441383e-04                 4.292325  \n",
       "1             2.029703             1.792117e-05                 3.007717  \n",
       "2             2.156645             1.813755e-06                 3.304614  \n",
       "3             2.051027             2.227197e-07                 3.025678  "
      ]
     },
     "metadata": {},
     "output_type": "display_data"
    }
   ],
   "source": [
    "error = convergence_test('tri', plot=False)\n",
    "print_markdown_table(error)"
   ]
  },
  {
   "cell_type": "markdown",
   "metadata": {},
   "source": [
    "## Convergence test quadrilateral meshes"
   ]
  },
  {
   "cell_type": "code",
   "execution_count": 57,
   "metadata": {},
   "outputs": [
    {
     "name": "stdout",
     "output_type": "stream",
     "text": [
      "iteration 0 error = 1.476434778353675\n",
      "iteration 1 error = 0.027391766999147818\n",
      "iteration 2 error = 0.0004471828684003038\n",
      "iteration 3 error = 4.496809962587334e-06\n",
      "iteration 4 error = 1.1605460659536423e-07\n",
      "iteration 5 error = 3.2473711990596757e-22\n",
      "iteration 0 error = 1.9685816586440916\n",
      "iteration 1 error = 0.029824068403053513\n",
      "iteration 2 error = 0.0012623328481429033\n",
      "iteration 3 error = 8.7264245888587e-05\n",
      "iteration 4 error = 5.974812741643205e-06\n",
      "iteration 5 error = 3.5864753382749496e-07\n",
      "iteration 6 error = 2.341471598388426e-08\n",
      "iteration 7 error = 1.3656014904590411e-09\n",
      "iteration 8 error = 8.854548839676976e-11\n",
      "iteration 9 error = 4.897808689772015e-12\n",
      "iteration 10 error = 2.381668690355415e-13\n",
      "iteration 0 error = 2.6681962060128686\n",
      "iteration 1 error = 0.041947673581197935\n",
      "iteration 2 error = 0.006711895844709437\n",
      "iteration 3 error = 0.0010164451544004427\n",
      "iteration 4 error = 0.00013243484299745527\n",
      "iteration 5 error = 1.9885371874042946e-05\n",
      "iteration 6 error = 3.9294559568660346e-06\n",
      "iteration 7 error = 5.176589555973332e-07\n",
      "iteration 8 error = 7.936214977266429e-08\n",
      "iteration 9 error = 1.3915060530571845e-08\n",
      "iteration 10 error = 2.1268181274212455e-09\n",
      "iteration 11 error = 2.936579860631748e-10\n",
      "iteration 12 error = 4.684582387990566e-11\n",
      "iteration 13 error = 7.843770329781133e-12\n",
      "iteration 14 error = 1.12545428732573e-12\n",
      "iteration 0 error = 3.6785749868119098\n",
      "iteration 1 error = 0.08018753989149383\n",
      "iteration 2 error = 0.015935709159856558\n",
      "iteration 3 error = 0.004195788600514169\n",
      "iteration 4 error = 0.0012560732602339114\n",
      "iteration 5 error = 0.00039409117504251245\n",
      "iteration 6 error = 0.00010325376137444242\n",
      "iteration 7 error = 2.7849732396005355e-05\n",
      "iteration 8 error = 8.083855803283107e-06\n",
      "iteration 9 error = 1.9067591947238554e-06\n",
      "iteration 10 error = 5.278156544445107e-07\n",
      "iteration 11 error = 1.67186989231112e-07\n",
      "iteration 12 error = 5.361291286600941e-08\n",
      "iteration 13 error = 1.426123501572489e-08\n",
      "iteration 14 error = 3.6242577470221318e-09\n",
      "iteration 15 error = 9.802482644556422e-10\n",
      "iteration 16 error = 2.8003373372226414e-10\n",
      "iteration 17 error = 7.156111038206479e-11\n",
      "iteration 18 error = 2.133071630866054e-11\n",
      "iteration 19 error = 6.6566354532406044e-12\n",
      "iteration 20 error = 1.8264001602309314e-12\n",
      "iteration 0 error = 5.130099800571726\n",
      "iteration 1 error = 0.15768427492256393\n",
      "iteration 2 error = 0.03684614364477347\n",
      "iteration 3 error = 0.012257393060306022\n",
      "iteration 4 error = 0.004712939977347\n",
      "iteration 5 error = 0.0019324577251696566\n",
      "iteration 6 error = 0.0008064295472904185\n",
      "iteration 7 error = 0.0003358726583224571\n",
      "iteration 8 error = 0.00014025248927284595\n",
      "iteration 9 error = 6.324631427446597e-05\n",
      "iteration 10 error = 2.7323341240752695e-05\n",
      "iteration 11 error = 1.0911374433798902e-05\n",
      "iteration 12 error = 4.347409073367224e-06\n",
      "iteration 13 error = 1.7573180854787076e-06\n",
      "iteration 14 error = 7.222588960623041e-07\n",
      "iteration 15 error = 2.9696571848050106e-07\n",
      "iteration 16 error = 1.3223926002475318e-07\n",
      "iteration 17 error = 5.1616717677209364e-08\n",
      "iteration 18 error = 1.9618402067323234e-08\n",
      "iteration 19 error = 7.767465505948708e-09\n",
      "iteration 20 error = 3.1734823004486748e-09\n",
      "iteration 21 error = 1.3541242089778302e-09\n",
      "iteration 22 error = 6.11993504797173e-10\n",
      "iteration 23 error = 2.6727075409445044e-10\n",
      "iteration 24 error = 1.1221860311254135e-10\n",
      "iteration 25 error = 4.7636558286525315e-11\n",
      "iteration 26 error = 1.919283545402196e-11\n",
      "iteration 27 error = 7.540642286035131e-12\n",
      "iteration 28 error = 2.9501602693241183e-12\n"
     ]
    },
    {
     "data": {
      "text/html": [
       "<div>\n",
       "<style scoped>\n",
       "    .dataframe tbody tr th:only-of-type {\n",
       "        vertical-align: middle;\n",
       "    }\n",
       "\n",
       "    .dataframe tbody tr th {\n",
       "        vertical-align: top;\n",
       "    }\n",
       "\n",
       "    .dataframe thead th {\n",
       "        text-align: right;\n",
       "    }\n",
       "</style>\n",
       "<table border=\"1\" class=\"dataframe\">\n",
       "  <thead>\n",
       "    <tr style=\"text-align: right;\">\n",
       "      <th></th>\n",
       "      <th>h</th>\n",
       "      <th>$$\\|u-u_h\\|_{L^2}$$</th>\n",
       "      <th>$$\\mbox{order } u$$</th>\n",
       "      <th>$$\\|q-q_h\\|_{L^2}$$</th>\n",
       "      <th>$$\\mbox{order }q$$</th>\n",
       "      <th>$$\\|u-u_h^{*}\\|_{L^2}$$</th>\n",
       "      <th>$$\\mbox{order }u^*_h$$</th>\n",
       "    </tr>\n",
       "  </thead>\n",
       "  <tbody>\n",
       "    <tr>\n",
       "      <th>0</th>\n",
       "      <td>0.25000</td>\n",
       "      <td>0.002027</td>\n",
       "      <td>1.926853</td>\n",
       "      <td>0.004100</td>\n",
       "      <td>1.705737</td>\n",
       "      <td>1.956956e-04</td>\n",
       "      <td>2.734888</td>\n",
       "    </tr>\n",
       "    <tr>\n",
       "      <th>1</th>\n",
       "      <td>0.12500</td>\n",
       "      <td>0.000530</td>\n",
       "      <td>1.935575</td>\n",
       "      <td>0.001238</td>\n",
       "      <td>1.727632</td>\n",
       "      <td>2.895999e-05</td>\n",
       "      <td>2.756479</td>\n",
       "    </tr>\n",
       "    <tr>\n",
       "      <th>2</th>\n",
       "      <td>0.06250</td>\n",
       "      <td>0.000137</td>\n",
       "      <td>1.948452</td>\n",
       "      <td>0.000372</td>\n",
       "      <td>1.736388</td>\n",
       "      <td>4.224289e-06</td>\n",
       "      <td>2.777281</td>\n",
       "    </tr>\n",
       "    <tr>\n",
       "      <th>3</th>\n",
       "      <td>0.03125</td>\n",
       "      <td>0.000035</td>\n",
       "      <td>1.960816</td>\n",
       "      <td>0.000111</td>\n",
       "      <td>1.745048</td>\n",
       "      <td>6.099001e-07</td>\n",
       "      <td>2.792064</td>\n",
       "    </tr>\n",
       "  </tbody>\n",
       "</table>\n",
       "</div>"
      ],
      "text/plain": [
       "         h  $$\\|u-u_h\\|_{L^2}$$  $$\\mbox{order } u$$  $$\\|q-q_h\\|_{L^2}$$  \\\n",
       "0  0.25000             0.002027             1.926853             0.004100   \n",
       "1  0.12500             0.000530             1.935575             0.001238   \n",
       "2  0.06250             0.000137             1.948452             0.000372   \n",
       "3  0.03125             0.000035             1.960816             0.000111   \n",
       "\n",
       "    $$\\mbox{order }q$$  $$\\|u-u_h^{*}\\|_{L^2}$$   $$\\mbox{order }u^*_h$$  \n",
       "0             1.705737             1.956956e-04                 2.734888  \n",
       "1             1.727632             2.895999e-05                 2.756479  \n",
       "2             1.736388             4.224289e-06                 2.777281  \n",
       "3             1.745048             6.099001e-07                 2.792064  "
      ]
     },
     "metadata": {},
     "output_type": "display_data"
    }
   ],
   "source": [
    "error = convergence_test('quad', plot=False)\n",
    "print_markdown_table(error)"
   ]
  },
  {
   "cell_type": "code",
   "execution_count": null,
   "metadata": {},
   "outputs": [],
   "source": []
  },
  {
   "cell_type": "code",
   "execution_count": null,
   "metadata": {},
   "outputs": [],
   "source": []
  }
 ],
 "metadata": {
  "hide_input": false,
  "kernelspec": {
   "display_name": "Python 3.7.0 64-bit",
   "language": "python",
   "name": "python37064bit3d1a1e4cfdaf435196cfa0e1779039a4"
  },
  "language_info": {
   "codemirror_mode": {
    "name": "ipython",
    "version": 3
   },
   "file_extension": ".py",
   "mimetype": "text/x-python",
   "name": "python",
   "nbconvert_exporter": "python",
   "pygments_lexer": "ipython3",
   "version": "3.7.0"
  },
  "widgets": {
   "application/vnd.jupyter.widget-state+json": {
    "state": {
     "04e1cd957ef942a4b28f35e681cb2b85": {
      "model_module": "@jupyter-widgets/base",
      "model_module_version": "1.2.0",
      "model_name": "LayoutModel",
      "state": {}
     },
     "0c58cbbaf67248ca921e2f3d5020a729": {
      "model_module": "@jupyter-widgets/base",
      "model_module_version": "1.2.0",
      "model_name": "LayoutModel",
      "state": {}
     },
     "2571b55dc73748dc8a3e0ae1d86be2d7": {
      "model_module": "@jupyter-widgets/base",
      "model_module_version": "1.2.0",
      "model_name": "DOMWidgetModel",
      "state": {
       "_model_name": "DOMWidgetModel",
       "_view_module": "ngsolve_jupyter_widgets",
       "_view_module_version": "^2.0.0",
       "_view_name": "NGSolveView",
       "layout": "IPY_MODEL_0c58cbbaf67248ca921e2f3d5020a729",
       "value": {
        "Bezier_points": [
         "AAAAAAAAAAAAAAAADTJ/uwAAAAAAAAAAAAAAAA0yf7sAAAAAAAAAPwAAAAB9oHq7AAAAPwAAAAAAAAAA4h/4PgAAAD8AAAAAAAAAAOIf+D4AAAA/AAAAAAAAAADiH/g+AAAAPwAAAD8AAAAAEePXPgAAgD8AAAAAAAAAAMRjVz8AAIA/AAAAPwAAAABJAz0/AACAPwAAAD8AAAAASQM9PwAAAD8AAAA/AAAAABHj1z4AAIA/AACAPwAAAAB0XOg+AAAAPwAAgD8AAAAAVK6CPgAAAD8AAIA/AAAAAFSugj4AAAA/AAAAPwAAAAAR49c+AAAAAAAAgD8AAAAAsH+dOg==",
         "AACAPgAAAAAAAAAAW1GBPgAAAAAAAIA+AAAAAO7cxTsAAIA+AAAAPwAAAAA1h2E+AAAAPwAAgD4AAAAAfy31PgAAQD8AAAAAAAAAAIKrMj8AAAA/AACAPgAAAAB/LfU+AABAPwAAAD8AAAAAaA8cPwAAgD8AAIA+AAAAANe7VT8AAIA/AABAPwAAAADdiSE/AABAPwAAAD8AAAAAaA8cPwAAAD8AAEA/AAAAAOTuuT4AAEA/AACAPwAAAADjX8Q+AACAPgAAgD8AAAAARhALPgAAAD8AAEA/AAAAAOTuuT4AAIA+AAAAPwAAAAA1h2E+AAAAAAAAQD8AAAAAf+wSOw==",
         "AAAAPwAAAAAAAAAA4h/4PgAAAAAAAAA/AAAAAH2gersAAAA/AAAAPwAAAAAR49c+AAAAPwAAAD8AAAAAEePXPgAAgD8AAAAAAAAAAMRjVz8AAAA/AAAAPwAAAAAR49c+AACAPwAAAD8AAAAASQM9PwAAgD8AAAA/AAAAAEkDPT8AAIA/AACAPwAAAAB0XOg+AAAAPwAAAD8AAAAAEePXPgAAAD8AAIA/AAAAAFSugj4AAAA/AACAPwAAAABUroI+AAAAAAAAgD8AAAAAsH+dOgAAAD8AAAA/AAAAABHj1z4AAAAAAAAAPwAAAAB9oHq7AAAAAAAAAD8AAAAAfaB6uw=="
        ],
        "Bezier_trig_points": [
         "AAAAAAAAAAAAAAAADTJ/uwAAAD8AAAA/AAAAABHj1z4AAAA/AAAAAAAAAADiH/g+AACAPwAAAD8AAAAASQM9PwAAgD8AAAA/AAAAAEkDPT8AAAA/AACAPwAAAABUroI+AAAAPwAAgD8AAAAAVK6CPgAAAAAAAAA/AAAAAH2gers=",
         "AACAPgAAAAAAAAAAW1GBPgAAgD4AAAA/AAAAADWHYT4AAEA/AAAAAAAAAACCqzI/AABAPwAAAD8AAAAAaA8cPwAAgD8AAEA/AAAAAN2JIT8AAAA/AABAPwAAAADk7rk+AACAPgAAgD8AAAAARhALPgAAgD4AAAA/AAAAADWHYT4=",
         "AAAAPwAAAAAAAAAA4h/4PgAAAAAAAAA/AAAAAH2gersAAIA/AAAAAAAAAADEY1c/AAAAPwAAAD8AAAAAEePXPgAAgD8AAIA/AAAAAHRc6D4AAAA/AAAAPwAAAAAR49c+AAAAAAAAgD8AAAAAsH+dOgAAAD8AAAA/AAAAABHj1z4=",
         "AAAAAAAAgD4AAAAA7tzFOwAAAD8AAIA+AAAAAH8t9T4AAAA/AACAPgAAAAB/LfU+AACAPwAAgD4AAAAA17tVPwAAQD8AAAA/AAAAAGgPHD8AAEA/AACAPwAAAADjX8Q+AAAAPwAAQD8AAAAA5O65PgAAAAAAAEA/AAAAAH/sEjs=",
         "AACAPgAAgD4AAAAAR3Z0PgAAgD4AAIA+AAAAAEd2dD4AAEA/AACAPgAAAAAVAC8/AABAPwAAgD4AAAAAFQAvPwAAQD8AAEA/AAAAADkLDz8AAEA/AABAPwAAAAA5Cw8/AACAPgAAQD8AAAAA9awWPgAAgD4AAEA/AAAAAPWsFj4=",
         "AAAAAAAAAD8AAAAAfaB6uwAAAD8AAAAAAAAAAOIf+D4AAAA/AAAAPwAAAAAR49c+AACAPwAAAAAAAAAAxGNXPwAAAD8AAAA/AAAAABHj1z4AAIA/AACAPwAAAAB0XOg+AAAAPwAAAD8AAAAAEePXPgAAAAAAAIA/AAAAALB/nTo="
        ],
        "autoscale": true,
        "deformation": false,
        "draw_surf": true,
        "draw_vol": false,
        "edges": [
         "AAAAPwAAAAAAAAAAAAAAAAAAgD8AAAAAAAAAAAAAAAAAAIA/AAAAPwAAAAAAAAAAAACAPwAAgD8AAAAAAAAAAAAAAD8AAIA/AAAAAAAAAAAAAAAAAACAPwAAAAAAAAAAAAAAAAAAAD8AAAAAAAAAAAAAAAAAAAAAAAAAAAAAAAA=",
         "AACAPgAAAAAAAAAAAAAAAAAAQD8AAAAAAAAAAAAAAAAAAIA/AACAPgAAAAAAAAAAAACAPwAAQD8AAAAAAAAAAAAAQD8AAIA/AAAAAAAAAAAAAIA+AACAPwAAAAAAAAAAAAAAAAAAQD8AAAAAAAAAAAAAAAAAAIA+AAAAAAAAAAA=",
         "AAAAAAAAAAAAAAAAAAAAAAAAAD8AAAAAAAAAAAAAAAAAAIA/AAAAAAAAAAAAAAAAAACAPwAAAD8AAAAAAAAAAAAAgD8AAIA/AAAAAAAAAAAAAAA/AACAPwAAAAAAAAAAAAAAAAAAgD8AAAAAAAAAAAAAAAAAAAA/AAAAAAAAAAA="
        ],
        "funcdim": 1,
        "funcmax": 0.8413660603973435,
        "funcmin": -0.0038939744711469805,
        "mesh_center": [
         0.5,
         0.5,
         0
        ],
        "mesh_dim": 2,
        "mesh_radius": 0.7071067811865476,
        "ngsolve_version": "6.2.2007",
        "order2d": 2,
        "order3d": 2,
        "show_mesh": true,
        "show_wireframe": true
       }
      }
     },
     "3dc3d0d47af64c448883e1c3cf8129da": {
      "model_module": "@jupyter-widgets/base",
      "model_module_version": "1.2.0",
      "model_name": "DOMWidgetModel",
      "state": {
       "_model_name": "DOMWidgetModel",
       "_view_module": "ngsolve_jupyter_widgets",
       "_view_module_version": "^2.0.0",
       "_view_name": "NGSolveView",
       "layout": "IPY_MODEL_402e6459ca5d4c0a91815c7d892d0dcb",
       "value": {
        "Bezier_points": [
         "AAAAAAAAAAAAAAAANwBuuwAAAAAAAAAAAAAAADcAbrsAAAAAAAAAPwAAAACt+A47AAAAPwAAAAAAAAAABJ8CPwAAAD8AAAAAAAAAANLjAD8AAAA/AAAAAAAAAADS4wA/AAAAPwAAAD8AAAAAC6nePgAAgD8AAAAAAAAAACfCZD8AAIA/AAAAPwAAAADyPUY/AACAPwAAAD8AAAAA8j1GPwAAAD8AAAA/AAAAAIpy4z4AAIA/AACAPwAAAACcYe0+AAAAPwAAgD8AAAAAzheFPgAAAD8AAIA/AAAAAM4XhT4AAAA/AAAAPwAAAAD/vuM+AAAAAAAAgD8AAAAA7U2qOw==",
         "AACAPgAAAAAAAAAAA7GBPgAAAAAAAIA+AAAAABIPProAAIA+AAAAPwAAAABtVlw+AAAAPwAAgD4AAAAAQTvwPgAAQD8AAAAAAAAAAP3SMj8AAAA/AACAPgAAAABYOPA+AABAPwAAAD8AAAAAXaIXPwAAgD8AAIA+AAAAAC5ZUj8AAIA/AABAPwAAAABgdx4/AABAPwAAAD8AAAAAnPsbPwAAAD8AAEA/AAAAAIo9tj4AAEA/AACAPwAAAAATNbs+AACAPgAAgD8AAAAABcEHPgAAAD8AAEA/AAAAAGdrtD4AAIA+AAAAPwAAAADre2I+AAAAAAAAQD8AAAAA4RGzOg==",
         "AAAAPwAAAAAAAAAABJ8CPwAAAAAAAAA/AAAAAK34DjsAAAA/AAAAPwAAAAB7ONs+AAAAPwAAAD8AAAAAezjbPgAAgD8AAAAAAAAAACfCZD8AAAA/AAAAPwAAAAALqd4+AACAPwAAAD8AAAAANfA/PwAAgD8AAAA/AAAAADXwPz8AAIA/AACAPwAAAACcYe0+AAAAPwAAAD8AAAAAinLjPgAAAD8AAIA/AAAAAIsIiT4AAAA/AACAPwAAAACLCIk+AAAAAAAAgD8AAAAA7U2qOwAAAD8AAAA/AAAAAP++4z4AAAAAAAAAPwAAAAD4iSG7AAAAAAAAAD8AAAAA+Ikhuw=="
        ],
        "Bezier_trig_points": [
         "AAAAAAAAAAAAAAAANwBuuwAAAD8AAAA/AAAAAHs42z4AAAA/AAAAAAAAAADS4wA/AACAPwAAAD8AAAAANfA/PwAAgD8AAAA/AAAAAPI9Rj8AAAA/AACAPwAAAACLCIk+AAAAPwAAgD8AAAAAzheFPgAAAAAAAAA/AAAAAPiJIbs=",
         "AACAPgAAAAAAAAAAA7GBPgAAgD4AAAA/AAAAAG1WXD4AAEA/AAAAAAAAAAD90jI/AABAPwAAAD8AAAAAXaIXPwAAgD8AAEA/AAAAAGB3Hj8AAAA/AABAPwAAAACKPbY+AACAPgAAgD8AAAAABcEHPgAAgD4AAAA/AAAAAOt7Yj4=",
         "AAAAPwAAAAAAAAAABJ8CPwAAAAAAAAA/AAAAAK34DjsAAIA/AAAAAAAAAAAnwmQ/AAAAPwAAAD8AAAAAC6nePgAAgD8AAIA/AAAAAJxh7T4AAAA/AAAAPwAAAACKcuM+AAAAAAAAgD8AAAAA7U2qOwAAAD8AAAA/AAAAAP++4z4=",
         "AAAAAAAAgD4AAAAAEg8+ugAAAD8AAIA+AAAAAEE78D4AAAA/AACAPgAAAABYOPA+AACAPwAAgD4AAAAALllSPwAAQD8AAAA/AAAAAJz7Gz8AAEA/AACAPwAAAAATNbs+AAAAPwAAQD8AAAAAZ2u0PgAAAAAAAEA/AAAAAOERszo=",
         "AACAPgAAgD4AAAAAe1xZPgAAgD4AAIA+AAAAAHtcWT4AAEA/AACAPgAAAAADaiA/AABAPwAAgD4AAAAAA2ogPwAAQD8AAEA/AAAAABxhBT8AAEA/AABAPwAAAAAcYQU/AACAPgAAQD8AAAAAutQDPgAAgD4AAEA/AAAAALrUAz4=",
         "AAAAAAAAAD8AAAAArfgOOwAAAD8AAAAAAAAAAASfAj8AAAA/AAAAPwAAAAALqd4+AACAPwAAAAAAAAAAJ8JkPwAAAD8AAAA/AAAAAIpy4z4AAIA/AACAPwAAAACcYe0+AAAAPwAAAD8AAAAA/77jPgAAAAAAAIA/AAAAAO1Nqjs="
        ],
        "autoscale": true,
        "deformation": false,
        "draw_surf": true,
        "draw_vol": false,
        "edges": [
         "AAAAPwAAAAAAAAAAAAAAAAAAgD8AAAAAAAAAAAAAAAAAAIA/AAAAPwAAAAAAAAAAAACAPwAAgD8AAAAAAAAAAAAAAD8AAIA/AAAAAAAAAAAAAAAAAACAPwAAAAAAAAAAAAAAAAAAAD8AAAAAAAAAAAAAAAAAAAAAAAAAAAAAAAA=",
         "AACAPgAAAAAAAAAAAAAAAAAAQD8AAAAAAAAAAAAAAAAAAIA/AACAPgAAAAAAAAAAAACAPwAAQD8AAAAAAAAAAAAAQD8AAIA/AAAAAAAAAAAAAIA+AACAPwAAAAAAAAAAAAAAAAAAQD8AAAAAAAAAAAAAAAAAAIA+AAAAAAAAAAA=",
         "AAAAAAAAAAAAAAAAAAAAAAAAAD8AAAAAAAAAAAAAAAAAAIA/AAAAAAAAAAAAAAAAAACAPwAAAD8AAAAAAAAAAAAAgD8AAIA/AAAAAAAAAAAAAAA/AACAPwAAAAAAAAAAAAAAAAAAgD8AAAAAAAAAAAAAAAAAAAA/AAAAAAAAAAA="
        ],
        "funcdim": 1,
        "funcmax": 0.8935875519891472,
        "funcmin": -0.0036316045322586435,
        "mesh_center": [
         0.5,
         0.5,
         0
        ],
        "mesh_dim": 2,
        "mesh_radius": 0.7071067811865476,
        "ngsolve_version": "6.2.2007",
        "order2d": 2,
        "order3d": 2,
        "show_mesh": true,
        "show_wireframe": true
       }
      }
     },
     "402e6459ca5d4c0a91815c7d892d0dcb": {
      "model_module": "@jupyter-widgets/base",
      "model_module_version": "1.2.0",
      "model_name": "LayoutModel",
      "state": {}
     },
     "7a29bef0b7b8432691a8d0312f48d5ab": {
      "model_module": "@jupyter-widgets/base",
      "model_module_version": "1.2.0",
      "model_name": "DOMWidgetModel",
      "state": {
       "_model_name": "DOMWidgetModel",
       "_view_module": "ngsolve_jupyter_widgets",
       "_view_module_version": "^2.0.0",
       "_view_name": "NGSolveView",
       "layout": "IPY_MODEL_a91b4edd0c1b4577a0da953afa952c29",
       "value": {
        "Bezier_points": [
         "AAAAAAAAAD8AAAAAlBexuwAAAAAAAAA/AAAAAJQXsbsAAAA/AAAAAAAAAAAvlAA/AAAAPwAAAAAAAAAAK5sDPwAAAD8AAAAAAAAAACubAz8AAIA/AAAAPwAAAACb5kQ/AACAPwAAAD8AAAAA7mJCPwAAgD8AAAA/AAAAAO5iQj8AAAA/AACAPwAAAADYN4M+AAAAPwAAgD8AAAAA6umVPgAAAD8AAIA/AAAAAOrplT4AAAAAAAAAPwAAAAAGifI8AAAAPwAAgD8AAAAAuU2CPgAAAD8AAIA/AAAAALlNgj4AAIA/AAAAPwAAAADPbEU/AAAAAAAAAD8AAAAAVlZYOgAAAAAAAAA/AAAAAFZWWDoAAAA/AACAPwAAAABtv6A+",
         "AAAAAAAAgD4AAAAA2Qj4uwAAgD4AAIA+AAAAAABkfj4AAIA+AAAAAAAAAAB2LHw+AABAPwAAAAAAAAAAkMwwPwAAQD8AAIA+AAAAAONAJD8AAIA/AACAPgAAAABIclE/AACAPwAAQD8AAAAAIb4cPwAAQD8AAEA/AAAAAG3/AT8AAEA/AACAPwAAAABBtbg+AACAPgAAgD8AAAAA1HYQPgAAgD4AAEA/AAAAAHsSJT4AAAAAAABAPwAAAACcVxs8AAAAPwAAAD8AAAAAHUXQPgAAQD8AAEA/AAAAANZJAz8AAEA/AACAPgAAAACIRSo/AACAPgAAgD4AAAAA9HWCPgAAgD4AAEA/AAAAAJgrIT4AAAA/AAAAPwAAAACVn9I+",
         "AAAAAAAAAAAAAAAAD30fvAAAAD8AAAAAAAAAAC+UAD8AAAAAAAAAAAAAAAAPfR+8AACAPwAAAAAAAAAA9v1dPwAAgD8AAAA/AAAAAJvmRD8AAIA/AAAAAAAAAAD2/V0/AACAPwAAgD8AAAAAqTLuPgAAAD8AAIA/AAAAANg3gz4AAIA/AACAPwAAAACpMu4+AAAAAAAAgD8AAAAA1WIuvAAAAAAAAAA/AAAAAAaJ8jwAAAAAAACAPwAAAADVYi68AAAAPwAAAAAAAAAAQR4PPwAAgD8AAAA/AAAAAM9sRT8AAAA/AAAAAAAAAABBHg8/AAAAPwAAAAAAAAAA3j8CPwAAAD8AAIA/AAAAAG2/oD4AAAA/AAAAAAAAAADePwI/"
        ],
        "Bezier_trig_points": [
         "AAAAAAAAAD8AAAAAlBexuwAAAD8AAAAAAAAAACubAz8AAIA/AAAAPwAAAADuYkI/AAAAPwAAgD8AAAAA6umVPgAAAD8AAIA/AAAAALlNgj4AAAAAAAAAPwAAAABWVlg6",
         "AAAAAAAAgD4AAAAA2Qj4uwAAQD8AAAAAAAAAAJDMMD8AAIA/AABAPwAAAAAhvhw/AACAPgAAgD8AAAAA1HYQPgAAAD8AAAA/AAAAAB1F0D4AAIA+AACAPgAAAAD0dYI+",
         "AAAAAAAAAAAAAAAAD30fvAAAgD8AAAAAAAAAAPb9XT8AAIA/AACAPwAAAACpMu4+AAAAAAAAgD8AAAAA1WIuvAAAAD8AAAAAAAAAAEEeDz8AAAA/AAAAAAAAAADePwI/",
         "AACAPgAAgD4AAAAAAGR+PgAAQD8AAIA+AAAAAONAJD8AAEA/AABAPwAAAABt/wE/AACAPgAAQD8AAAAAexIlPgAAQD8AAEA/AAAAANZJAz8AAIA+AABAPwAAAACYKyE+",
         "AACAPgAAAAAAAAAAdix8PgAAgD8AAIA+AAAAAEhyUT8AAEA/AACAPwAAAABBtbg+AAAAAAAAQD8AAAAAnFcbPAAAQD8AAIA+AAAAAIhFKj8AAAA/AAAAPwAAAACVn9I+",
         "AAAAPwAAAAAAAAAAL5QAPwAAgD8AAAA/AAAAAJvmRD8AAAA/AACAPwAAAADYN4M+AAAAAAAAAD8AAAAABonyPAAAgD8AAAA/AAAAAM9sRT8AAAA/AACAPwAAAABtv6A+"
        ],
        "autoscale": true,
        "deformation": false,
        "draw_surf": true,
        "draw_vol": false,
        "edges": [
         "AAAAPwAAAAAAAAAAAAAAAAAAgD8AAAAAAAAAAAAAAAAAAIA/AAAAPwAAAAAAAAAAAACAPwAAgD8AAAAAAAAAAAAAAD8AAIA/AAAAAAAAAAAAAAAAAACAPwAAAAAAAAAAAAAAAAAAAD8AAAAAAAAAAAAAAAAAAAAAAAAAAAAAAAA=",
         "AACAPgAAAAAAAAAAAAAAAAAAQD8AAAAAAAAAAAAAAAAAAIA/AACAPgAAAAAAAAAAAACAPwAAQD8AAAAAAAAAAAAAQD8AAIA/AAAAAAAAAAAAAIA+AACAPwAAAAAAAAAAAAAAAAAAQD8AAAAAAAAAAAAAAAAAAIA+AAAAAAAAAAA=",
         "AAAAAAAAAAAAAAAAAAAAAAAAAD8AAAAAAAAAAAAAAAAAAIA/AAAAAAAAAAAAAAAAAACAPwAAAD8AAAAAAAAAAAAAgD8AAIA/AAAAAAAAAAAAAAA/AACAPwAAAAAAAAAAAAAAAAAAgD8AAAAAAAAAAAAAAAAAAAA/AAAAAAAAAAA="
        ],
        "funcdim": 1,
        "funcmax": 0.8671563731700129,
        "funcmin": -0.01064368085444864,
        "mesh_center": [
         0.5,
         0.5,
         0
        ],
        "mesh_dim": 2,
        "mesh_radius": 0.7071067811865476,
        "ngsolve_version": "6.2.2007",
        "order2d": 2,
        "order3d": 2,
        "show_mesh": true,
        "show_wireframe": true
       }
      }
     },
     "8bd4db99771c42ddb1c0c81cf23530c6": {
      "model_module": "@jupyter-widgets/base",
      "model_module_version": "1.2.0",
      "model_name": "DOMWidgetModel",
      "state": {
       "_model_name": "DOMWidgetModel",
       "_view_module": "ngsolve_jupyter_widgets",
       "_view_module_version": "^2.0.0",
       "_view_name": "NGSolveView",
       "layout": "IPY_MODEL_9ce9b7a7bfca43e0b3716f47cc910785",
       "value": {
        "Bezier_points": [
         "AAAAAAAAAD8AAAAAfaB6uwAAAAAAAAA/AAAAAH2gersAAAA/AAAAAAAAAADiH/g+AAAAPwAAAAAAAAAANtj1PgAAAD8AAAAAAAAAADbY9T4AAIA/AAAAPwAAAABJAz0/AACAPwAAAD8AAAAAUkU+PwAAgD8AAAA/AAAAAFJFPj8AAAA/AACAPwAAAABUroI+AAAAPwAAgD8AAAAA6i6FPgAAAD8AAIA/AAAAAOouhT4AAAAAAAAAPwAAAACKvdm7AAAAPwAAgD8AAAAAqsGBPgAAAD8AAIA/AAAAAKrBgT4AAIA/AAAAPwAAAADVAT4/AAAAAAAAAD8AAAAAcu8TOwAAAAAAAAA/AAAAAHLvEzsAAAA/AACAPwAAAAAOG4c+",
         "AAAAAAAAgD4AAAAA7tzFOwAAgD4AAIA+AAAAAEd2dD4AAIA+AAAAAAAAAABbUYE+AABAPwAAAAAAAAAAbT0zPwAAQD8AAIA+AAAAAAqzND8AAIA/AACAPgAAAADXu1U/AACAPwAAQD8AAAAA2eggPwAAQD8AAEA/AAAAALmZ/j4AAEA/AACAPwAAAADjX8Q+AACAPgAAgD8AAAAAsI8IPgAAgD4AAEA/AAAAAJJlbT4AAAAAAABAPwAAAADKWW87AAAAPwAAAD8AAAAAyAjzPgAAQD8AAEA/AAAAAEBAAj8AAEA/AACAPgAAAAAE4DQ/AACAPgAAgD4AAAAAtHZoPgAAgD4AAEA/AAAAALvFXT4AAAA/AAAAPwAAAAAoq+U+",
         "AAAAAAAAAAAAAAAADTJ/uwAAAD8AAAAAAAAAAOIf+D4AAAAAAAAAAAAAAAANMn+7AACAPwAAAAAAAAAAxGNXPwAAgD8AAAA/AAAAAEkDPT8AAIA/AAAAAAAAAADEY1c/AACAPwAAgD8AAAAAdFzoPgAAAD8AAIA/AAAAAFSugj4AAIA/AACAPwAAAAB0XOg+AAAAAAAAgD8AAAAAsH+dOgAAAAAAAAA/AAAAAIq92bsAAAAAAACAPwAAAACwf506AAAAPwAAAAAAAAAADLn3PgAAgD8AAAA/AAAAANUBPj8AAAA/AAAAAAAAAAAMufc+AAAAPwAAAAAAAAAAXEr6PgAAAD8AAIA/AAAAAA4bhz4AAAA/AAAAAAAAAABcSvo+"
        ],
        "Bezier_trig_points": [
         "AAAAAAAAAD8AAAAAfaB6uwAAAD8AAAAAAAAAADbY9T4AAIA/AAAAPwAAAABSRT4/AAAAPwAAgD8AAAAA6i6FPgAAAD8AAIA/AAAAAKrBgT4AAAAAAAAAPwAAAABy7xM7",
         "AAAAAAAAgD4AAAAA7tzFOwAAQD8AAAAAAAAAAG09Mz8AAIA/AABAPwAAAADZ6CA/AACAPgAAgD8AAAAAsI8IPgAAAD8AAAA/AAAAAMgI8z4AAIA+AACAPgAAAAC0dmg+",
         "AAAAAAAAAAAAAAAADTJ/uwAAgD8AAAAAAAAAAMRjVz8AAIA/AACAPwAAAAB0XOg+AAAAAAAAgD8AAAAAsH+dOgAAAD8AAAAAAAAAAAy59z4AAAA/AAAAAAAAAABcSvo+",
         "AACAPgAAgD4AAAAAR3Z0PgAAQD8AAIA+AAAAAAqzND8AAEA/AABAPwAAAAC5mf4+AACAPgAAQD8AAAAAkmVtPgAAQD8AAEA/AAAAAEBAAj8AAIA+AABAPwAAAAC7xV0+",
         "AACAPgAAAAAAAAAAW1GBPgAAgD8AAIA+AAAAANe7VT8AAEA/AACAPwAAAADjX8Q+AAAAAAAAQD8AAAAAyllvOwAAQD8AAIA+AAAAAATgND8AAAA/AAAAPwAAAAAoq+U+",
         "AAAAPwAAAAAAAAAA4h/4PgAAgD8AAAA/AAAAAEkDPT8AAAA/AACAPwAAAABUroI+AAAAAAAAAD8AAAAAir3ZuwAAgD8AAAA/AAAAANUBPj8AAAA/AACAPwAAAAAOG4c+"
        ],
        "autoscale": true,
        "deformation": false,
        "draw_surf": true,
        "draw_vol": false,
        "edges": [
         "AAAAPwAAAAAAAAAAAAAAAAAAgD8AAAAAAAAAAAAAAAAAAIA/AAAAPwAAAAAAAAAAAACAPwAAgD8AAAAAAAAAAAAAAD8AAIA/AAAAAAAAAAAAAAAAAACAPwAAAAAAAAAAAAAAAAAAAD8AAAAAAAAAAAAAAAAAAAAAAAAAAAAAAAA=",
         "AACAPgAAAAAAAAAAAAAAAAAAQD8AAAAAAAAAAAAAAAAAAIA/AACAPgAAAAAAAAAAAACAPwAAQD8AAAAAAAAAAAAAQD8AAIA/AAAAAAAAAAAAAIA+AACAPwAAAAAAAAAAAAAAAAAAQD8AAAAAAAAAAAAAAAAAAIA+AAAAAAAAAAA=",
         "AAAAAAAAAAAAAAAAAAAAAAAAAD8AAAAAAAAAAAAAAAAAAIA/AAAAAAAAAAAAAAAAAACAPwAAAD8AAAAAAAAAAAAAgD8AAIA/AAAAAAAAAAAAAAA/AACAPwAAAAAAAAAAAAAAAAAAgD8AAAAAAAAAAAAAAAAAAAA/AAAAAAAAAAA="
        ],
        "funcdim": 1,
        "funcmax": 0.8413660603973435,
        "funcmin": -0.006644909038169826,
        "mesh_center": [
         0.5,
         0.5,
         0
        ],
        "mesh_dim": 2,
        "mesh_radius": 0.7071067811865476,
        "ngsolve_version": "6.2.2007",
        "order2d": 2,
        "order3d": 2,
        "show_mesh": true,
        "show_wireframe": true
       }
      }
     },
     "9ce9b7a7bfca43e0b3716f47cc910785": {
      "model_module": "@jupyter-widgets/base",
      "model_module_version": "1.2.0",
      "model_name": "LayoutModel",
      "state": {}
     },
     "a91b4edd0c1b4577a0da953afa952c29": {
      "model_module": "@jupyter-widgets/base",
      "model_module_version": "1.2.0",
      "model_name": "LayoutModel",
      "state": {}
     },
     "e79344adf41b497f969131b990875ba4": {
      "model_module": "@jupyter-widgets/base",
      "model_module_version": "1.2.0",
      "model_name": "DOMWidgetModel",
      "state": {
       "_model_name": "DOMWidgetModel",
       "_view_module": "ngsolve_jupyter_widgets",
       "_view_module_version": "^2.0.0",
       "_view_name": "NGSolveView",
       "layout": "IPY_MODEL_f38241e95d594871b1a9e56c7da442e5",
       "value": {
        "Bezier_points": [
         "AAAAAAAAAD8AAAAAfaB6uwAAAAAAAAA/AAAAAH2gersAAAA/AAAAAAAAAADiH/g+AAAAPwAAAAAAAAAANtj1PgAAAD8AAAAAAAAAADbY9T4AAIA/AAAAPwAAAABJAz0/AACAPwAAAD8AAAAAUkU+PwAAgD8AAAA/AAAAAFJFPj8AAAA/AACAPwAAAABUroI+AAAAPwAAgD8AAAAA6i6FPgAAAD8AAIA/AAAAAOouhT4AAAAAAAAAPwAAAACKvdm7AAAAPwAAgD8AAAAAqsGBPgAAAD8AAIA/AAAAAKrBgT4AAIA/AAAAPwAAAADVAT4/AAAAAAAAAD8AAAAAcu8TOwAAAAAAAAA/AAAAAHLvEzsAAAA/AACAPwAAAAAOG4c+",
         "AAAAAAAAgD4AAAAA7tzFOwAAgD4AAIA+AAAAAEd2dD4AAIA+AAAAAAAAAABbUYE+AABAPwAAAAAAAAAAbT0zPwAAQD8AAIA+AAAAAAqzND8AAIA/AACAPgAAAADXu1U/AACAPwAAQD8AAAAA2eggPwAAQD8AAEA/AAAAALmZ/j4AAEA/AACAPwAAAADjX8Q+AACAPgAAgD8AAAAAsI8IPgAAgD4AAEA/AAAAAJJlbT4AAAAAAABAPwAAAADKWW87AAAAPwAAAD8AAAAAyAjzPgAAQD8AAEA/AAAAAEBAAj8AAEA/AACAPgAAAAAE4DQ/AACAPgAAgD4AAAAAtHZoPgAAgD4AAEA/AAAAALvFXT4AAAA/AAAAPwAAAAAoq+U+",
         "AAAAAAAAAAAAAAAADTJ/uwAAAD8AAAAAAAAAAOIf+D4AAAAAAAAAAAAAAAANMn+7AACAPwAAAAAAAAAAxGNXPwAAgD8AAAA/AAAAAEkDPT8AAIA/AAAAAAAAAADEY1c/AACAPwAAgD8AAAAAdFzoPgAAAD8AAIA/AAAAAFSugj4AAIA/AACAPwAAAAB0XOg+AAAAAAAAgD8AAAAAsH+dOgAAAAAAAAA/AAAAAIq92bsAAAAAAACAPwAAAACwf506AAAAPwAAAAAAAAAADLn3PgAAgD8AAAA/AAAAANUBPj8AAAA/AAAAAAAAAAAMufc+AAAAPwAAAAAAAAAAXEr6PgAAAD8AAIA/AAAAAA4bhz4AAAA/AAAAAAAAAABcSvo+"
        ],
        "Bezier_trig_points": [
         "AAAAAAAAAD8AAAAAfaB6uwAAAD8AAAAAAAAAADbY9T4AAIA/AAAAPwAAAABSRT4/AAAAPwAAgD8AAAAA6i6FPgAAAD8AAIA/AAAAAKrBgT4AAAAAAAAAPwAAAABy7xM7",
         "AAAAAAAAgD4AAAAA7tzFOwAAQD8AAAAAAAAAAG09Mz8AAIA/AABAPwAAAADZ6CA/AACAPgAAgD8AAAAAsI8IPgAAAD8AAAA/AAAAAMgI8z4AAIA+AACAPgAAAAC0dmg+",
         "AAAAAAAAAAAAAAAADTJ/uwAAgD8AAAAAAAAAAMRjVz8AAIA/AACAPwAAAAB0XOg+AAAAAAAAgD8AAAAAsH+dOgAAAD8AAAAAAAAAAAy59z4AAAA/AAAAAAAAAABcSvo+",
         "AACAPgAAgD4AAAAAR3Z0PgAAQD8AAIA+AAAAAAqzND8AAEA/AABAPwAAAAC5mf4+AACAPgAAQD8AAAAAkmVtPgAAQD8AAEA/AAAAAEBAAj8AAIA+AABAPwAAAAC7xV0+",
         "AACAPgAAAAAAAAAAW1GBPgAAgD8AAIA+AAAAANe7VT8AAEA/AACAPwAAAADjX8Q+AAAAAAAAQD8AAAAAyllvOwAAQD8AAIA+AAAAAATgND8AAAA/AAAAPwAAAAAoq+U+",
         "AAAAPwAAAAAAAAAA4h/4PgAAgD8AAAA/AAAAAEkDPT8AAAA/AACAPwAAAABUroI+AAAAAAAAAD8AAAAAir3ZuwAAgD8AAAA/AAAAANUBPj8AAAA/AACAPwAAAAAOG4c+"
        ],
        "autoscale": true,
        "deformation": false,
        "draw_surf": true,
        "draw_vol": false,
        "edges": [
         "AAAAPwAAAAAAAAAAAAAAAAAAgD8AAAAAAAAAAAAAAAAAAIA/AAAAPwAAAAAAAAAAAACAPwAAgD8AAAAAAAAAAAAAAD8AAIA/AAAAAAAAAAAAAAAAAACAPwAAAAAAAAAAAAAAAAAAAD8AAAAAAAAAAAAAAAAAAAAAAAAAAAAAAAA=",
         "AACAPgAAAAAAAAAAAAAAAAAAQD8AAAAAAAAAAAAAAAAAAIA/AACAPgAAAAAAAAAAAACAPwAAQD8AAAAAAAAAAAAAQD8AAIA/AAAAAAAAAAAAAIA+AACAPwAAAAAAAAAAAAAAAAAAQD8AAAAAAAAAAAAAAAAAAIA+AAAAAAAAAAA=",
         "AAAAAAAAAAAAAAAAAAAAAAAAAD8AAAAAAAAAAAAAAAAAAIA/AAAAAAAAAAAAAAAAAACAPwAAAD8AAAAAAAAAAAAAgD8AAIA/AAAAAAAAAAAAAAA/AACAPwAAAAAAAAAAAAAAAAAAgD8AAAAAAAAAAAAAAAAAAAA/AAAAAAAAAAA="
        ],
        "funcdim": 1,
        "funcmax": 0.8413660603973435,
        "funcmin": -0.006644909038169826,
        "mesh_center": [
         0.5,
         0.5,
         0
        ],
        "mesh_dim": 2,
        "mesh_radius": 0.7071067811865476,
        "ngsolve_version": "6.2.2007",
        "order2d": 2,
        "order3d": 2,
        "show_mesh": true,
        "show_wireframe": true
       }
      }
     },
     "f38241e95d594871b1a9e56c7da442e5": {
      "model_module": "@jupyter-widgets/base",
      "model_module_version": "1.2.0",
      "model_name": "LayoutModel",
      "state": {}
     },
     "fda5ede4fd294369ab9eab70157dddf0": {
      "model_module": "@jupyter-widgets/base",
      "model_module_version": "1.2.0",
      "model_name": "DOMWidgetModel",
      "state": {
       "_model_name": "DOMWidgetModel",
       "_view_module": "ngsolve_jupyter_widgets",
       "_view_module_version": "^2.0.0",
       "_view_name": "NGSolveView",
       "layout": "IPY_MODEL_04e1cd957ef942a4b28f35e681cb2b85",
       "value": {
        "Bezier_points": [
         "AAAAAAAAAD8AAAAAlBexuwAAAAAAAAA/AAAAAJQXsbsAAAA/AAAAAAAAAAAvlAA/AAAAPwAAAAAAAAAAK5sDPwAAAD8AAAAAAAAAACubAz8AAIA/AAAAPwAAAACb5kQ/AACAPwAAAD8AAAAA7mJCPwAAgD8AAAA/AAAAAO5iQj8AAAA/AACAPwAAAADYN4M+AAAAPwAAgD8AAAAA6umVPgAAAD8AAIA/AAAAAOrplT4AAAAAAAAAPwAAAAAGifI8AAAAPwAAgD8AAAAAuU2CPgAAAD8AAIA/AAAAALlNgj4AAIA/AAAAPwAAAADPbEU/AAAAAAAAAD8AAAAAVlZYOgAAAAAAAAA/AAAAAFZWWDoAAAA/AACAPwAAAABtv6A+",
         "AAAAAAAAgD4AAAAA2Qj4uwAAgD4AAIA+AAAAAABkfj4AAIA+AAAAAAAAAAB2LHw+AABAPwAAAAAAAAAAkMwwPwAAQD8AAIA+AAAAAONAJD8AAIA/AACAPgAAAABIclE/AACAPwAAQD8AAAAAIb4cPwAAQD8AAEA/AAAAAG3/AT8AAEA/AACAPwAAAABBtbg+AACAPgAAgD8AAAAA1HYQPgAAgD4AAEA/AAAAAHsSJT4AAAAAAABAPwAAAACcVxs8AAAAPwAAAD8AAAAAHUXQPgAAQD8AAEA/AAAAANZJAz8AAEA/AACAPgAAAACIRSo/AACAPgAAgD4AAAAA9HWCPgAAgD4AAEA/AAAAAJgrIT4AAAA/AAAAPwAAAACVn9I+",
         "AAAAAAAAAAAAAAAAD30fvAAAAD8AAAAAAAAAAC+UAD8AAAAAAAAAAAAAAAAPfR+8AACAPwAAAAAAAAAA9v1dPwAAgD8AAAA/AAAAAJvmRD8AAIA/AAAAAAAAAAD2/V0/AACAPwAAgD8AAAAAqTLuPgAAAD8AAIA/AAAAANg3gz4AAIA/AACAPwAAAACpMu4+AAAAAAAAgD8AAAAA1WIuvAAAAAAAAAA/AAAAAAaJ8jwAAAAAAACAPwAAAADVYi68AAAAPwAAAAAAAAAAQR4PPwAAgD8AAAA/AAAAAM9sRT8AAAA/AAAAAAAAAABBHg8/AAAAPwAAAAAAAAAA3j8CPwAAAD8AAIA/AAAAAG2/oD4AAAA/AAAAAAAAAADePwI/"
        ],
        "Bezier_trig_points": [
         "AAAAAAAAAD8AAAAAlBexuwAAAD8AAAAAAAAAACubAz8AAIA/AAAAPwAAAADuYkI/AAAAPwAAgD8AAAAA6umVPgAAAD8AAIA/AAAAALlNgj4AAAAAAAAAPwAAAABWVlg6",
         "AAAAAAAAgD4AAAAA2Qj4uwAAQD8AAAAAAAAAAJDMMD8AAIA/AABAPwAAAAAhvhw/AACAPgAAgD8AAAAA1HYQPgAAAD8AAAA/AAAAAB1F0D4AAIA+AACAPgAAAAD0dYI+",
         "AAAAAAAAAAAAAAAAD30fvAAAgD8AAAAAAAAAAPb9XT8AAIA/AACAPwAAAACpMu4+AAAAAAAAgD8AAAAA1WIuvAAAAD8AAAAAAAAAAEEeDz8AAAA/AAAAAAAAAADePwI/",
         "AACAPgAAgD4AAAAAAGR+PgAAQD8AAIA+AAAAAONAJD8AAEA/AABAPwAAAABt/wE/AACAPgAAQD8AAAAAexIlPgAAQD8AAEA/AAAAANZJAz8AAIA+AABAPwAAAACYKyE+",
         "AACAPgAAAAAAAAAAdix8PgAAgD8AAIA+AAAAAEhyUT8AAEA/AACAPwAAAABBtbg+AAAAAAAAQD8AAAAAnFcbPAAAQD8AAIA+AAAAAIhFKj8AAAA/AAAAPwAAAACVn9I+",
         "AAAAPwAAAAAAAAAAL5QAPwAAgD8AAAA/AAAAAJvmRD8AAAA/AACAPwAAAADYN4M+AAAAAAAAAD8AAAAABonyPAAAgD8AAAA/AAAAAM9sRT8AAAA/AACAPwAAAABtv6A+"
        ],
        "autoscale": true,
        "deformation": false,
        "draw_surf": true,
        "draw_vol": false,
        "edges": [
         "AAAAPwAAAAAAAAAAAAAAAAAAgD8AAAAAAAAAAAAAAAAAAIA/AAAAPwAAAAAAAAAAAACAPwAAgD8AAAAAAAAAAAAAAD8AAIA/AAAAAAAAAAAAAAAAAACAPwAAAAAAAAAAAAAAAAAAAD8AAAAAAAAAAAAAAAAAAAAAAAAAAAAAAAA=",
         "AACAPgAAAAAAAAAAAAAAAAAAQD8AAAAAAAAAAAAAAAAAAIA/AACAPgAAAAAAAAAAAACAPwAAQD8AAAAAAAAAAAAAQD8AAIA/AAAAAAAAAAAAAIA+AACAPwAAAAAAAAAAAAAAAAAAQD8AAAAAAAAAAAAAAAAAAIA+AAAAAAAAAAA=",
         "AAAAAAAAAAAAAAAAAAAAAAAAAD8AAAAAAAAAAAAAAAAAAIA/AAAAAAAAAAAAAAAAAACAPwAAAD8AAAAAAAAAAAAAgD8AAIA/AAAAAAAAAAAAAAA/AACAPwAAAAAAAAAAAAAAAAAAgD8AAAAAAAAAAAAAAAAAAAA/AAAAAAAAAAA="
        ],
        "funcdim": 1,
        "funcmax": 0.8671563731700129,
        "funcmin": -0.01064368085444864,
        "mesh_center": [
         0.5,
         0.5,
         0
        ],
        "mesh_dim": 2,
        "mesh_radius": 0.7071067811865476,
        "ngsolve_version": "6.2.2007",
        "order2d": 2,
        "order3d": 2,
        "show_mesh": true,
        "show_wireframe": true
       }
      }
     }
    },
    "version_major": 2,
    "version_minor": 0
   }
  }
 },
 "nbformat": 4,
 "nbformat_minor": 4
}
